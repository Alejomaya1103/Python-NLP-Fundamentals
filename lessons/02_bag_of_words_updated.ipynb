{
 "cells": [
  {
   "cell_type": "markdown",
   "id": "2ffcdc86-76ef-453f-a162-7741c9c23b8c",
   "metadata": {},
   "source": [
    "# Python Text Analysis Part 2: Bag of Words\n",
    "\n",
    "* * * \n",
    "\n",
    "<div class=\"alert alert-success\">  \n",
    "    \n",
    "### Learning Objectives \n",
    "    \n",
    "* Learn how to convert text data to a frequency matrix.\n",
    "* Understand how TF-IDF complements the Bag-of-Words representation.\n",
    "* Understand parameter settings of a vectorizer.\n",
    "* Apply sentiment classification to vectorized text data.\n",
    "</div>\n",
    "\n",
    "### Icons Used in This Notebook\n",
    "🔔 **Question**: A quick question to help you understand what's going on.<br>\n",
    "🥊 **Challenge**: Interactive excersise. We'll work through these in the workshop!<br>\n",
    "\n",
    "### Sections\n",
    "1. [Exploratory Data Analysis](#section1)\n",
    "2. [Preprocessing](#section2)\n",
    "3. [The Bag-of-Words Representation](#section3)\n",
    "4. [Term Frequency-Inverse Document Frequency](#section4)\n",
    "5. [Sentiment Classification](#section5)"
   ]
  },
  {
   "cell_type": "code",
   "execution_count": 2,
   "id": "9e4a3a0d-66f4-44e5-8dd6-5f441146014d",
   "metadata": {
    "scrolled": true,
    "tags": []
   },
   "outputs": [],
   "source": [
    "# Uncomment to install the following packages\n",
    "# %pip install NLTK\n",
    "# %pip install spaCy\n",
    "# !python -m spacy download en_core_web_sm\n",
    "# %pip install scikit-learn"
   ]
  },
  {
   "cell_type": "code",
   "execution_count": 3,
   "id": "f3862ffd-918f-4184-8c90-8a39a8a2a069",
   "metadata": {},
   "outputs": [],
   "source": [
    "# Import other packages\n",
    "import re\n",
    "import numpy as np\n",
    "import pandas as pd\n",
    "import matplotlib.pyplot as plt\n",
    "import seaborn as sns\n",
    "from string import punctuation\n",
    "%matplotlib inline"
   ]
  },
  {
   "cell_type": "markdown",
   "id": "880e8a36-bd58-4c24-8593-03a0ea70deed",
   "metadata": {},
   "source": [
    "In the previous part, we learned how to perform preprocessing NLP packages. However, we didn't move beyond the text data itself. If we're interested in doing any computational analysis on the text data, we'll need to devise approaches to convert the text into a **numeric representation**.\n",
    "\n",
    "In Part 2 of our workshop series, we'll explore one of the most straightforward ways to generate a numeric representation from text: the **bag-of-words** (BoW). We will implement the BoW representation to transform our airline tweets data into numerical representation, and then biuld a classifier to explore what does it tell us about the sentiment of the tweets. At the heart of the bag-of-words approach lies the assumption that the frequency of specific tokens is informative about the semantics and sentiment underlying the text.\n",
    "\n",
    "We'll make heavy use of the `scikit-learn` package to do so, as it provides a nice framework for constructing the numeric representations."
   ]
  },
  {
   "cell_type": "markdown",
   "id": "852ea4a5-7c28-4557-acdd-afe8a97b7235",
   "metadata": {},
   "source": [
    "<a id='section1'></a>\n",
    "\n",
    "# Exploratory Data Analysis\n",
    "\n",
    "Before we ever do any preprocessing or modeling, we always should do some exploratory data analysis to get a feel for the dataset.\n",
    "\n",
    "First, let's take a look at the first few rows and all the columns:"
   ]
  },
  {
   "cell_type": "code",
   "execution_count": 4,
   "id": "4190e351-97b7-4c5b-866e-07aa6cbd42c2",
   "metadata": {},
   "outputs": [],
   "source": [
    "# Load dataset in\n",
    "tweets_path = '../data/airline_tweets.csv'\n",
    "tweets = pd.read_csv(tweets_path, sep=',')"
   ]
  },
  {
   "cell_type": "code",
   "execution_count": 5,
   "id": "79acbaf2-6625-4abb-b50f-97ea54ba0d11",
   "metadata": {},
   "outputs": [
    {
     "data": {
      "text/html": [
       "<div>\n",
       "<style scoped>\n",
       "    .dataframe tbody tr th:only-of-type {\n",
       "        vertical-align: middle;\n",
       "    }\n",
       "\n",
       "    .dataframe tbody tr th {\n",
       "        vertical-align: top;\n",
       "    }\n",
       "\n",
       "    .dataframe thead th {\n",
       "        text-align: right;\n",
       "    }\n",
       "</style>\n",
       "<table border=\"1\" class=\"dataframe\">\n",
       "  <thead>\n",
       "    <tr style=\"text-align: right;\">\n",
       "      <th></th>\n",
       "      <th>tweet_id</th>\n",
       "      <th>airline_sentiment</th>\n",
       "      <th>airline_sentiment_confidence</th>\n",
       "      <th>negativereason</th>\n",
       "      <th>negativereason_confidence</th>\n",
       "      <th>airline</th>\n",
       "      <th>airline_sentiment_gold</th>\n",
       "      <th>name</th>\n",
       "      <th>negativereason_gold</th>\n",
       "      <th>retweet_count</th>\n",
       "      <th>text</th>\n",
       "      <th>tweet_coord</th>\n",
       "      <th>tweet_created</th>\n",
       "      <th>tweet_location</th>\n",
       "      <th>user_timezone</th>\n",
       "    </tr>\n",
       "  </thead>\n",
       "  <tbody>\n",
       "    <tr>\n",
       "      <th>0</th>\n",
       "      <td>570306133677760513</td>\n",
       "      <td>neutral</td>\n",
       "      <td>1.0000</td>\n",
       "      <td>NaN</td>\n",
       "      <td>NaN</td>\n",
       "      <td>Virgin America</td>\n",
       "      <td>NaN</td>\n",
       "      <td>cairdin</td>\n",
       "      <td>NaN</td>\n",
       "      <td>0</td>\n",
       "      <td>@VirginAmerica What @dhepburn said.</td>\n",
       "      <td>NaN</td>\n",
       "      <td>2015-02-24 11:35:52 -0800</td>\n",
       "      <td>NaN</td>\n",
       "      <td>Eastern Time (US &amp; Canada)</td>\n",
       "    </tr>\n",
       "    <tr>\n",
       "      <th>1</th>\n",
       "      <td>570301130888122368</td>\n",
       "      <td>positive</td>\n",
       "      <td>0.3486</td>\n",
       "      <td>NaN</td>\n",
       "      <td>0.0000</td>\n",
       "      <td>Virgin America</td>\n",
       "      <td>NaN</td>\n",
       "      <td>jnardino</td>\n",
       "      <td>NaN</td>\n",
       "      <td>0</td>\n",
       "      <td>@VirginAmerica plus you've added commercials t...</td>\n",
       "      <td>NaN</td>\n",
       "      <td>2015-02-24 11:15:59 -0800</td>\n",
       "      <td>NaN</td>\n",
       "      <td>Pacific Time (US &amp; Canada)</td>\n",
       "    </tr>\n",
       "    <tr>\n",
       "      <th>2</th>\n",
       "      <td>570301083672813571</td>\n",
       "      <td>neutral</td>\n",
       "      <td>0.6837</td>\n",
       "      <td>NaN</td>\n",
       "      <td>NaN</td>\n",
       "      <td>Virgin America</td>\n",
       "      <td>NaN</td>\n",
       "      <td>yvonnalynn</td>\n",
       "      <td>NaN</td>\n",
       "      <td>0</td>\n",
       "      <td>@VirginAmerica I didn't today... Must mean I n...</td>\n",
       "      <td>NaN</td>\n",
       "      <td>2015-02-24 11:15:48 -0800</td>\n",
       "      <td>Lets Play</td>\n",
       "      <td>Central Time (US &amp; Canada)</td>\n",
       "    </tr>\n",
       "    <tr>\n",
       "      <th>3</th>\n",
       "      <td>570301031407624196</td>\n",
       "      <td>negative</td>\n",
       "      <td>1.0000</td>\n",
       "      <td>Bad Flight</td>\n",
       "      <td>0.7033</td>\n",
       "      <td>Virgin America</td>\n",
       "      <td>NaN</td>\n",
       "      <td>jnardino</td>\n",
       "      <td>NaN</td>\n",
       "      <td>0</td>\n",
       "      <td>@VirginAmerica it's really aggressive to blast...</td>\n",
       "      <td>NaN</td>\n",
       "      <td>2015-02-24 11:15:36 -0800</td>\n",
       "      <td>NaN</td>\n",
       "      <td>Pacific Time (US &amp; Canada)</td>\n",
       "    </tr>\n",
       "    <tr>\n",
       "      <th>4</th>\n",
       "      <td>570300817074462722</td>\n",
       "      <td>negative</td>\n",
       "      <td>1.0000</td>\n",
       "      <td>Can't Tell</td>\n",
       "      <td>1.0000</td>\n",
       "      <td>Virgin America</td>\n",
       "      <td>NaN</td>\n",
       "      <td>jnardino</td>\n",
       "      <td>NaN</td>\n",
       "      <td>0</td>\n",
       "      <td>@VirginAmerica and it's a really big bad thing...</td>\n",
       "      <td>NaN</td>\n",
       "      <td>2015-02-24 11:14:45 -0800</td>\n",
       "      <td>NaN</td>\n",
       "      <td>Pacific Time (US &amp; Canada)</td>\n",
       "    </tr>\n",
       "  </tbody>\n",
       "</table>\n",
       "</div>"
      ],
      "text/plain": [
       "             tweet_id airline_sentiment  airline_sentiment_confidence  \\\n",
       "0  570306133677760513           neutral                        1.0000   \n",
       "1  570301130888122368          positive                        0.3486   \n",
       "2  570301083672813571           neutral                        0.6837   \n",
       "3  570301031407624196          negative                        1.0000   \n",
       "4  570300817074462722          negative                        1.0000   \n",
       "\n",
       "  negativereason  negativereason_confidence         airline  \\\n",
       "0            NaN                        NaN  Virgin America   \n",
       "1            NaN                     0.0000  Virgin America   \n",
       "2            NaN                        NaN  Virgin America   \n",
       "3     Bad Flight                     0.7033  Virgin America   \n",
       "4     Can't Tell                     1.0000  Virgin America   \n",
       "\n",
       "  airline_sentiment_gold        name negativereason_gold  retweet_count  \\\n",
       "0                    NaN     cairdin                 NaN              0   \n",
       "1                    NaN    jnardino                 NaN              0   \n",
       "2                    NaN  yvonnalynn                 NaN              0   \n",
       "3                    NaN    jnardino                 NaN              0   \n",
       "4                    NaN    jnardino                 NaN              0   \n",
       "\n",
       "                                                text tweet_coord  \\\n",
       "0                @VirginAmerica What @dhepburn said.         NaN   \n",
       "1  @VirginAmerica plus you've added commercials t...         NaN   \n",
       "2  @VirginAmerica I didn't today... Must mean I n...         NaN   \n",
       "3  @VirginAmerica it's really aggressive to blast...         NaN   \n",
       "4  @VirginAmerica and it's a really big bad thing...         NaN   \n",
       "\n",
       "               tweet_created tweet_location               user_timezone  \n",
       "0  2015-02-24 11:35:52 -0800            NaN  Eastern Time (US & Canada)  \n",
       "1  2015-02-24 11:15:59 -0800            NaN  Pacific Time (US & Canada)  \n",
       "2  2015-02-24 11:15:48 -0800      Lets Play  Central Time (US & Canada)  \n",
       "3  2015-02-24 11:15:36 -0800            NaN  Pacific Time (US & Canada)  \n",
       "4  2015-02-24 11:14:45 -0800            NaN  Pacific Time (US & Canada)  "
      ]
     },
     "execution_count": 5,
     "metadata": {},
     "output_type": "execute_result"
    }
   ],
   "source": [
    "tweets.head()"
   ]
  },
  {
   "cell_type": "markdown",
   "id": "80232c78-ac41-4d74-a581-76c9dac3b8f6",
   "metadata": {},
   "source": [
    "As a refresher, each row in this dataframe correponds to a tweet. The following columns are of main interests to us:\n",
    "\n",
    "- `text` (`str`): the text of the tweet.\n",
    "- `airline_sentiment` (`str`): sentiment of the tweet, labeled as \"neutral\", \"positive\", or \"negative\". \n",
    "- `airline` (`str`): the airline that is tweeted about.\n",
    "- `retweet count` (`int`): how many times the tweet was retweeted.\n",
    "\n",
    "There are other columns indicating metadata of the tweet, such as the author of the tweet, when it was created, the timezone of the user, and others, which we will set aside for now. \n",
    "\n",
    "Let's take a look at a few tweets first!"
   ]
  },
  {
   "cell_type": "code",
   "execution_count": 6,
   "id": "438830e6-1064-47fe-b578-a1ca693a0ed0",
   "metadata": {},
   "outputs": [
    {
     "name": "stdout",
     "output_type": "stream",
     "text": [
      "@VirginAmerica What @dhepburn said.\n",
      "@VirginAmerica plus you've added commercials to the experience... tacky.\n",
      "@VirginAmerica I didn't today... Must mean I need to take another trip!\n",
      "@VirginAmerica it's really aggressive to blast obnoxious \"entertainment\" in your guests' faces &amp; they have little recourse\n",
      "@VirginAmerica and it's a really big bad thing about it\n"
     ]
    }
   ],
   "source": [
    "# Print first five tweets\n",
    "for idx in range(5):\n",
    "    print(tweets['text'].iloc[idx])"
   ]
  },
  {
   "cell_type": "markdown",
   "id": "0d6746f8-b29c-40d4-bef6-b4afd4cd6cc1",
   "metadata": {},
   "source": [
    "We can already see that some of these tweets contain negative sentiment---how can we tell this is the case? \n",
    "\n",
    "Next, let's take a look at which airlines are tweeted about and how many of each in this dataset:"
   ]
  },
  {
   "cell_type": "code",
   "execution_count": 7,
   "id": "01955158-6954-447a-acb6-2989d02a49c3",
   "metadata": {},
   "outputs": [
    {
     "data": {
      "image/png": "[encoded data removed]",
      "text/plain": [
       "<Figure size 640x480 with 1 Axes>"
      ]
     },
     "metadata": {},
     "output_type": "display_data"
    }
   ],
   "source": [
    "# Make a bar plot showing the count of tweet sentiments\n",
    "sns.countplot(data=tweets,\n",
    "              x='airline_sentiment', \n",
    "              color='cornflowerblue',\n",
    "              order=['positive', 'neutral', 'negative']);"
   ]
  },
  {
   "cell_type": "markdown",
   "id": "eab45abf-adf4-4f5e-ae09-75f6c4fd50d1",
   "metadata": {},
   "source": [
    "It looks like the majority of the tweets we have in this dataset are expressing negative sentiment!\n",
    "\n",
    "Let's take a look at what gets more retweeted:"
   ]
  },
  {
   "cell_type": "code",
   "execution_count": 8,
   "id": "428ddde7-af73-4eb6-92c9-041a1791ca59",
   "metadata": {},
   "outputs": [
    {
     "data": {
      "text/plain": [
       "airline_sentiment\n",
       "negative    0.093375\n",
       "neutral     0.060987\n",
       "positive    0.069403\n",
       "Name: retweet_count, dtype: float64"
      ]
     },
     "execution_count": 8,
     "metadata": {},
     "output_type": "execute_result"
    }
   ],
   "source": [
    "# Get the mean retweet count for each sentiment\n",
    "tweets.groupby('airline_sentiment')['retweet_count'].mean()"
   ]
  },
  {
   "cell_type": "markdown",
   "id": "0d31f3bc-257c-48a8-86a0-fd0d7c3e8cb3",
   "metadata": {},
   "source": [
    "Negative tweets are clearly retweeted more often than tweets having neutral or positive sentiments.\n",
    "\n",
    "Let's see which airline receives most negative tweets:"
   ]
  },
  {
   "cell_type": "code",
   "execution_count": 9,
   "id": "12aa9f2d-d655-494a-bb72-08ad973518f3",
   "metadata": {},
   "outputs": [
    {
     "data": {
      "text/html": [
       "<div>\n",
       "<style scoped>\n",
       "    .dataframe tbody tr th:only-of-type {\n",
       "        vertical-align: middle;\n",
       "    }\n",
       "\n",
       "    .dataframe tbody tr th {\n",
       "        vertical-align: top;\n",
       "    }\n",
       "\n",
       "    .dataframe thead th {\n",
       "        text-align: right;\n",
       "    }\n",
       "</style>\n",
       "<table border=\"1\" class=\"dataframe\">\n",
       "  <thead>\n",
       "    <tr style=\"text-align: right;\">\n",
       "      <th>airline_sentiment</th>\n",
       "      <th>negative</th>\n",
       "      <th>neutral</th>\n",
       "      <th>positive</th>\n",
       "    </tr>\n",
       "    <tr>\n",
       "      <th>airline</th>\n",
       "      <th></th>\n",
       "      <th></th>\n",
       "      <th></th>\n",
       "    </tr>\n",
       "  </thead>\n",
       "  <tbody>\n",
       "    <tr>\n",
       "      <th>US Airways</th>\n",
       "      <td>0.776862</td>\n",
       "      <td>0.130793</td>\n",
       "      <td>0.092345</td>\n",
       "    </tr>\n",
       "    <tr>\n",
       "      <th>American</th>\n",
       "      <td>0.710402</td>\n",
       "      <td>0.167814</td>\n",
       "      <td>0.121783</td>\n",
       "    </tr>\n",
       "    <tr>\n",
       "      <th>United</th>\n",
       "      <td>0.688906</td>\n",
       "      <td>0.182365</td>\n",
       "      <td>0.128728</td>\n",
       "    </tr>\n",
       "    <tr>\n",
       "      <th>Southwest</th>\n",
       "      <td>0.490083</td>\n",
       "      <td>0.274380</td>\n",
       "      <td>0.235537</td>\n",
       "    </tr>\n",
       "    <tr>\n",
       "      <th>Delta</th>\n",
       "      <td>0.429793</td>\n",
       "      <td>0.325383</td>\n",
       "      <td>0.244824</td>\n",
       "    </tr>\n",
       "    <tr>\n",
       "      <th>Virgin America</th>\n",
       "      <td>0.359127</td>\n",
       "      <td>0.339286</td>\n",
       "      <td>0.301587</td>\n",
       "    </tr>\n",
       "  </tbody>\n",
       "</table>\n",
       "</div>"
      ],
      "text/plain": [
       "airline_sentiment  negative   neutral  positive\n",
       "airline                                        \n",
       "US Airways         0.776862  0.130793  0.092345\n",
       "American           0.710402  0.167814  0.121783\n",
       "United             0.688906  0.182365  0.128728\n",
       "Southwest          0.490083  0.274380  0.235537\n",
       "Delta              0.429793  0.325383  0.244824\n",
       "Virgin America     0.359127  0.339286  0.301587"
      ]
     },
     "execution_count": 9,
     "metadata": {},
     "output_type": "execute_result"
    }
   ],
   "source": [
    "# Get the proportion of negative tweets by airline\n",
    "proportions = tweets.groupby(['airline', 'airline_sentiment']).size() / tweets.groupby('airline').size()\n",
    "proportions.unstack().sort_values('negative', ascending=False)"
   ]
  },
  {
   "cell_type": "markdown",
   "id": "7042419e-9c41-40e7-8dbf-47bd1e2ad45a",
   "metadata": {},
   "source": [
    "It looks like people are most dissatified with US Airways, followed by American Airline, both having over 70\\% negative tweets!\n",
    "\n",
    "A lot of interesting discoveries could be made if you want to explore more about the data. Now let's return to our task of sentiment analysis. Before that, we need to preprocess the text data so that they are in a standard format."
   ]
  },
  {
   "cell_type": "markdown",
   "id": "9e513930-2dc7-489c-bc5a-22eb09add5bf",
   "metadata": {},
   "source": [
    "<a id='section2'></a>\n",
    "# Preprocessing\n",
    "\n",
    "We spent much of the last workshop learning how to preprocess data. Let's apply what we learned to this dataset. Looking at some of the tweets above, we can see that while they are in pretty good shape, we can do some additional processing on them.\n",
    "\n",
    "In our pipeline, we'll omit the tokenization process, since we will perform it in a later step. "
   ]
  },
  {
   "cell_type": "markdown",
   "id": "92a83ece-f3b2-4200-9d22-0788fbc07fa4",
   "metadata": {},
   "source": [
    "## 🥊 Challenge 1: Apply a Text Cleaning Pipeline\n",
    "\n",
    "Write a function called `preprocess()` that performs the following steps on a text input:\n",
    "* Step 1: Lowercase text.\n",
    "* Step 2: Replace the following patterns with placeholders:\n",
    "    * URLs &rarr; ` URL `\n",
    "    * Digits &rarr; ` DIGIT `\n",
    "    * Hashtags &rarr; ` HASHTAG `\n",
    "    * Tweet handles &rarr; ` USER `\n",
    "* Step 3: Remove extra blankspaces.\n",
    "\n",
    "Here are some hints to guide you through this challenge! \n",
    "\n",
    "* For Step 1, recall from Part 1 that a string method called [`.lower()`](https://docs.python.org/3.11/library/stdtypes.html#str.lower) will do the job of lowercasing text input.\n",
    "* We have integrated Step 2 in a function called `placeholder`. Run the next cell to import it into your notebook, and you can use it just like any other functions.\n",
    "* For Step 3, we have provided the regex pattern for identifying whitespace characters as well as the correct replacement for extraneous whitespaces. \n",
    "\n",
    "Run your `preprocess()` function on `example_tweet` (three cells below), and when you think you have it working, apply it to the entire `text` column in the tweets DataFrame."
   ]
  },
  {
   "cell_type": "code",
   "execution_count": 10,
   "id": "21738b02-9ab9-4a61-b41f-ff75888aa747",
   "metadata": {
    "tags": []
   },
   "outputs": [],
   "source": [
    "from utils import placeholder"
   ]
  },
  {
   "cell_type": "code",
   "execution_count": 11,
   "id": "03569f0d-34ba-492d-aa1d-1dce9d34f792",
   "metadata": {},
   "outputs": [],
   "source": [
    "# blankspace_pattern = r'\\s+'\n",
    "# blankspace_repl = ' '\n",
    "\n",
    "# def preprocess(text):\n",
    "#     '''Create a preprocess pipeline that cleans the tweet data.'''\n",
    "    \n",
    "#     # Lowercase\n",
    "#     text = # YOUR CODE HERE\n",
    "\n",
    "#     # Replace patterns with placeholders\n",
    "#     text = # YOUR CODE HERE\n",
    "\n",
    "#     # Remove extra whitespaces\n",
    "#     text = # YOUR CODE HERE\n",
    "    \n",
    "#     return text"
   ]
  },
  {
   "cell_type": "code",
   "execution_count": 12,
   "id": "2e50fd4d-d7a6-4cd5-ab45-476cf0b77878",
   "metadata": {},
   "outputs": [],
   "source": [
    "blankspace_pattern = r'\\s+'\n",
    "blankspace_repl = ' '\n",
    "\n",
    "def preprocess(text):\n",
    "    '''Create a preprocess pipeline that cleans the tweet data.'''\n",
    "\n",
    "    # Lowercase\n",
    "    text = text.lower()\n",
    "\n",
    "    # Replace patterns with placeholders\n",
    "    text = placeholder(text)\n",
    "\n",
    "    # Remove extra whitespaces\n",
    "    text = re.sub(blankspace_pattern, blankspace_repl, text)\n",
    "    text = text.strip()\n",
    "    \n",
    "    return text"
   ]
  },
  {
   "cell_type": "code",
   "execution_count": 80,
   "id": "8990cefd-5d04-46ba-ada2-29978c28cfe8",
   "metadata": {},
   "outputs": [
    {
     "name": "stdout",
     "output_type": "stream",
     "text": [
      "lol @justinbeiber and @BillGates are like soo 2000 #yesterday #amiright saw it on https://twitter.com #yolo\n",
      "==================================================\n",
      "lol USER and USER are like soo DIGIT HASHTAG HASHTAG saw it on URL HASHTAG\n"
     ]
    }
   ],
   "source": [
    "example_tweet = 'lol @justinbeiber and @BillGates are like soo 2000 #yesterday #amiright saw it on https://twitter.com #yolo'\n",
    "# Print the example tweet\n",
    "print(example_tweet)\n",
    "print(f\"{'='*50}\")\n",
    "# Print the preprocessed tweet\n",
    "print(preprocess(example_tweet))"
   ]
  },
  {
   "cell_type": "code",
   "execution_count": 14,
   "id": "a5f7bb6a-f064-48cc-b650-12c4ef2fbb88",
   "metadata": {},
   "outputs": [
    {
     "data": {
      "text/plain": [
       "0                                 USER what USER said.\n",
       "1    USER plus you've added commercials to the expe...\n",
       "2    USER i didn't today... must mean i need to tak...\n",
       "3    USER it's really aggressive to blast obnoxious...\n",
       "4        USER and it's a really big bad thing about it\n",
       "Name: text_processed, dtype: object"
      ]
     },
     "execution_count": 14,
     "metadata": {},
     "output_type": "execute_result"
    }
   ],
   "source": [
    "# Apply the function to text column and assign the preprocessed tweets to a new column\n",
    "tweets['text_processed'] = tweets['text'].apply(lambda x: preprocess(x))\n",
    "tweets['text_processed'].head()"
   ]
  },
  {
   "cell_type": "markdown",
   "id": "1576acc6-b305-492a-8fde-65b343cb779c",
   "metadata": {},
   "source": [
    "Ok now that preprocessing is complete. Let's dive into the bag-of-words!"
   ]
  },
  {
   "cell_type": "markdown",
   "id": "53282330-54da-4e1c-bfe5-e77cb8fa3add",
   "metadata": {},
   "source": [
    "<a id='section3'></a>\n",
    "# The Bag-of-Words Representation\n",
    "\n",
    "The idea of bag-of-words (BoW), as the name suggests, is quite intuitive: we take a document and toss it in a bag. The action of \"throwing\" the document in a bag disregards relative position between words, so what is \"in the bag\" is essentially an unsorted set of words. In return, we have a list of unique words and frequency of each of them. \n",
    "\n",
    "For example, as shown in the following illustration, the word \"coffee\" appears twice. \n",
    "\n",
    "<img src='../images/bow-illustration-1.png' alt=\"BoW-Part2\" width=\"600\">\n",
    "\n",
    "As you may have realized now, with a bag-of-words representation, we make heavy use of word frequency but not too much of word order. \n",
    "\n",
    "In the context of sentiment analysis, the sentiment of a tweet is conveyed more strongly by specific words. For example, if a tweet contains the word \"happy\", it likely conveys positive sentiment, but not always (e.g., \"not happy\" denotes the opposite sentiment). When these words come up more often, they'll probably more strongly convey the sentiment."
   ]
  },
  {
   "cell_type": "markdown",
   "id": "b9d9bdbd-406d-469b-a8f6-41d1b3687c37",
   "metadata": {},
   "source": [
    "## Document Term Matrix\n",
    "\n",
    "Now let's implement the idea of bag-of-words. Before we go deep into that, let's step back for a moment. In practice, text analysis often involves handling many documents; from now on, we use the term **document** to indicate a piece of text that we perform analysis on. It could be a phrase, a sentence, a tweet, and etc, as long as it could be represented by a string of text, the length dosen't really matter. \n",
    "\n",
    "Imagine we have four documents (i.e., the four phrases shown above), we toss them all in the bag. Instead of a word-frequency list, we would expect a document-term matrix (DTM) in return. In a DTM, the word list is the **vocabulary** (V) that holds all unique words occur across the documents. For each **document** (D), we count the number of occurence of each word in the vocabulary, and then plug the number into the matrix. In other words, the DTM we will need to construct is a $D \\times V$ matrix, where each row corresponds to a document, and each column corresponds to a token (or \"term\").\n",
    "\n",
    "In the following example, the unique tokens in this set of documents, in alphabetical order, are in columns. For each document, we mark the occurence of each word showing up in the document. The numerical representation for each document is a row in the matrix. For example, \"the coffee roaster\" or the first document has numerical representation $[0, 1, 0, 0, 0, 1, 1, 0]$.\n",
    "\n",
    "Note that the left index column now displays these documents as texts, but typically we would just assign an index to each of them. \n",
    "\n",
    "$$\n",
    "\\begin{array}{c|cccccccccccc}\n",
    " & \\text{americano} & \\text{coffee} & \\text{iced} & \\text{light} & \\text{roast} & \\text{roaster} & \\text{the} & \\text{time} \\\\\\hline\n",
    "\\text{the coffee roaster} &0 &1\t&0\t&0\t&0\t&1\t&1\t&0 \\\\ \n",
    "\\text{light roast} &0 &0\t&0\t&1\t&1\t&0\t&0\t&0 \\\\\n",
    "\\text{iced americano} &1 &0\t&1\t&0\t&0\t&0\t&0\t&0 \\\\\n",
    "\\text{coffee time} &0 &1\t&0\t&0\t&0\t&0\t&0\t&1 \\\\\n",
    "\\end{array}\n",
    "$$\n",
    "\n",
    "To create a DTM, we will use `CountVectorizer` from the package `sklearn`."
   ]
  },
  {
   "cell_type": "code",
   "execution_count": 15,
   "id": "cd2adf56-ba93-459d-8cfa-16ce8dc9284b",
   "metadata": {},
   "outputs": [],
   "source": [
    "from sklearn.feature_extraction.text import CountVectorizer"
   ]
  },
  {
   "cell_type": "markdown",
   "id": "4989781d-6b40-417a-be70-eeba05cd8a50",
   "metadata": {},
   "source": [
    "If you're not familiar with `CountVectorizer`, here is the general workflow:\n",
    "\n",
    "<img src='../images/CountVectorizer1.png' alt=\"CountVectorizer\" width=\"500\">\n",
    "\n",
    "Let's walk through these steps with the toy example shown above."
   ]
  },
  {
   "cell_type": "markdown",
   "id": "34174034-46b9-43e2-a511-5972d378cb00",
   "metadata": {},
   "source": [
    "### A Toy Example"
   ]
  },
  {
   "cell_type": "code",
   "execution_count": 16,
   "id": "4da2bd3d-0460-4b5f-9b9e-02940db0d7ca",
   "metadata": {},
   "outputs": [],
   "source": [
    "# A toy example containing four documents (phrases)\n",
    "test = ['the coffee roaster',\n",
    "        'light roast',\n",
    "        'iced americano',\n",
    "        'coffee time']"
   ]
  },
  {
   "cell_type": "markdown",
   "id": "dff7c1d3-fcee-4e20-b9a7-17306ebd5fc2",
   "metadata": {},
   "source": [
    "The first step is to initialize a `CountVectorizer` object. Within the round paratheses is the parameter setting we may choose to specify. Let's take a look at the [documentation](https://scikit-learn.org/stable/modules/generated/sklearn.feature_extraction.text.CountVectorizer.html) and see what options are available.  \n",
    "\n",
    "For now we can just leave it blank for the default setting. "
   ]
  },
  {
   "cell_type": "code",
   "execution_count": 17,
   "id": "9de3fe6a-9abf-4e11-aad1-e54c891567bb",
   "metadata": {},
   "outputs": [],
   "source": [
    "# Create a CountVectorizer object\n",
    "vectorizer = CountVectorizer()"
   ]
  },
  {
   "cell_type": "markdown",
   "id": "1b5a7d0d-0bfc-4fb9-8e5f-e91e39797fb5",
   "metadata": {},
   "source": [
    "The second step is to `fit` this `CountVectorizer` object to the data, which means creating a vocabulary of tokens from the set of documents. Thirdly, we `transform` our data according to the \"fitted\" `CountVectorizer` object, which means taking each of the document and transforming it into a DTM according to the vocabulary established by the \"fitting\" step.\n",
    "\n",
    "It may sound a bit complex but steps 2 and 3 can actually be done in one swoop using a `fit_transform` function."
   ]
  },
  {
   "cell_type": "code",
   "execution_count": 18,
   "id": "da1bbad4-bb1a-4b92-9096-6e17558b4a42",
   "metadata": {},
   "outputs": [],
   "source": [
    "# Fit and transform to create DTM\n",
    "test_count = vectorizer.fit_transform(test)"
   ]
  },
  {
   "cell_type": "markdown",
   "id": "324d3b65-4e98-48bf-87d2-399457f4939c",
   "metadata": {},
   "source": [
    "The return of `fit_transform` is supposed to be the DTM. \n",
    "\n",
    "Let's take a look at it!"
   ]
  },
  {
   "cell_type": "code",
   "execution_count": 19,
   "id": "cb044001-8eb2-4489-b025-2d8e2d4bfee2",
   "metadata": {},
   "outputs": [
    {
     "data": {
      "text/plain": [
       "<4x8 sparse matrix of type '<class 'numpy.int64'>'\n",
       "\twith 9 stored elements in Compressed Sparse Row format>"
      ]
     },
     "execution_count": 19,
     "metadata": {},
     "output_type": "execute_result"
    }
   ],
   "source": [
    "test_count"
   ]
  },
  {
   "cell_type": "markdown",
   "id": "f9817b09-a806-42c4-9436-822cc27a38b9",
   "metadata": {},
   "source": [
    "Apparently the return is a \"sparse matrix\"---a matrix that contains a lot zeros. It actually makes sense as for each document we definitely have words that don't occur at all---which is counted zero in the DTM. This sparse matrix is stored in a \"Compressed Sparse Row\" format, which is a memory-saving format that is designed to deal with sparse matrix. \n",
    "\n",
    "Let's convert it to a dense matrix, where those zeros are probably organized, as in a numpy array."
   ]
  },
  {
   "cell_type": "code",
   "execution_count": 20,
   "id": "bb03a238-87d8-40c9-b20e-66e7c9b6576b",
   "metadata": {},
   "outputs": [
    {
     "data": {
      "text/plain": [
       "matrix([[0, 1, 0, 0, 0, 1, 1, 0],\n",
       "        [0, 0, 0, 1, 1, 0, 0, 0],\n",
       "        [1, 0, 1, 0, 0, 0, 0, 0],\n",
       "        [0, 1, 0, 0, 0, 0, 0, 1]])"
      ]
     },
     "execution_count": 20,
     "metadata": {},
     "output_type": "execute_result"
    }
   ],
   "source": [
    "# Convert DTM to a dense matrix \n",
    "test_count.todense()"
   ]
  },
  {
   "cell_type": "markdown",
   "id": "28b58a63-d7f6-4b9f-aadf-4d4fc7341336",
   "metadata": {},
   "source": [
    "So this is our DTM! It is the same as shown above, but to make it more reader-friendly, let's convert it to a dataframe. The column names should be tokens in the vocabulary, which we can access with `get_feature_names_out()`."
   ]
  },
  {
   "cell_type": "code",
   "execution_count": 21,
   "id": "714de5d3-e37d-4a19-9ade-3c6629e38d4e",
   "metadata": {},
   "outputs": [
    {
     "data": {
      "text/plain": [
       "array(['americano', 'coffee', 'iced', 'light', 'roast', 'roaster', 'the',\n",
       "       'time'], dtype=object)"
      ]
     },
     "execution_count": 21,
     "metadata": {},
     "output_type": "execute_result"
    }
   ],
   "source": [
    "# Retrieve the vocabulary\n",
    "vectorizer.get_feature_names_out()"
   ]
  },
  {
   "cell_type": "code",
   "execution_count": 22,
   "id": "6a7729a2-ca2e-4de7-8795-74dfedb7a4d5",
   "metadata": {},
   "outputs": [],
   "source": [
    "# Create a DTM dataframe\n",
    "test_dtm = pd.DataFrame(data=test_count.todense(),\n",
    "                        columns=vectorizer.get_feature_names_out())"
   ]
  },
  {
   "cell_type": "markdown",
   "id": "781da407-f394-40f2-9d45-1fac39f02047",
   "metadata": {},
   "source": [
    "Here it is! The DTM of our toy data is now a dataframe. The index of `test_dtm` corresponds to the position of each document in the `test` list. "
   ]
  },
  {
   "cell_type": "code",
   "execution_count": 23,
   "id": "e41dd243-cd2e-43c3-80f8-5eaab6e64210",
   "metadata": {},
   "outputs": [
    {
     "data": {
      "text/html": [
       "<div>\n",
       "<style scoped>\n",
       "    .dataframe tbody tr th:only-of-type {\n",
       "        vertical-align: middle;\n",
       "    }\n",
       "\n",
       "    .dataframe tbody tr th {\n",
       "        vertical-align: top;\n",
       "    }\n",
       "\n",
       "    .dataframe thead th {\n",
       "        text-align: right;\n",
       "    }\n",
       "</style>\n",
       "<table border=\"1\" class=\"dataframe\">\n",
       "  <thead>\n",
       "    <tr style=\"text-align: right;\">\n",
       "      <th></th>\n",
       "      <th>americano</th>\n",
       "      <th>coffee</th>\n",
       "      <th>iced</th>\n",
       "      <th>light</th>\n",
       "      <th>roast</th>\n",
       "      <th>roaster</th>\n",
       "      <th>the</th>\n",
       "      <th>time</th>\n",
       "    </tr>\n",
       "  </thead>\n",
       "  <tbody>\n",
       "    <tr>\n",
       "      <th>0</th>\n",
       "      <td>0</td>\n",
       "      <td>1</td>\n",
       "      <td>0</td>\n",
       "      <td>0</td>\n",
       "      <td>0</td>\n",
       "      <td>1</td>\n",
       "      <td>1</td>\n",
       "      <td>0</td>\n",
       "    </tr>\n",
       "    <tr>\n",
       "      <th>1</th>\n",
       "      <td>0</td>\n",
       "      <td>0</td>\n",
       "      <td>0</td>\n",
       "      <td>1</td>\n",
       "      <td>1</td>\n",
       "      <td>0</td>\n",
       "      <td>0</td>\n",
       "      <td>0</td>\n",
       "    </tr>\n",
       "    <tr>\n",
       "      <th>2</th>\n",
       "      <td>1</td>\n",
       "      <td>0</td>\n",
       "      <td>1</td>\n",
       "      <td>0</td>\n",
       "      <td>0</td>\n",
       "      <td>0</td>\n",
       "      <td>0</td>\n",
       "      <td>0</td>\n",
       "    </tr>\n",
       "    <tr>\n",
       "      <th>3</th>\n",
       "      <td>0</td>\n",
       "      <td>1</td>\n",
       "      <td>0</td>\n",
       "      <td>0</td>\n",
       "      <td>0</td>\n",
       "      <td>0</td>\n",
       "      <td>0</td>\n",
       "      <td>1</td>\n",
       "    </tr>\n",
       "  </tbody>\n",
       "</table>\n",
       "</div>"
      ],
      "text/plain": [
       "   americano  coffee  iced  light  roast  roaster  the  time\n",
       "0          0       1     0      0      0        1    1     0\n",
       "1          0       0     0      1      1        0    0     0\n",
       "2          1       0     1      0      0        0    0     0\n",
       "3          0       1     0      0      0        0    0     1"
      ]
     },
     "execution_count": 23,
     "metadata": {},
     "output_type": "execute_result"
    }
   ],
   "source": [
    "test_dtm"
   ]
  },
  {
   "cell_type": "markdown",
   "id": "d59a03b4-94fa-4fe7-8f5d-7280e31b9bc4",
   "metadata": {},
   "source": [
    "Hopefully we all have understood the steps involved in constructing a DTM. \n",
    "\n",
    "Let's turn to our tweet data!\n",
    "\n",
    "### DTM for Tweets\n",
    "\n",
    "We'll still begin with initializing a `CountVectorizer` object. In the following cell, we have included a few parameters that people often adjust. These parameters are currently set to their default values.\n",
    "\n",
    "As shown below, when we construct a DTM, the default is to lowercase the input text. If nothing is provided for `stop_words`, the default is to keep them. The next three parameters are used to control the number of tokens, which we'll return to in a minute!"
   ]
  },
  {
   "cell_type": "code",
   "execution_count": 24,
   "id": "783e44a4-4a22-4290-b222-282b02c080dc",
   "metadata": {},
   "outputs": [],
   "source": [
    "# Create a CountVectorizer object\n",
    "vectorizer = CountVectorizer(lowercase=True,\n",
    "                             stop_words=None,\n",
    "                             min_df=1,\n",
    "                             max_df=1.0, \n",
    "                             max_features=None)"
   ]
  },
  {
   "cell_type": "code",
   "execution_count": 25,
   "id": "f85e76ea-bc54-4775-bcda-432a03d2c96f",
   "metadata": {
    "scrolled": true
   },
   "outputs": [
    {
     "data": {
      "text/plain": [
       "<14640x9913 sparse matrix of type '<class 'numpy.int64'>'\n",
       "\twith 230849 stored elements in Compressed Sparse Row format>"
      ]
     },
     "execution_count": 25,
     "metadata": {},
     "output_type": "execute_result"
    }
   ],
   "source": [
    "# Fit and transform to create DTM\n",
    "counts = vectorizer.fit_transform(tweets['text_processed'])\n",
    "counts"
   ]
  },
  {
   "cell_type": "code",
   "execution_count": 26,
   "id": "87119057-c78c-4eb2-a9d6-3e9f44e4c22b",
   "metadata": {},
   "outputs": [
    {
     "data": {
      "text/plain": [
       "array([[0, 0, 0, ..., 0, 0, 0],\n",
       "       [0, 0, 0, ..., 0, 0, 0],\n",
       "       [0, 0, 0, ..., 0, 0, 0],\n",
       "       ...,\n",
       "       [0, 0, 0, ..., 0, 0, 0],\n",
       "       [0, 0, 0, ..., 0, 0, 0],\n",
       "       [0, 0, 0, ..., 0, 0, 0]])"
      ]
     },
     "execution_count": 26,
     "metadata": {},
     "output_type": "execute_result"
    }
   ],
   "source": [
    "# Do not run if you have limited memory - this includes DataHub and Binder\n",
    "np.array(counts.todense())"
   ]
  },
  {
   "cell_type": "code",
   "execution_count": 27,
   "id": "99322b85-1a15-46a5-bb80-bb5eaa6eeb7b",
   "metadata": {},
   "outputs": [],
   "source": [
    "# Extract tokens\n",
    "tokens = vectorizer.get_feature_names_out()"
   ]
  },
  {
   "cell_type": "code",
   "execution_count": 28,
   "id": "43620587-3795-4434-8f1f-145c81b93706",
   "metadata": {},
   "outputs": [
    {
     "name": "stdout",
     "output_type": "stream",
     "text": [
      "(14640, 9913)\n"
     ]
    }
   ],
   "source": [
    "# Create DTM\n",
    "first_dtm = pd.DataFrame(data=counts.todense(),\n",
    "                         index=tweets.index,\n",
    "                         columns=tokens)\n",
    "\n",
    "# Print the shape of DTM\n",
    "print(first_dtm.shape)"
   ]
  },
  {
   "cell_type": "markdown",
   "id": "2dd257d5-4244-436c-afe7-5688232caf8f",
   "metadata": {},
   "source": [
    "If we leave the `CountVectorizer` to the default setting, in total we have a vocabulary size of 9913. \n",
    "\n",
    "Let's take a closer look at the DTM."
   ]
  },
  {
   "cell_type": "code",
   "execution_count": 29,
   "id": "bb3604ec-d909-4238-9a3f-67e7d4ae2ac5",
   "metadata": {},
   "outputs": [
    {
     "data": {
      "text/html": [
       "<div>\n",
       "<style scoped>\n",
       "    .dataframe tbody tr th:only-of-type {\n",
       "        vertical-align: middle;\n",
       "    }\n",
       "\n",
       "    .dataframe tbody tr th {\n",
       "        vertical-align: top;\n",
       "    }\n",
       "\n",
       "    .dataframe thead th {\n",
       "        text-align: right;\n",
       "    }\n",
       "</style>\n",
       "<table border=\"1\" class=\"dataframe\">\n",
       "  <thead>\n",
       "    <tr style=\"text-align: right;\">\n",
       "      <th></th>\n",
       "      <th>_exact_</th>\n",
       "      <th>_wtvd</th>\n",
       "      <th>aa</th>\n",
       "      <th>aaaand</th>\n",
       "      <th>aadavantage</th>\n",
       "      <th>aadv</th>\n",
       "      <th>aadvantage</th>\n",
       "      <th>aal</th>\n",
       "      <th>aaron</th>\n",
       "      <th>ab</th>\n",
       "      <th>...</th>\n",
       "      <th>zero</th>\n",
       "      <th>zig</th>\n",
       "      <th>zip</th>\n",
       "      <th>zippers</th>\n",
       "      <th>zone</th>\n",
       "      <th>zones</th>\n",
       "      <th>zoom</th>\n",
       "      <th>zukes</th>\n",
       "      <th>zurich</th>\n",
       "      <th>zz</th>\n",
       "    </tr>\n",
       "  </thead>\n",
       "  <tbody>\n",
       "    <tr>\n",
       "      <th>0</th>\n",
       "      <td>0</td>\n",
       "      <td>0</td>\n",
       "      <td>0</td>\n",
       "      <td>0</td>\n",
       "      <td>0</td>\n",
       "      <td>0</td>\n",
       "      <td>0</td>\n",
       "      <td>0</td>\n",
       "      <td>0</td>\n",
       "      <td>0</td>\n",
       "      <td>...</td>\n",
       "      <td>0</td>\n",
       "      <td>0</td>\n",
       "      <td>0</td>\n",
       "      <td>0</td>\n",
       "      <td>0</td>\n",
       "      <td>0</td>\n",
       "      <td>0</td>\n",
       "      <td>0</td>\n",
       "      <td>0</td>\n",
       "      <td>0</td>\n",
       "    </tr>\n",
       "    <tr>\n",
       "      <th>1</th>\n",
       "      <td>0</td>\n",
       "      <td>0</td>\n",
       "      <td>0</td>\n",
       "      <td>0</td>\n",
       "      <td>0</td>\n",
       "      <td>0</td>\n",
       "      <td>0</td>\n",
       "      <td>0</td>\n",
       "      <td>0</td>\n",
       "      <td>0</td>\n",
       "      <td>...</td>\n",
       "      <td>0</td>\n",
       "      <td>0</td>\n",
       "      <td>0</td>\n",
       "      <td>0</td>\n",
       "      <td>0</td>\n",
       "      <td>0</td>\n",
       "      <td>0</td>\n",
       "      <td>0</td>\n",
       "      <td>0</td>\n",
       "      <td>0</td>\n",
       "    </tr>\n",
       "    <tr>\n",
       "      <th>2</th>\n",
       "      <td>0</td>\n",
       "      <td>0</td>\n",
       "      <td>0</td>\n",
       "      <td>0</td>\n",
       "      <td>0</td>\n",
       "      <td>0</td>\n",
       "      <td>0</td>\n",
       "      <td>0</td>\n",
       "      <td>0</td>\n",
       "      <td>0</td>\n",
       "      <td>...</td>\n",
       "      <td>0</td>\n",
       "      <td>0</td>\n",
       "      <td>0</td>\n",
       "      <td>0</td>\n",
       "      <td>0</td>\n",
       "      <td>0</td>\n",
       "      <td>0</td>\n",
       "      <td>0</td>\n",
       "      <td>0</td>\n",
       "      <td>0</td>\n",
       "    </tr>\n",
       "    <tr>\n",
       "      <th>3</th>\n",
       "      <td>0</td>\n",
       "      <td>0</td>\n",
       "      <td>0</td>\n",
       "      <td>0</td>\n",
       "      <td>0</td>\n",
       "      <td>0</td>\n",
       "      <td>0</td>\n",
       "      <td>0</td>\n",
       "      <td>0</td>\n",
       "      <td>0</td>\n",
       "      <td>...</td>\n",
       "      <td>0</td>\n",
       "      <td>0</td>\n",
       "      <td>0</td>\n",
       "      <td>0</td>\n",
       "      <td>0</td>\n",
       "      <td>0</td>\n",
       "      <td>0</td>\n",
       "      <td>0</td>\n",
       "      <td>0</td>\n",
       "      <td>0</td>\n",
       "    </tr>\n",
       "    <tr>\n",
       "      <th>4</th>\n",
       "      <td>0</td>\n",
       "      <td>0</td>\n",
       "      <td>0</td>\n",
       "      <td>0</td>\n",
       "      <td>0</td>\n",
       "      <td>0</td>\n",
       "      <td>0</td>\n",
       "      <td>0</td>\n",
       "      <td>0</td>\n",
       "      <td>0</td>\n",
       "      <td>...</td>\n",
       "      <td>0</td>\n",
       "      <td>0</td>\n",
       "      <td>0</td>\n",
       "      <td>0</td>\n",
       "      <td>0</td>\n",
       "      <td>0</td>\n",
       "      <td>0</td>\n",
       "      <td>0</td>\n",
       "      <td>0</td>\n",
       "      <td>0</td>\n",
       "    </tr>\n",
       "  </tbody>\n",
       "</table>\n",
       "<p>5 rows × 9913 columns</p>\n",
       "</div>"
      ],
      "text/plain": [
       "   _exact_  _wtvd  aa  aaaand  aadavantage  aadv  aadvantage  aal  aaron  ab  \\\n",
       "0        0      0   0       0            0     0           0    0      0   0   \n",
       "1        0      0   0       0            0     0           0    0      0   0   \n",
       "2        0      0   0       0            0     0           0    0      0   0   \n",
       "3        0      0   0       0            0     0           0    0      0   0   \n",
       "4        0      0   0       0            0     0           0    0      0   0   \n",
       "\n",
       "   ...  zero  zig  zip  zippers  zone  zones  zoom  zukes  zurich  zz  \n",
       "0  ...     0    0    0        0     0      0     0      0       0   0  \n",
       "1  ...     0    0    0        0     0      0     0      0       0   0  \n",
       "2  ...     0    0    0        0     0      0     0      0       0   0  \n",
       "3  ...     0    0    0        0     0      0     0      0       0   0  \n",
       "4  ...     0    0    0        0     0      0     0      0       0   0  \n",
       "\n",
       "[5 rows x 9913 columns]"
      ]
     },
     "execution_count": 29,
     "metadata": {},
     "output_type": "execute_result"
    }
   ],
   "source": [
    "first_dtm.head()"
   ]
  },
  {
   "cell_type": "markdown",
   "id": "095d34e2-52f8-4419-b4c7-ed20dbd5df89",
   "metadata": {},
   "source": [
    "Most of the tokens have zero occurences at least in the first five tweets. Let's take a closer look at the DTM!"
   ]
  },
  {
   "cell_type": "code",
   "execution_count": 30,
   "id": "f432154a-eae0-4723-a797-55f3cfdd71c4",
   "metadata": {},
   "outputs": [
    {
     "data": {
      "text/plain": [
       "user      16500\n",
       "to         8653\n",
       "digit      8427\n",
       "the        6063\n",
       "you        4401\n",
       "for        4001\n",
       "flight     3935\n",
       "on         3815\n",
       "and        3733\n",
       "my         3288\n",
       "dtype: int64"
      ]
     },
     "execution_count": 30,
     "metadata": {},
     "output_type": "execute_result"
    }
   ],
   "source": [
    "# Most frequent tokens\n",
    "first_dtm.sum().sort_values(ascending=False).head(10)"
   ]
  },
  {
   "cell_type": "code",
   "execution_count": 31,
   "id": "26c7f1c9-dd66-49f2-b337-01253da551d2",
   "metadata": {},
   "outputs": [
    {
     "data": {
      "text/plain": [
       "_exact_      1\n",
       "minus        1\n",
       "minssss      1\n",
       "minors       1\n",
       "minonhold    1\n",
       "minimal      1\n",
       "mini         1\n",
       "minflight    1\n",
       "mines        1\n",
       "mindset      1\n",
       "dtype: int64"
      ]
     },
     "execution_count": 31,
     "metadata": {},
     "output_type": "execute_result"
    }
   ],
   "source": [
    "# Least frequent tokens\n",
    "first_dtm.sum().sort_values(ascending=True).head(10)"
   ]
  },
  {
   "cell_type": "markdown",
   "id": "5d230f79-e752-4e32-93db-4f013287f8e2",
   "metadata": {},
   "source": [
    "It is not surprising to see \"user\" and \"digit\" to be among the most frequent tokens as we replaced each idiosyncratic one to these placeholders. The rest of the most frequent list are mostly stop words.\n",
    "\n",
    "Perhaps a more interesting pattern is to look for which token appears most in any given tweet:"
   ]
  },
  {
   "cell_type": "code",
   "execution_count": 32,
   "id": "efb8f4d8-4c88-4155-a6c5-c72a5b4e8bb8",
   "metadata": {},
   "outputs": [
    {
     "data": {
      "text/html": [
       "<div>\n",
       "<style scoped>\n",
       "    .dataframe tbody tr th:only-of-type {\n",
       "        vertical-align: middle;\n",
       "    }\n",
       "\n",
       "    .dataframe tbody tr th {\n",
       "        vertical-align: top;\n",
       "    }\n",
       "\n",
       "    .dataframe thead th {\n",
       "        text-align: right;\n",
       "    }\n",
       "</style>\n",
       "<table border=\"1\" class=\"dataframe\">\n",
       "  <thead>\n",
       "    <tr style=\"text-align: right;\">\n",
       "      <th></th>\n",
       "      <th>token</th>\n",
       "      <th>number</th>\n",
       "    </tr>\n",
       "  </thead>\n",
       "  <tbody>\n",
       "    <tr>\n",
       "      <th>3915</th>\n",
       "      <td>lt</td>\n",
       "      <td>6</td>\n",
       "    </tr>\n",
       "    <tr>\n",
       "      <th>1214</th>\n",
       "      <td>worst</td>\n",
       "      <td>6</td>\n",
       "    </tr>\n",
       "    <tr>\n",
       "      <th>10173</th>\n",
       "      <td>to</td>\n",
       "      <td>5</td>\n",
       "    </tr>\n",
       "    <tr>\n",
       "      <th>3412</th>\n",
       "      <td>to</td>\n",
       "      <td>5</td>\n",
       "    </tr>\n",
       "    <tr>\n",
       "      <th>792</th>\n",
       "      <td>to</td>\n",
       "      <td>5</td>\n",
       "    </tr>\n",
       "    <tr>\n",
       "      <th>6469</th>\n",
       "      <td>to</td>\n",
       "      <td>5</td>\n",
       "    </tr>\n",
       "    <tr>\n",
       "      <th>13715</th>\n",
       "      <td>to</td>\n",
       "      <td>5</td>\n",
       "    </tr>\n",
       "    <tr>\n",
       "      <th>10614</th>\n",
       "      <td>the</td>\n",
       "      <td>5</td>\n",
       "    </tr>\n",
       "    <tr>\n",
       "      <th>14030</th>\n",
       "      <td>to</td>\n",
       "      <td>5</td>\n",
       "    </tr>\n",
       "    <tr>\n",
       "      <th>10599</th>\n",
       "      <td>to</td>\n",
       "      <td>5</td>\n",
       "    </tr>\n",
       "  </tbody>\n",
       "</table>\n",
       "</div>"
      ],
      "text/plain": [
       "       token  number\n",
       "3915      lt       6\n",
       "1214   worst       6\n",
       "10173     to       5\n",
       "3412      to       5\n",
       "792       to       5\n",
       "6469      to       5\n",
       "13715     to       5\n",
       "10614    the       5\n",
       "14030     to       5\n",
       "10599     to       5"
      ]
     },
     "execution_count": 32,
     "metadata": {},
     "output_type": "execute_result"
    }
   ],
   "source": [
    "counts = pd.DataFrame()\n",
    "# Retrieve the index to the tweet where each token appears most frequently\n",
    "counts['token'] = first_dtm.idxmax(axis=1)\n",
    "# Retrieve the number of occurence \n",
    "counts['number'] = first_dtm.max(axis=1)\n",
    "# Filter out placeholders\n",
    "counts[(counts['token'] != 'digit')\n",
    "       & (counts['token'] != 'hashtag')\n",
    "       & (counts['token'] != 'user')].sort_values('number', ascending=False).head(10)"
   ]
  },
  {
   "cell_type": "markdown",
   "id": "7cdac4ef-6b9d-4aad-9b24-c70f6c2eb8f0",
   "metadata": {},
   "source": [
    "It looks like among all tweets, at most a token appears 6 times, and it is either the word \"It\" or the word \"worst\". \n",
    "\n",
    "Let's go back to our tweets dataframe and get the 1214th tweet."
   ]
  },
  {
   "cell_type": "code",
   "execution_count": 33,
   "id": "5e7cacd8-1fb3-4f0d-a744-4ee0994a089f",
   "metadata": {},
   "outputs": [
    {
     "data": {
      "text/plain": [
       "\"@united is the worst. Worst reservation policies. Worst costumer service. Worst worst worst. Congrats, @Delta you're not that bad!\""
      ]
     },
     "execution_count": 33,
     "metadata": {},
     "output_type": "execute_result"
    }
   ],
   "source": [
    "# Look at index 1214: \"worst\"\n",
    "tweets.iloc[1214]['text']"
   ]
  },
  {
   "cell_type": "markdown",
   "id": "3dba8e37-4880-4565-b6fc-7e7c96958f0f",
   "metadata": {},
   "source": [
    "## Customizing the `CountVectorizer`\n",
    "\n",
    "So far we've sticked to the default parameter setting to create our DTMs, but in many cases we may want to customize the `CountVectorizer` object. The purpose of doing so is to further filter out words that do not contribute to the meaning of the data. In the example below, we tweak the following parameters:\n",
    "\n",
    "- `stop_words = 'english'`: exclude English stop words \n",
    "- `min_df = 2`: exclude words don't occur at least twice\n",
    "- `max_df = 0.95`: exclude words if they occur in more than 95\\% of the documents\n",
    "\n",
    "🔔 **Question**: Let's pause for a minute to discuss if it is reasonable to set these parameters! What do you think?\n",
    "\n",
    "As you can see, typically we are not interested in words whose frequencies are either too low or too high, so we go to `min_df` and `max_df` to trim them out. Alternatively, we can also define our vocabulary size to be $N$, and let it be `max_feature`---we are telling `CountVectorizer` to only consider the top $N$ most frequent features when construct the DTM."
   ]
  },
  {
   "cell_type": "code",
   "execution_count": 34,
   "id": "37a0a93e-9dd8-43dc-a82c-06a24bf02bc9",
   "metadata": {},
   "outputs": [],
   "source": [
    "# Customize the parameter setting\n",
    "vectorizer = CountVectorizer(lowercase=True,\n",
    "                             stop_words='english',\n",
    "                             min_df=2,\n",
    "                             max_df=0.95,\n",
    "                             max_features=None)"
   ]
  },
  {
   "cell_type": "code",
   "execution_count": 35,
   "id": "b53e5ecf-7be3-4915-9d11-fd3edb913400",
   "metadata": {},
   "outputs": [],
   "source": [
    "# Fit, transform, and get tokens\n",
    "counts = vectorizer.fit_transform(tweets['text_processed'])\n",
    "tokens = vectorizer.get_feature_names_out()\n",
    "\n",
    "# Create the second DTM\n",
    "second_dtm = pd.DataFrame(data=counts.todense(),\n",
    "                   index=tweets.index,\n",
    "                   columns=tokens)"
   ]
  },
  {
   "cell_type": "markdown",
   "id": "6d2e66bc-2eaa-4642-8848-74459948084b",
   "metadata": {},
   "source": [
    "Our second DTM has a substantially smaller vocabulary, compared to the first one."
   ]
  },
  {
   "cell_type": "code",
   "execution_count": 36,
   "id": "570fb598-fa81-4111-9e36-7172d8034713",
   "metadata": {},
   "outputs": [
    {
     "name": "stdout",
     "output_type": "stream",
     "text": [
      "(14640, 9913)\n",
      "(14640, 5152)\n"
     ]
    }
   ],
   "source": [
    "print(first_dtm.shape)\n",
    "print(second_dtm.shape)"
   ]
  },
  {
   "cell_type": "code",
   "execution_count": 37,
   "id": "d8deabb2-20eb-4047-b592-48cb1564fd2a",
   "metadata": {},
   "outputs": [
    {
     "data": {
      "text/html": [
       "<div>\n",
       "<style scoped>\n",
       "    .dataframe tbody tr th:only-of-type {\n",
       "        vertical-align: middle;\n",
       "    }\n",
       "\n",
       "    .dataframe tbody tr th {\n",
       "        vertical-align: top;\n",
       "    }\n",
       "\n",
       "    .dataframe thead th {\n",
       "        text-align: right;\n",
       "    }\n",
       "</style>\n",
       "<table border=\"1\" class=\"dataframe\">\n",
       "  <thead>\n",
       "    <tr style=\"text-align: right;\">\n",
       "      <th></th>\n",
       "      <th>aa</th>\n",
       "      <th>aadv</th>\n",
       "      <th>aadvantage</th>\n",
       "      <th>aal</th>\n",
       "      <th>abandoned</th>\n",
       "      <th>abc</th>\n",
       "      <th>abi</th>\n",
       "      <th>abilities</th>\n",
       "      <th>ability</th>\n",
       "      <th>able</th>\n",
       "      <th>...</th>\n",
       "      <th>yup</th>\n",
       "      <th>yvonne</th>\n",
       "      <th>yvr</th>\n",
       "      <th>yyj</th>\n",
       "      <th>yyz</th>\n",
       "      <th>zero</th>\n",
       "      <th>zone</th>\n",
       "      <th>zoom</th>\n",
       "      <th>zurich</th>\n",
       "      <th>zz</th>\n",
       "    </tr>\n",
       "  </thead>\n",
       "  <tbody>\n",
       "    <tr>\n",
       "      <th>0</th>\n",
       "      <td>0</td>\n",
       "      <td>0</td>\n",
       "      <td>0</td>\n",
       "      <td>0</td>\n",
       "      <td>0</td>\n",
       "      <td>0</td>\n",
       "      <td>0</td>\n",
       "      <td>0</td>\n",
       "      <td>0</td>\n",
       "      <td>0</td>\n",
       "      <td>...</td>\n",
       "      <td>0</td>\n",
       "      <td>0</td>\n",
       "      <td>0</td>\n",
       "      <td>0</td>\n",
       "      <td>0</td>\n",
       "      <td>0</td>\n",
       "      <td>0</td>\n",
       "      <td>0</td>\n",
       "      <td>0</td>\n",
       "      <td>0</td>\n",
       "    </tr>\n",
       "    <tr>\n",
       "      <th>1</th>\n",
       "      <td>0</td>\n",
       "      <td>0</td>\n",
       "      <td>0</td>\n",
       "      <td>0</td>\n",
       "      <td>0</td>\n",
       "      <td>0</td>\n",
       "      <td>0</td>\n",
       "      <td>0</td>\n",
       "      <td>0</td>\n",
       "      <td>0</td>\n",
       "      <td>...</td>\n",
       "      <td>0</td>\n",
       "      <td>0</td>\n",
       "      <td>0</td>\n",
       "      <td>0</td>\n",
       "      <td>0</td>\n",
       "      <td>0</td>\n",
       "      <td>0</td>\n",
       "      <td>0</td>\n",
       "      <td>0</td>\n",
       "      <td>0</td>\n",
       "    </tr>\n",
       "    <tr>\n",
       "      <th>2</th>\n",
       "      <td>0</td>\n",
       "      <td>0</td>\n",
       "      <td>0</td>\n",
       "      <td>0</td>\n",
       "      <td>0</td>\n",
       "      <td>0</td>\n",
       "      <td>0</td>\n",
       "      <td>0</td>\n",
       "      <td>0</td>\n",
       "      <td>0</td>\n",
       "      <td>...</td>\n",
       "      <td>0</td>\n",
       "      <td>0</td>\n",
       "      <td>0</td>\n",
       "      <td>0</td>\n",
       "      <td>0</td>\n",
       "      <td>0</td>\n",
       "      <td>0</td>\n",
       "      <td>0</td>\n",
       "      <td>0</td>\n",
       "      <td>0</td>\n",
       "    </tr>\n",
       "    <tr>\n",
       "      <th>3</th>\n",
       "      <td>0</td>\n",
       "      <td>0</td>\n",
       "      <td>0</td>\n",
       "      <td>0</td>\n",
       "      <td>0</td>\n",
       "      <td>0</td>\n",
       "      <td>0</td>\n",
       "      <td>0</td>\n",
       "      <td>0</td>\n",
       "      <td>0</td>\n",
       "      <td>...</td>\n",
       "      <td>0</td>\n",
       "      <td>0</td>\n",
       "      <td>0</td>\n",
       "      <td>0</td>\n",
       "      <td>0</td>\n",
       "      <td>0</td>\n",
       "      <td>0</td>\n",
       "      <td>0</td>\n",
       "      <td>0</td>\n",
       "      <td>0</td>\n",
       "    </tr>\n",
       "    <tr>\n",
       "      <th>4</th>\n",
       "      <td>0</td>\n",
       "      <td>0</td>\n",
       "      <td>0</td>\n",
       "      <td>0</td>\n",
       "      <td>0</td>\n",
       "      <td>0</td>\n",
       "      <td>0</td>\n",
       "      <td>0</td>\n",
       "      <td>0</td>\n",
       "      <td>0</td>\n",
       "      <td>...</td>\n",
       "      <td>0</td>\n",
       "      <td>0</td>\n",
       "      <td>0</td>\n",
       "      <td>0</td>\n",
       "      <td>0</td>\n",
       "      <td>0</td>\n",
       "      <td>0</td>\n",
       "      <td>0</td>\n",
       "      <td>0</td>\n",
       "      <td>0</td>\n",
       "    </tr>\n",
       "  </tbody>\n",
       "</table>\n",
       "<p>5 rows × 5152 columns</p>\n",
       "</div>"
      ],
      "text/plain": [
       "   aa  aadv  aadvantage  aal  abandoned  abc  abi  abilities  ability  able  \\\n",
       "0   0     0           0    0          0    0    0          0        0     0   \n",
       "1   0     0           0    0          0    0    0          0        0     0   \n",
       "2   0     0           0    0          0    0    0          0        0     0   \n",
       "3   0     0           0    0          0    0    0          0        0     0   \n",
       "4   0     0           0    0          0    0    0          0        0     0   \n",
       "\n",
       "   ...  yup  yvonne  yvr  yyj  yyz  zero  zone  zoom  zurich  zz  \n",
       "0  ...    0       0    0    0    0     0     0     0       0   0  \n",
       "1  ...    0       0    0    0    0     0     0     0       0   0  \n",
       "2  ...    0       0    0    0    0     0     0     0       0   0  \n",
       "3  ...    0       0    0    0    0     0     0     0       0   0  \n",
       "4  ...    0       0    0    0    0     0     0     0       0   0  \n",
       "\n",
       "[5 rows x 5152 columns]"
      ]
     },
     "execution_count": 37,
     "metadata": {},
     "output_type": "execute_result"
    }
   ],
   "source": [
    "second_dtm.head()"
   ]
  },
  {
   "cell_type": "markdown",
   "id": "998fe2c3-ec90-4027-8c7f-417327a33a27",
   "metadata": {},
   "source": [
    "The most frequent token list now includes words that make more sense to us, for example, \"flight\", \"cancelled\", \"service\", and etc. "
   ]
  },
  {
   "cell_type": "code",
   "execution_count": 38,
   "id": "ffa7bf4e-640b-49bc-b64b-721140f67f76",
   "metadata": {},
   "outputs": [
    {
     "data": {
      "text/plain": [
       "digit        8427\n",
       "flight       3935\n",
       "hashtag      3243\n",
       "url          1211\n",
       "thanks       1078\n",
       "cancelled    1057\n",
       "just          974\n",
       "service       965\n",
       "help          855\n",
       "time          793\n",
       "dtype: int64"
      ]
     },
     "execution_count": 38,
     "metadata": {},
     "output_type": "execute_result"
    }
   ],
   "source": [
    "second_dtm.sum().sort_values(ascending=False).head(10)"
   ]
  },
  {
   "cell_type": "markdown",
   "id": "3e8b5145-d505-4e36-9a39-a40d25d8ec6f",
   "metadata": {},
   "source": [
    "## 🥊 Challenge 2: Lemmatize the Text Input\n",
    "\n",
    "Recall from Part 1 that we introduced using `spaCy` to perform lemmatization, i.e., removing morphological affixes on words. With lemmatization, we keep only word stems in texts, which presumbaly should capture the core meaning of the text. \n",
    "\n",
    "Now let's implement lemmatization on our tweet data, and pass the lemmatized text to create a third DTM. \n",
    "\n",
    "Complete the function `lemmatize_text`. It requires a text input, and the returned output is the same text except this time lemmas of all tokens. There are several steps we need to consider to complete this function:\n",
    "- Initialize a list to hold lemmas\n",
    "- Apply the `nlp()` pipeline to input text\n",
    "- Iterate over tokens in the processed text, and retrieve lemma of the token\n",
    "    - HINT: lemma is one of the linguistic annotations that the `nlp` pipeline returns. We can use `token.lemma_` to access the annotation."
   ]
  },
  {
   "cell_type": "code",
   "execution_count": 39,
   "id": "da610560-62c3-48ab-a1b2-25e0b589bc61",
   "metadata": {},
   "outputs": [],
   "source": [
    "# Import spaCy\n",
    "import spacy\n",
    "nlp = spacy.load('en_core_web_sm')"
   ]
  },
  {
   "cell_type": "code",
   "execution_count": 40,
   "id": "98ead266-30f3-48ad-bc51-c1685487f000",
   "metadata": {
    "scrolled": true
   },
   "outputs": [],
   "source": [
    "# # Create a function to lemmatize text\n",
    "# def lemmatize_text(text):\n",
    "#     '''Lemmatize the text input with spaCy annotations.'''\n",
    "#\n",
    "#     # Initialize an empty list to hold lemmas\n",
    "#     lemma = [ ]\n",
    "\n",
    "#     # Apply the nlp pipeline to input text\n",
    "#     # YOUR CODE HERE\n",
    "#     doc = ...\n",
    "\n",
    "#     # Iterate over tokens in the text\n",
    "#     for token in doc:\n",
    "#         # Append only if the token is not punctuation or stopword\n",
    "#         # YOUR CODE HERE\n",
    "#         if token not ...:\n",
    "#             lemma.append(...)\n",
    "\n",
    "#     # Join lemmas together into a single string\n",
    "#     text_lemma = ' '.join(lemma)\n",
    "    \n",
    "#     return text_lemma"
   ]
  },
  {
   "cell_type": "code",
   "execution_count": 41,
   "id": "ca1acf76-1424-4bdc-8546-ab14a448b5c6",
   "metadata": {},
   "outputs": [],
   "source": [
    "# Create a function to lemmatize text\n",
    "def lemmatize_text(text):\n",
    "    '''Lemmatize the text input with spaCy annotations.'''\n",
    "    \n",
    "    # Apply the nlp pipeline to input text\n",
    "    doc = nlp(text)\n",
    "\n",
    "    # Append the token lemma to list and join them into a single string\n",
    "    text_lemma = ' '.join([token.lemma_ for token in doc])\n",
    "    \n",
    "    return text_lemma"
   ]
  },
  {
   "cell_type": "code",
   "execution_count": 42,
   "id": "742e82bb-5c42-4fa8-9101-5a0ea908db25",
   "metadata": {},
   "outputs": [
    {
     "name": "stdout",
     "output_type": "stream",
     "text": [
      "USER why must a traveler miss a flight to late flight check a bag? i missed my morning appointments and you lost my business. HASHTAG DIGIT lax\n",
      "==================================================\n",
      "USER why must a traveler miss a flight to late flight check a bag ? I miss my morning appointment and you lose my business . HASHTAG DIGIT lax\n"
     ]
    }
   ],
   "source": [
    "# Apply the function to an example tweet\n",
    "print(tweets.iloc[101][\"text_processed\"])\n",
    "print(f\"{'='*50}\")\n",
    "print(lemmatize_text(tweets.iloc[101]['text_processed']))"
   ]
  },
  {
   "cell_type": "code",
   "execution_count": 43,
   "id": "1ac128d2-1be5-4ef5-bb50-5b8d44ef8ee9",
   "metadata": {},
   "outputs": [],
   "source": [
    "# This may take a while!\n",
    "tweets['text_lemmatized'] = tweets['text_processed'].apply(lambda x: lemmatize_text(x))"
   ]
  },
  {
   "cell_type": "code",
   "execution_count": 44,
   "id": "7e1eddb5-e8d0-4f1e-a88f-7e61efaf8f68",
   "metadata": {
    "scrolled": true
   },
   "outputs": [
    {
     "name": "stdout",
     "output_type": "stream",
     "text": [
      "USER why must a traveler miss a flight to late flight check a bag? i missed my morning appointments and you lost my business. HASHTAG DIGIT lax\n",
      "==================================================\n",
      "USER why must a traveler miss a flight to late flight check a bag ? I miss my morning appointment and you lose my business . HASHTAG DIGIT lax\n"
     ]
    }
   ],
   "source": [
    "# Print the preprocessed tweet\n",
    "print(tweets['text_processed'].iloc[101])\n",
    "print(f\"{'='*50}\")\n",
    "# Print the lemmatized tweet\n",
    "print(tweets['text_lemmatized'].iloc[101])"
   ]
  },
  {
   "cell_type": "code",
   "execution_count": 45,
   "id": "5f49d790-3c9d-4dc1-a5c9-72c306630412",
   "metadata": {},
   "outputs": [
    {
     "data": {
      "text/html": [
       "<div>\n",
       "<style scoped>\n",
       "    .dataframe tbody tr th:only-of-type {\n",
       "        vertical-align: middle;\n",
       "    }\n",
       "\n",
       "    .dataframe tbody tr th {\n",
       "        vertical-align: top;\n",
       "    }\n",
       "\n",
       "    .dataframe thead th {\n",
       "        text-align: right;\n",
       "    }\n",
       "</style>\n",
       "<table border=\"1\" class=\"dataframe\">\n",
       "  <thead>\n",
       "    <tr style=\"text-align: right;\">\n",
       "      <th></th>\n",
       "      <th>aa</th>\n",
       "      <th>aadv</th>\n",
       "      <th>aadvantage</th>\n",
       "      <th>aal</th>\n",
       "      <th>abandon</th>\n",
       "      <th>abc</th>\n",
       "      <th>abi</th>\n",
       "      <th>ability</th>\n",
       "      <th>able</th>\n",
       "      <th>aboard</th>\n",
       "      <th>...</th>\n",
       "      <th>yup</th>\n",
       "      <th>yvonne</th>\n",
       "      <th>yvr</th>\n",
       "      <th>yyj</th>\n",
       "      <th>yyz</th>\n",
       "      <th>zero</th>\n",
       "      <th>zone</th>\n",
       "      <th>zoom</th>\n",
       "      <th>zurich</th>\n",
       "      <th>zz</th>\n",
       "    </tr>\n",
       "  </thead>\n",
       "  <tbody>\n",
       "    <tr>\n",
       "      <th>0</th>\n",
       "      <td>0</td>\n",
       "      <td>0</td>\n",
       "      <td>0</td>\n",
       "      <td>0</td>\n",
       "      <td>0</td>\n",
       "      <td>0</td>\n",
       "      <td>0</td>\n",
       "      <td>0</td>\n",
       "      <td>0</td>\n",
       "      <td>0</td>\n",
       "      <td>...</td>\n",
       "      <td>0</td>\n",
       "      <td>0</td>\n",
       "      <td>0</td>\n",
       "      <td>0</td>\n",
       "      <td>0</td>\n",
       "      <td>0</td>\n",
       "      <td>0</td>\n",
       "      <td>0</td>\n",
       "      <td>0</td>\n",
       "      <td>0</td>\n",
       "    </tr>\n",
       "    <tr>\n",
       "      <th>1</th>\n",
       "      <td>0</td>\n",
       "      <td>0</td>\n",
       "      <td>0</td>\n",
       "      <td>0</td>\n",
       "      <td>0</td>\n",
       "      <td>0</td>\n",
       "      <td>0</td>\n",
       "      <td>0</td>\n",
       "      <td>0</td>\n",
       "      <td>0</td>\n",
       "      <td>...</td>\n",
       "      <td>0</td>\n",
       "      <td>0</td>\n",
       "      <td>0</td>\n",
       "      <td>0</td>\n",
       "      <td>0</td>\n",
       "      <td>0</td>\n",
       "      <td>0</td>\n",
       "      <td>0</td>\n",
       "      <td>0</td>\n",
       "      <td>0</td>\n",
       "    </tr>\n",
       "    <tr>\n",
       "      <th>2</th>\n",
       "      <td>0</td>\n",
       "      <td>0</td>\n",
       "      <td>0</td>\n",
       "      <td>0</td>\n",
       "      <td>0</td>\n",
       "      <td>0</td>\n",
       "      <td>0</td>\n",
       "      <td>0</td>\n",
       "      <td>0</td>\n",
       "      <td>0</td>\n",
       "      <td>...</td>\n",
       "      <td>0</td>\n",
       "      <td>0</td>\n",
       "      <td>0</td>\n",
       "      <td>0</td>\n",
       "      <td>0</td>\n",
       "      <td>0</td>\n",
       "      <td>0</td>\n",
       "      <td>0</td>\n",
       "      <td>0</td>\n",
       "      <td>0</td>\n",
       "    </tr>\n",
       "    <tr>\n",
       "      <th>3</th>\n",
       "      <td>0</td>\n",
       "      <td>0</td>\n",
       "      <td>0</td>\n",
       "      <td>0</td>\n",
       "      <td>0</td>\n",
       "      <td>0</td>\n",
       "      <td>0</td>\n",
       "      <td>0</td>\n",
       "      <td>0</td>\n",
       "      <td>0</td>\n",
       "      <td>...</td>\n",
       "      <td>0</td>\n",
       "      <td>0</td>\n",
       "      <td>0</td>\n",
       "      <td>0</td>\n",
       "      <td>0</td>\n",
       "      <td>0</td>\n",
       "      <td>0</td>\n",
       "      <td>0</td>\n",
       "      <td>0</td>\n",
       "      <td>0</td>\n",
       "    </tr>\n",
       "    <tr>\n",
       "      <th>4</th>\n",
       "      <td>0</td>\n",
       "      <td>0</td>\n",
       "      <td>0</td>\n",
       "      <td>0</td>\n",
       "      <td>0</td>\n",
       "      <td>0</td>\n",
       "      <td>0</td>\n",
       "      <td>0</td>\n",
       "      <td>0</td>\n",
       "      <td>0</td>\n",
       "      <td>...</td>\n",
       "      <td>0</td>\n",
       "      <td>0</td>\n",
       "      <td>0</td>\n",
       "      <td>0</td>\n",
       "      <td>0</td>\n",
       "      <td>0</td>\n",
       "      <td>0</td>\n",
       "      <td>0</td>\n",
       "      <td>0</td>\n",
       "      <td>0</td>\n",
       "    </tr>\n",
       "  </tbody>\n",
       "</table>\n",
       "<p>5 rows × 4097 columns</p>\n",
       "</div>"
      ],
      "text/plain": [
       "   aa  aadv  aadvantage  aal  abandon  abc  abi  ability  able  aboard  ...  \\\n",
       "0   0     0           0    0        0    0    0        0     0       0  ...   \n",
       "1   0     0           0    0        0    0    0        0     0       0  ...   \n",
       "2   0     0           0    0        0    0    0        0     0       0  ...   \n",
       "3   0     0           0    0        0    0    0        0     0       0  ...   \n",
       "4   0     0           0    0        0    0    0        0     0       0  ...   \n",
       "\n",
       "   yup  yvonne  yvr  yyj  yyz  zero  zone  zoom  zurich  zz  \n",
       "0    0       0    0    0    0     0     0     0       0   0  \n",
       "1    0       0    0    0    0     0     0     0       0   0  \n",
       "2    0       0    0    0    0     0     0     0       0   0  \n",
       "3    0       0    0    0    0     0     0     0       0   0  \n",
       "4    0       0    0    0    0     0     0     0       0   0  \n",
       "\n",
       "[5 rows x 4097 columns]"
      ]
     },
     "execution_count": 45,
     "metadata": {},
     "output_type": "execute_result"
    }
   ],
   "source": [
    "# Create the vectorizer (the same param setting as previous)\n",
    "vectorizer = CountVectorizer(lowercase=True,\n",
    "                             stop_words='english',\n",
    "                             min_df=2,\n",
    "                             max_df=0.95,\n",
    "                             max_features=None)\n",
    "\n",
    "# Fit, transform, and get tokens\n",
    "counts = vectorizer.fit_transform(tweets['text_lemmatized'])\n",
    "tokens = vectorizer.get_feature_names_out()\n",
    "\n",
    "# Create the third DTM\n",
    "third_dtm = pd.DataFrame(data=counts.todense(),\n",
    "                   index=tweets.index,\n",
    "                   columns=tokens)\n",
    "third_dtm.head()"
   ]
  },
  {
   "cell_type": "code",
   "execution_count": 46,
   "id": "9859eb04-dbd2-4fa0-9798-65ed7496c297",
   "metadata": {},
   "outputs": [
    {
     "name": "stdout",
     "output_type": "stream",
     "text": [
      "(14640, 9913)\n",
      "(14640, 5152)\n",
      "(14640, 4097)\n"
     ]
    }
   ],
   "source": [
    "# Print the shapes of three DTMs\n",
    "print(first_dtm.shape)\n",
    "print(second_dtm.shape)\n",
    "print(third_dtm.shape)"
   ]
  },
  {
   "cell_type": "code",
   "execution_count": 47,
   "id": "5745ca29-97ed-4fe1-81db-7e402c8da674",
   "metadata": {},
   "outputs": [
    {
     "data": {
      "text/plain": [
       "digit      8427\n",
       "flight     4844\n",
       "hashtag    3243\n",
       "thank      1679\n",
       "url        1211\n",
       "hour       1166\n",
       "cancel     1048\n",
       "service    1000\n",
       "delay       986\n",
       "just        974\n",
       "dtype: int64"
      ]
     },
     "execution_count": 47,
     "metadata": {},
     "output_type": "execute_result"
    }
   ],
   "source": [
    "# Get the most frequent tokens in the third DTM\n",
    "third_dtm.sum().sort_values(ascending=False).head(10)"
   ]
  },
  {
   "cell_type": "markdown",
   "id": "38363398-fdf5-456b-ae3d-cae9d5294140",
   "metadata": {},
   "source": [
    "<a id='section4'></a>\n",
    "\n",
    "# Term Frequency-Inverse Document Frequency \n",
    "\n",
    "So far, we're relying on word frequencies to give us information about a document. This assumes if a word appears more often in a document, it's more informative. However, this may not always be the case. For example, we've already removed stop-words because they are not informative, despite the fact that they appear many times in a document. We also know the word \"flight\" is among the most frequent words, but it is also not that informative, because it appears in many documents. Since we're looking at airline tweets, we shouldn't be surprised to see the word \"flight\"!\n",
    "\n",
    "To remedy this, we use a weighting scheme called **tf-idf (term frequency-inverse document frequency)**. The big idea behind tf-idf is to weight words not just by their frequency within a document, but by their frequency in one document relative to the remaining documents. For words that frequently appearing in almost all documents, we want to scale its frequency down. For words that distinctively appear in a set of but not all documents, we want to scale its frequency up because they are likely to be informative in a particular document.\n",
    "\n",
    "So, when we construct the DTM, we will be assigning each value a **tf-idf score**. Specifically, term $t$ in document $d$ is assigned tf-idf score as follows:\n",
    "\n",
    "<img src='../images/tf-idf.png' alt=\"TF-IDF\" width=\"1000\">\n",
    "\n",
    "In essence, the tf-idf score of a word in a document is the product of two components: term frequency (tf) and inverse document frequency (idf). The idf acts as a scaling factor. If a word occurs in all documents, then idf equals to 1, no scaling will happen. But idf is typically greater than 1, which is the weight we assign to the word to make the tfidf score larger, so as to highlight that the word might be informative. In practice, we add 1 to both the denominator and nominator (\"add-1 smooth\"), to prevent any issues with zero occurrences.\n",
    "\n",
    "We can also create a tf-idf DTM using `sklearn`. We'll use a `TfidfVectorizer` this time:"
   ]
  },
  {
   "cell_type": "code",
   "execution_count": 48,
   "id": "f5e32d8a-c42d-475f-aab4-21eca8b1aee8",
   "metadata": {},
   "outputs": [],
   "source": [
    "from sklearn.feature_extraction.text import TfidfVectorizer"
   ]
  },
  {
   "cell_type": "code",
   "execution_count": 49,
   "id": "d23916c1-5693-456c-b71d-6d9d78d1e2e4",
   "metadata": {},
   "outputs": [],
   "source": [
    "# Create a tfidf vectorizer\n",
    "vectorizer = TfidfVectorizer(lowercase=True,\n",
    "                             stop_words='english',\n",
    "                             min_df=2,\n",
    "                             max_df=0.95,\n",
    "                             max_features=None)"
   ]
  },
  {
   "cell_type": "code",
   "execution_count": 50,
   "id": "7af5b342-ab18-4766-9561-e38e50cd1e9b",
   "metadata": {},
   "outputs": [
    {
     "data": {
      "text/plain": [
       "<14640x4097 sparse matrix of type '<class 'numpy.float64'>'\n",
       "\twith 107285 stored elements in Compressed Sparse Row format>"
      ]
     },
     "execution_count": 50,
     "metadata": {},
     "output_type": "execute_result"
    }
   ],
   "source": [
    "# Fit and transform \n",
    "tf_dtm = vectorizer.fit_transform(tweets['text_lemmatized'])\n",
    "tf_dtm"
   ]
  },
  {
   "cell_type": "code",
   "execution_count": 51,
   "id": "55e509c8-5402-4be0-9143-0e448fff7066",
   "metadata": {},
   "outputs": [
    {
     "data": {
      "text/html": [
       "<div>\n",
       "<style scoped>\n",
       "    .dataframe tbody tr th:only-of-type {\n",
       "        vertical-align: middle;\n",
       "    }\n",
       "\n",
       "    .dataframe tbody tr th {\n",
       "        vertical-align: top;\n",
       "    }\n",
       "\n",
       "    .dataframe thead th {\n",
       "        text-align: right;\n",
       "    }\n",
       "</style>\n",
       "<table border=\"1\" class=\"dataframe\">\n",
       "  <thead>\n",
       "    <tr style=\"text-align: right;\">\n",
       "      <th></th>\n",
       "      <th>aa</th>\n",
       "      <th>aadv</th>\n",
       "      <th>aadvantage</th>\n",
       "      <th>aal</th>\n",
       "      <th>abandon</th>\n",
       "      <th>abc</th>\n",
       "      <th>abi</th>\n",
       "      <th>ability</th>\n",
       "      <th>able</th>\n",
       "      <th>aboard</th>\n",
       "      <th>...</th>\n",
       "      <th>yup</th>\n",
       "      <th>yvonne</th>\n",
       "      <th>yvr</th>\n",
       "      <th>yyj</th>\n",
       "      <th>yyz</th>\n",
       "      <th>zero</th>\n",
       "      <th>zone</th>\n",
       "      <th>zoom</th>\n",
       "      <th>zurich</th>\n",
       "      <th>zz</th>\n",
       "    </tr>\n",
       "  </thead>\n",
       "  <tbody>\n",
       "    <tr>\n",
       "      <th>0</th>\n",
       "      <td>0.0</td>\n",
       "      <td>0.0</td>\n",
       "      <td>0.0</td>\n",
       "      <td>0.0</td>\n",
       "      <td>0.0</td>\n",
       "      <td>0.0</td>\n",
       "      <td>0.0</td>\n",
       "      <td>0.0</td>\n",
       "      <td>0.0</td>\n",
       "      <td>0.0</td>\n",
       "      <td>...</td>\n",
       "      <td>0.0</td>\n",
       "      <td>0.0</td>\n",
       "      <td>0.0</td>\n",
       "      <td>0.0</td>\n",
       "      <td>0.0</td>\n",
       "      <td>0.0</td>\n",
       "      <td>0.0</td>\n",
       "      <td>0.0</td>\n",
       "      <td>0.0</td>\n",
       "      <td>0.0</td>\n",
       "    </tr>\n",
       "    <tr>\n",
       "      <th>1</th>\n",
       "      <td>0.0</td>\n",
       "      <td>0.0</td>\n",
       "      <td>0.0</td>\n",
       "      <td>0.0</td>\n",
       "      <td>0.0</td>\n",
       "      <td>0.0</td>\n",
       "      <td>0.0</td>\n",
       "      <td>0.0</td>\n",
       "      <td>0.0</td>\n",
       "      <td>0.0</td>\n",
       "      <td>...</td>\n",
       "      <td>0.0</td>\n",
       "      <td>0.0</td>\n",
       "      <td>0.0</td>\n",
       "      <td>0.0</td>\n",
       "      <td>0.0</td>\n",
       "      <td>0.0</td>\n",
       "      <td>0.0</td>\n",
       "      <td>0.0</td>\n",
       "      <td>0.0</td>\n",
       "      <td>0.0</td>\n",
       "    </tr>\n",
       "    <tr>\n",
       "      <th>2</th>\n",
       "      <td>0.0</td>\n",
       "      <td>0.0</td>\n",
       "      <td>0.0</td>\n",
       "      <td>0.0</td>\n",
       "      <td>0.0</td>\n",
       "      <td>0.0</td>\n",
       "      <td>0.0</td>\n",
       "      <td>0.0</td>\n",
       "      <td>0.0</td>\n",
       "      <td>0.0</td>\n",
       "      <td>...</td>\n",
       "      <td>0.0</td>\n",
       "      <td>0.0</td>\n",
       "      <td>0.0</td>\n",
       "      <td>0.0</td>\n",
       "      <td>0.0</td>\n",
       "      <td>0.0</td>\n",
       "      <td>0.0</td>\n",
       "      <td>0.0</td>\n",
       "      <td>0.0</td>\n",
       "      <td>0.0</td>\n",
       "    </tr>\n",
       "    <tr>\n",
       "      <th>3</th>\n",
       "      <td>0.0</td>\n",
       "      <td>0.0</td>\n",
       "      <td>0.0</td>\n",
       "      <td>0.0</td>\n",
       "      <td>0.0</td>\n",
       "      <td>0.0</td>\n",
       "      <td>0.0</td>\n",
       "      <td>0.0</td>\n",
       "      <td>0.0</td>\n",
       "      <td>0.0</td>\n",
       "      <td>...</td>\n",
       "      <td>0.0</td>\n",
       "      <td>0.0</td>\n",
       "      <td>0.0</td>\n",
       "      <td>0.0</td>\n",
       "      <td>0.0</td>\n",
       "      <td>0.0</td>\n",
       "      <td>0.0</td>\n",
       "      <td>0.0</td>\n",
       "      <td>0.0</td>\n",
       "      <td>0.0</td>\n",
       "    </tr>\n",
       "    <tr>\n",
       "      <th>4</th>\n",
       "      <td>0.0</td>\n",
       "      <td>0.0</td>\n",
       "      <td>0.0</td>\n",
       "      <td>0.0</td>\n",
       "      <td>0.0</td>\n",
       "      <td>0.0</td>\n",
       "      <td>0.0</td>\n",
       "      <td>0.0</td>\n",
       "      <td>0.0</td>\n",
       "      <td>0.0</td>\n",
       "      <td>...</td>\n",
       "      <td>0.0</td>\n",
       "      <td>0.0</td>\n",
       "      <td>0.0</td>\n",
       "      <td>0.0</td>\n",
       "      <td>0.0</td>\n",
       "      <td>0.0</td>\n",
       "      <td>0.0</td>\n",
       "      <td>0.0</td>\n",
       "      <td>0.0</td>\n",
       "      <td>0.0</td>\n",
       "    </tr>\n",
       "  </tbody>\n",
       "</table>\n",
       "<p>5 rows × 4097 columns</p>\n",
       "</div>"
      ],
      "text/plain": [
       "    aa  aadv  aadvantage  aal  abandon  abc  abi  ability  able  aboard  ...  \\\n",
       "0  0.0   0.0         0.0  0.0      0.0  0.0  0.0      0.0   0.0     0.0  ...   \n",
       "1  0.0   0.0         0.0  0.0      0.0  0.0  0.0      0.0   0.0     0.0  ...   \n",
       "2  0.0   0.0         0.0  0.0      0.0  0.0  0.0      0.0   0.0     0.0  ...   \n",
       "3  0.0   0.0         0.0  0.0      0.0  0.0  0.0      0.0   0.0     0.0  ...   \n",
       "4  0.0   0.0         0.0  0.0      0.0  0.0  0.0      0.0   0.0     0.0  ...   \n",
       "\n",
       "   yup  yvonne  yvr  yyj  yyz  zero  zone  zoom  zurich   zz  \n",
       "0  0.0     0.0  0.0  0.0  0.0   0.0   0.0   0.0     0.0  0.0  \n",
       "1  0.0     0.0  0.0  0.0  0.0   0.0   0.0   0.0     0.0  0.0  \n",
       "2  0.0     0.0  0.0  0.0  0.0   0.0   0.0   0.0     0.0  0.0  \n",
       "3  0.0     0.0  0.0  0.0  0.0   0.0   0.0   0.0     0.0  0.0  \n",
       "4  0.0     0.0  0.0  0.0  0.0   0.0   0.0   0.0     0.0  0.0  \n",
       "\n",
       "[5 rows x 4097 columns]"
      ]
     },
     "execution_count": 51,
     "metadata": {},
     "output_type": "execute_result"
    }
   ],
   "source": [
    "# Create a tf-idf dataframe\n",
    "tfidf = pd.DataFrame(tf_dtm.todense(),\n",
    "                     columns=vectorizer.get_feature_names_out(),\n",
    "                     index=tweets.index)\n",
    "tfidf.head()"
   ]
  },
  {
   "cell_type": "markdown",
   "id": "45ba13ea-c429-4ff1-a9a2-abf27c4d0888",
   "metadata": {},
   "source": [
    "You may have noticed that we still have the same vocabulary size as we saw in Challenge 2, this is because we sticked to the same parameter setting when creating the vectorizer. But the values in the matrix are different now---they are tf-idf scores inseatd of raw counts. "
   ]
  },
  {
   "cell_type": "markdown",
   "id": "fa58c360-5c55-4fa0-8c55-1f00e68baa9a",
   "metadata": {},
   "source": [
    "## Interpret TF-IDF Values"
   ]
  },
  {
   "cell_type": "markdown",
   "id": "bdad233d-ebc1-420f-9b67-c227c48f3e60",
   "metadata": {},
   "source": [
    "Let's take a look the document where a term has the highest tf-idf values.\n",
    "\n",
    "We'll use `idxmax()` to find the index to the document."
   ]
  },
  {
   "cell_type": "code",
   "execution_count": 52,
   "id": "995b511a-d448-4cfb-a6a0-22a465efd8a8",
   "metadata": {},
   "outputs": [
    {
     "data": {
      "text/plain": [
       "aa             1061\n",
       "aadv          11933\n",
       "aadvantage    12813\n",
       "aal           13588\n",
       "abandon       10288\n",
       "              ...  \n",
       "zero           3367\n",
       "zone           3975\n",
       "zoom           4970\n",
       "zurich        13583\n",
       "zz             6679\n",
       "Length: 4097, dtype: int64"
      ]
     },
     "execution_count": 52,
     "metadata": {},
     "output_type": "execute_result"
    }
   ],
   "source": [
    "# Retrieve the index to the document\n",
    "tfidf.idxmax()"
   ]
  },
  {
   "cell_type": "markdown",
   "id": "fccc0249-7c68-42ee-8290-ff41715e346b",
   "metadata": {},
   "source": [
    "For example, the term \"worst\" occurs distinctively in the 1214th tweet, let's retrieve the tweet!"
   ]
  },
  {
   "cell_type": "code",
   "execution_count": 53,
   "id": "09b222fb-ad8c-4767-a974-dd261370a06e",
   "metadata": {},
   "outputs": [
    {
     "data": {
      "text/plain": [
       "1214"
      ]
     },
     "execution_count": 53,
     "metadata": {},
     "output_type": "execute_result"
    }
   ],
   "source": [
    "tfidf.idxmax()['worst']"
   ]
  },
  {
   "cell_type": "markdown",
   "id": "955a48bc-dc93-481b-ba49-29876fc577fb",
   "metadata": {},
   "source": [
    "It turns out to be the 1214th tweet---recall from previous part that it is the tweet where the word \"worst\" appears 6 times!"
   ]
  },
  {
   "cell_type": "code",
   "execution_count": 54,
   "id": "079ee0e0-476f-4236-ba8a-615ba7a0efe8",
   "metadata": {},
   "outputs": [
    {
     "data": {
      "text/plain": [
       "\"USER is the worst. worst reservation policies. worst costumer service. worst worst worst. congrats, USER you're not that bad!\""
      ]
     },
     "execution_count": 54,
     "metadata": {},
     "output_type": "execute_result"
    }
   ],
   "source": [
    "tweets['text_processed'].iloc[1214]"
   ]
  },
  {
   "cell_type": "markdown",
   "id": "9dd06bbc-e2fc-49e4-9354-efdaca5cfbd3",
   "metadata": {},
   "source": [
    "How about \"waiting\"? Let's take a look at another one!"
   ]
  },
  {
   "cell_type": "code",
   "execution_count": 55,
   "id": "f809df1a-1178-4272-a415-42edb20173b2",
   "metadata": {},
   "outputs": [
    {
     "data": {
      "text/plain": [
       "13298"
      ]
     },
     "execution_count": 55,
     "metadata": {},
     "output_type": "execute_result"
    }
   ],
   "source": [
    "tfidf.idxmax()['waiting']"
   ]
  },
  {
   "cell_type": "code",
   "execution_count": 56,
   "id": "8093b6a7-54ca-468a-9376-b3c0be0b6f9b",
   "metadata": {},
   "outputs": [
    {
     "data": {
      "text/plain": [
       "'USER i tried already and i am on the waiting list for a call back # DIGIT hourwaitsucks'"
      ]
     },
     "execution_count": 56,
     "metadata": {},
     "output_type": "execute_result"
    }
   ],
   "source": [
    "tweets['text_processed'].iloc[13298]"
   ]
  },
  {
   "cell_type": "markdown",
   "id": "ffbca265-2cf6-47a4-8f37-fd7b0016cd8d",
   "metadata": {},
   "source": [
    "🔔 **Question**: Try to explain to yourself what does the TF-IDF value mean in these two examples. "
   ]
  },
  {
   "cell_type": "markdown",
   "id": "163dcecd-dc8c-43a9-952d-5bc84a307b07",
   "metadata": {},
   "source": [
    "## 🥊 Challenge 3: Words with Highest Mean TF-IDF scores\n",
    "\n",
    "So we have got tf-idf values for each term in each document, does that inform us anything about our data? Instead of focusing on tf-idf value of any particular word, let's take a step back. Is there any word to be particularly informative for positive/negative tweets? Let's gather the indices to all positive/negative tweets, and calculate the mean tf-idf scores of words appear in positive/negative tweets. \n",
    "\n",
    "We've provided the following code blocks to scaffold:\n",
    "- Use boolean masks to select tweets that have positive/negative sentiments, retrieve the indices, and assign them to `positive_index`/`negative_index`\n",
    "- Select positive/negative tweets in the tfidf dataframe, and take the mean tfidf values across the documents, sort the mean values in descedning order, and get the top 10 terms. \n",
    "\n",
    "After you've completed the following two cells, andplot the words having the highest mean tf-idf scores for each subset. "
   ]
  },
  {
   "cell_type": "code",
   "execution_count": 57,
   "id": "2bfbf838-9ff6-48b8-ad5d-5e75304fe060",
   "metadata": {},
   "outputs": [],
   "source": [
    "# # Complete the boolean masks \n",
    "# positive_index = tweets[...].index\n",
    "# negative_index = tweets[...].index"
   ]
  },
  {
   "cell_type": "code",
   "execution_count": 58,
   "id": "8c67ea1f-de9e-49a9-94f2-a3351446e364",
   "metadata": {},
   "outputs": [],
   "source": [
    "# # Complete the following two lines\n",
    "# pos = tfidf.loc[...].mean().sort_values(...).head(...)\n",
    "# neg = tfidf.loc[...].mean().sort_values(...).head(...)"
   ]
  },
  {
   "cell_type": "code",
   "execution_count": 59,
   "id": "8bdf3802-5c55-4cd3-a311-3c333329dc61",
   "metadata": {},
   "outputs": [],
   "source": [
    "positive_index = tweets[tweets['airline_sentiment'] == 'positive'].index\n",
    "negative_index = tweets[tweets['airline_sentiment'] == 'negative'].index\n",
    "\n",
    "pos = tfidf.loc[positive_index].mean().sort_values(ascending=False).head(10)\n",
    "neg = tfidf.loc[negative_index].mean().sort_values(ascending=False).head(10)"
   ]
  },
  {
   "cell_type": "code",
   "execution_count": 60,
   "id": "f1e29043-8c78-4e41-81d2-b4552030b457",
   "metadata": {},
   "outputs": [
    {
     "data": {
      "image/png": "[encoded data removed]",
      "text/plain": [
       "<Figure size 640x480 with 1 Axes>"
      ]
     },
     "metadata": {},
     "output_type": "display_data"
    }
   ],
   "source": [
    "pos.plot(kind='barh', \n",
    "         xlim=(0, 0.18),\n",
    "         color='cornflowerblue',\n",
    "         title='Top 10 terms with the highest mean tfidf values for positive tweets');"
   ]
  },
  {
   "cell_type": "code",
   "execution_count": 61,
   "id": "e8b25940-2372-4755-818e-f75e4d23daf9",
   "metadata": {},
   "outputs": [
    {
     "data": {
      "image/png": "[encoded data removed]",
      "text/plain": [
       "<Figure size 640x480 with 1 Axes>"
      ]
     },
     "metadata": {},
     "output_type": "display_data"
    }
   ],
   "source": [
    "neg.plot(kind='barh', \n",
    "         xlim=(0, 0.18),\n",
    "         color='darksalmon',\n",
    "         title='Top 10 terms with the highest mean tfidf values for negative tweets');"
   ]
  },
  {
   "cell_type": "markdown",
   "id": "77bca876-9649-46f3-bd4f-f9f68fea649a",
   "metadata": {},
   "source": [
    "🔔 **Question**: How do you interpret these two plots? Is there any word that dosn't really make sense to you?"
   ]
  },
  {
   "cell_type": "markdown",
   "id": "da410cb3-a452-441b-a94d-8f751d59d7a6",
   "metadata": {},
   "source": [
    "<a id='section5'></a>\n",
    "# Sentiment Classification\n",
    "\n",
    "Now that we have a numerical representation of the text, we'd like to do something with it. A common task is supervised learning: using the numerical representation to predict some kind of label about the text. Text classification can consist of many types of analysis, such as:\n",
    "\n",
    "* Sentiment analysis\n",
    "* Genre classification\n",
    "* Language identification\n",
    "* Authorship attribution\n",
    "* Spam detection\n",
    "* Document relevancy\n",
    "\n",
    "and many others. How exactly do we go about doing this?\n",
    "\n",
    "Let's consider a toy example: \"This was the best service! Would love to come again!\"\n",
    "\n",
    "This is very clearly expressing positive sentiment. But how did we make that judgement?\n",
    "\n",
    "* The review claims the service is the \"best\". This is pretty positive.\n",
    "* The reviewer says they would \"love\" to come again. This is also positive.\n",
    "\n",
    "Specific key words (tokens) were predictive of the sentiment. If someone says something was the \"best\", it's a good sign there's positive sentiment in the text. The semantic meaning of these words helps convey sentiment. \n",
    "\n",
    "This is how we can proceed with classification. We'll construct a DTM from the text data, and use that to predict the labels using a machine learning model."
   ]
  },
  {
   "cell_type": "markdown",
   "id": "e1121954-e13c-4bdc-9323-6834060d7197",
   "metadata": {},
   "source": [
    "## Predicting Sentiment with Logistic Regression\n",
    "\n",
    "We're going to use a logistic regression model to predict the labels. If you're not familiar with this model, or the basics of machine learning, we recommend taking the Python Machine Learning workshop offered at the D-Lab. For now, we'll review some basics.\n",
    "\n",
    "The DTM is a $D\\times T$ matrix, where $D$ is the number of documents, and $T$ is the number of terms. We can think of the $T$ terms as the \"features\": these values are what we'll use to predict the sentiment. The $D$ documents represent samples: we'll use the patterns across these samples to learn a relationship between the feature and the outcome.\n",
    "\n",
    "In logistic regression, we are learning a **linear model** represented by specific parameters, which we'll call $\\beta_i$. For features $x_i$ (this is a row in the DTM), we construct a **logit**:\n",
    "\n",
    "$$\n",
    "L = \\beta_1 x_1 + \\beta_2 x_2 + \\cdots + \\beta_T x_T\n",
    "$$\n",
    "\n",
    "and obtain a probability $p$ by passing this logit through the **sigmoid function**, which maps any value onto the range $[0, 1]$:\n",
    "\n",
    "$$\n",
    "p = \\text{sigmoid}(L) = \\frac{1}{1 + \\exp(-L)}\n",
    "$$\n",
    "\n",
    "We can quite literally think of $p$ as a probability that the sample falls in one of the two classes. If, say, $p>0.5$, we call the sample positive sentiment; otherwise, it's negative sentiment.\n",
    "\n",
    "So, to summarize: we take each sample, which consists of features $x = (x_1, x_2, \\ldots, x_T)$, multiply them by $\\beta_i$ values, and add them up. Pass them through a sigmoid, and get a probability. The key question is: how do we know what $\\beta_i$ values to use? We won't discuss thus details here, but an optimization algorithm will learn the best values given the data. \n",
    "\n",
    "Let's train a model! We're going to use `sklearn` to do this:"
   ]
  },
  {
   "cell_type": "code",
   "execution_count": 62,
   "id": "33413d63-87eb-489f-b374-3cfeaa51cf3c",
   "metadata": {},
   "outputs": [],
   "source": [
    "from sklearn.linear_model import LogisticRegressionCV\n",
    "from sklearn.model_selection import train_test_split"
   ]
  },
  {
   "cell_type": "markdown",
   "id": "330d33c6-2640-44cd-8a3a-3dd62b98f3af",
   "metadata": {},
   "source": [
    "To understand the theoretical gist of our classification task, let's first focus on a binary \"positive vs negative\" classifier. We are going to do so by restricting the analysis to the non-neutral tweets. So, we'll first partition the dataframe:"
   ]
  },
  {
   "cell_type": "code",
   "execution_count": 63,
   "id": "508769ec-dd07-4492-8308-17e031a522da",
   "metadata": {},
   "outputs": [
    {
     "data": {
      "text/plain": [
       "(11541, 17)"
      ]
     },
     "execution_count": 63,
     "metadata": {},
     "output_type": "execute_result"
    }
   ],
   "source": [
    "# Filter out tweets with neutral sentiment\n",
    "tweets_binary = tweets[tweets['airline_sentiment'] != 'neutral']\n",
    "tweets_binary.shape"
   ]
  },
  {
   "cell_type": "markdown",
   "id": "87ca64c2-0cfe-4e12-ae44-74c75fae456d",
   "metadata": {},
   "source": [
    "Next, we're going to apply a tf-idf vectorizer to the data. We will apply the vectorizer to the lemmatized text. "
   ]
  },
  {
   "cell_type": "code",
   "execution_count": 64,
   "id": "9358ed4d-8108-4fef-9a97-0271544bd30f",
   "metadata": {},
   "outputs": [
    {
     "name": "stdout",
     "output_type": "stream",
     "text": [
      "(11541, 3553)\n"
     ]
    }
   ],
   "source": [
    "# Create a tfidf vectorizer object\n",
    "vectorizer = TfidfVectorizer(lowercase=True,\n",
    "                             stop_words='english',\n",
    "                             min_df=2,\n",
    "                             max_df=0.95,\n",
    "                             max_features=None)\n",
    "\n",
    "# Fit and transform\n",
    "dtm = vectorizer.fit_transform(tweets_binary['text_lemmatized'])\n",
    "\n",
    "# Get the tfidf values - features fed into the classifier\n",
    "X = np.asarray(dtm.todense())\n",
    "\n",
    "# Print the shape of the features\n",
    "print(X.shape)"
   ]
  },
  {
   "cell_type": "markdown",
   "id": "44a6a8e5-da30-4363-8f17-112a0fe94083",
   "metadata": {},
   "source": [
    "Now, we need to get the labels for each of the 11,541 tweets. We can do this by simply extracting the `airline_sentiment` column---`sklearn` is smart enough to handle the details later. Let's also check out the distribution of the labels, to get a sense for a good baseline:"
   ]
  },
  {
   "cell_type": "code",
   "execution_count": 65,
   "id": "0e7df4f3-0fb0-406f-9240-c9f9761eabea",
   "metadata": {},
   "outputs": [
    {
     "name": "stdout",
     "output_type": "stream",
     "text": [
      "airline_sentiment\n",
      "negative    9178\n",
      "positive    2363\n",
      "Name: count, dtype: int64\n"
     ]
    }
   ],
   "source": [
    "# Get the proporation of each class\n",
    "y = tweets_binary['airline_sentiment']\n",
    "print(y.value_counts())"
   ]
  },
  {
   "cell_type": "markdown",
   "id": "ee87ff74-3fbb-472a-b795-6f4d18fab215",
   "metadata": {},
   "source": [
    "Machine learning fundamentally requires that we learn the $\\beta_i$ values from a **training set**, and then evaluate the performance on a separately held **test set**. This ensures that we actually develop an algorithm that can **generalize**. We'll use the `train_test_split` function from `sklearn` to separate our data into two sets:"
   ]
  },
  {
   "cell_type": "code",
   "execution_count": 66,
   "id": "64cec8b9-14d9-4897-9c02-cc89fcf7b3c6",
   "metadata": {},
   "outputs": [],
   "source": [
    "# Train-test split\n",
    "X_train, X_test, y_train, y_test = train_test_split(X, y, test_size=0.1)"
   ]
  },
  {
   "cell_type": "markdown",
   "id": "066771d8-2f31-4646-9a1b-6d2b1b9b208c",
   "metadata": {},
   "source": [
    "In order to streamline the training process, we've written a `fit_logistic_regression` function you can use to easily train a model given the data inputs. \n",
    "\n",
    "Given the positive and positive classes are not balanced, we can tell the classifier to automatically assigning weights proportional to our data in order to have pay more attention to the minority class."
   ]
  },
  {
   "cell_type": "code",
   "execution_count": 67,
   "id": "d46de0b2-af00-4a1d-b4cd-31b96ce545d1",
   "metadata": {},
   "outputs": [],
   "source": [
    "def fit_logistic_regression(X, y):\n",
    "    \"\"\"Fits a logistic regression model to provided data.\"\"\"\n",
    "    model = LogisticRegressionCV(Cs=10,\n",
    "                                 penalty='l1',\n",
    "                                 cv=5,\n",
    "                                 solver='liblinear',\n",
    "                                 class_weight='balanced',\n",
    "                                 random_state=3,\n",
    "                                 refit=True).fit(X, y)\n",
    "    return model"
   ]
  },
  {
   "cell_type": "markdown",
   "id": "124aa7ea-1bc1-43e2-beeb-0ba2da9b2df9",
   "metadata": {},
   "source": [
    "We'll fit the model, and see how it performs on both the training and test sets:"
   ]
  },
  {
   "cell_type": "code",
   "execution_count": 68,
   "id": "773963bd-6603-4fad-884b-09ce60afab18",
   "metadata": {},
   "outputs": [],
   "source": [
    "# Fit the logistic regression model\n",
    "model = fit_logistic_regression(X_train, y_train)"
   ]
  },
  {
   "cell_type": "code",
   "execution_count": 69,
   "id": "e10d06c1-d884-45d4-a03d-dd5d40bf70aa",
   "metadata": {},
   "outputs": [
    {
     "name": "stdout",
     "output_type": "stream",
     "text": [
      "Training accuracy: 0.946370113614481\n",
      "Test accuracy: 0.9038961038961039\n"
     ]
    }
   ],
   "source": [
    "print(f\"Training accuracy: {model.score(X_train, y_train)}\")\n",
    "print(f\"Test accuracy: {model.score(X_test, y_test)}\")"
   ]
  },
  {
   "cell_type": "markdown",
   "id": "d4e186c5-1719-4deb-bdb4-614a9980f058",
   "metadata": {},
   "source": [
    "The model got ~94% accuracy on the training set, and ~89% on the test set - that's pretty good! The similarity between the two performances is also a good sign - it means we were able to generalize pretty well."
   ]
  },
  {
   "cell_type": "markdown",
   "id": "c11b5232-b9f5-471b-8269-ee529a6b1072",
   "metadata": {},
   "source": [
    "## Validating Model Performance on New Tweets\n",
    "\n",
    "Now that we have a trained model, there's nothing stopping us from using it on new data! The `model` object comes equipped with a `predict` function that we can use to evaluate on new text samples:"
   ]
  },
  {
   "cell_type": "code",
   "execution_count": 70,
   "id": "21c7ea47-4d82-4918-9875-d0520358de6e",
   "metadata": {},
   "outputs": [],
   "source": [
    "# Some new tweets\n",
    "new_tweets = [\"It's been 10hrs of delay @United please do your job.\",\n",
    "              'omg I am never flying on United again',\n",
    "              'I love @VirginAmerica so much #friendlystaff',\n",
    "              'food on Air France is great!']\n",
    "\n",
    "# First, we need to preprocess them\n",
    "new_tweets_processed = [lemmatize_text(preprocess(tweet)) for tweet in new_tweets]\n",
    "\n",
    "# Next, we need to vectorize them\n",
    "X_new = np.asarray(vectorizer.transform(new_tweets_processed).todense())"
   ]
  },
  {
   "cell_type": "code",
   "execution_count": 71,
   "id": "bf110a09-e99a-40fa-adef-51b1482da413",
   "metadata": {},
   "outputs": [
    {
     "data": {
      "text/plain": [
       "array(['negative', 'positive', 'positive', 'positive'], dtype=object)"
      ]
     },
     "execution_count": 71,
     "metadata": {},
     "output_type": "execute_result"
    }
   ],
   "source": [
    "# Run predictions\n",
    "model.predict(X_new)"
   ]
  },
  {
   "cell_type": "code",
   "execution_count": 72,
   "id": "d7f31f1f-1eeb-4811-819a-a6ccba08fe59",
   "metadata": {},
   "outputs": [
    {
     "data": {
      "text/plain": [
       "array([[9.99027926e-01, 9.72074255e-04],\n",
       "       [3.07480235e-01, 6.92519765e-01],\n",
       "       [5.49103385e-04, 9.99450897e-01],\n",
       "       [2.26283312e-01, 7.73716688e-01]])"
      ]
     },
     "execution_count": 72,
     "metadata": {},
     "output_type": "execute_result"
    }
   ],
   "source": [
    "# Get probabilities\n",
    "predicts = model.predict_proba(X_new)\n",
    "predicts"
   ]
  },
  {
   "cell_type": "code",
   "execution_count": 73,
   "id": "b987608b-4aa9-4c83-9453-97d939ed8e16",
   "metadata": {},
   "outputs": [
    {
     "name": "stdout",
     "output_type": "stream",
     "text": [
      "For the new tweet: It's been 10hrs of delay @United please do your job.\n",
      "The probability of being positive is 0.001\n",
      "\n",
      "For the new tweet: omg I am never flying on United again\n",
      "The probability of being positive is 0.693\n",
      "\n",
      "For the new tweet: I love @VirginAmerica so much #friendlystaff\n",
      "The probability of being positive is 0.999\n",
      "\n",
      "For the new tweet: food on Air France is great!\n",
      "The probability of being positive is 0.774\n",
      "\n"
     ]
    }
   ],
   "source": [
    "# Retrieve the probability of being positive for each tweet\n",
    "for i, tweet in enumerate(new_tweets):\n",
    "    print(f\"For the new tweet: {tweet}\\n\"\n",
    "          f\"The probability of being positive is {predicts[i][1]:.3f}\\n\")"
   ]
  },
  {
   "cell_type": "markdown",
   "id": "88ec2ccf-e339-4f08-bc86-9d2aa42864d6",
   "metadata": {},
   "source": [
    "Those predictions look pretty good! Feel free to give the model a try on other tweets you write."
   ]
  },
  {
   "cell_type": "markdown",
   "id": "310dac39-4753-4ae8-8dfa-e65e5824cccb",
   "metadata": {},
   "source": [
    "## Interpreting the Model Coefficients\n",
    "\n",
    "The nice thing about logistic regression is that it is **interpretable**. Take a look at the logit again:\n",
    "\n",
    "$$\n",
    "L = \\beta_1 x_1 + \\beta_2 x_2 + \\cdots + \\beta_T x_T\n",
    "$$\n",
    "\n",
    "If $L$ is very positive, the sigmoid will make sure that the probability $p$ is close to 1 (positive sentiment). If $L$ is very negative, the sigmoid will make sure that the probability $p$ is close to 0 (negative sentiment). So, by looking at the coefficients $\\beta_i$, we can see how each feature (token) impacts the eventual prediction. If $\\beta_i >0$, then the presence of that feature implies positive sentiment, according to the model. If  $\\beta_i < 0$, then the presence of that feature implies negative sentiment, according to the model.\n",
    "\n",
    "So, let's take a look at the fitted coefficients to see if what we see makes sense! We can access them using the `coef_` member, and we can match each coefficient to the tokens from the vectorizer:"
   ]
  },
  {
   "cell_type": "code",
   "execution_count": 74,
   "id": "6dcb6ef1-13b3-437e-813c-7118911847a4",
   "metadata": {},
   "outputs": [],
   "source": [
    "# Get coefs of all features\n",
    "coefs = model.coef_.ravel()\n",
    "\n",
    "# Get all tokens\n",
    "tokens = vectorizer.get_feature_names_out()\n",
    "\n",
    "# Create a token-coef dataframe\n",
    "importance = pd.DataFrame()\n",
    "importance['token'] = tokens\n",
    "importance['coefs'] = coefs"
   ]
  },
  {
   "cell_type": "code",
   "execution_count": 75,
   "id": "e5598e78-924d-41a5-a442-dc9c32ce2df3",
   "metadata": {},
   "outputs": [
    {
     "data": {
      "text/html": [
       "<div>\n",
       "<style scoped>\n",
       "    .dataframe tbody tr th:only-of-type {\n",
       "        vertical-align: middle;\n",
       "    }\n",
       "\n",
       "    .dataframe tbody tr th {\n",
       "        vertical-align: top;\n",
       "    }\n",
       "\n",
       "    .dataframe thead th {\n",
       "        text-align: right;\n",
       "    }\n",
       "</style>\n",
       "<table border=\"1\" class=\"dataframe\">\n",
       "  <thead>\n",
       "    <tr style=\"text-align: right;\">\n",
       "      <th></th>\n",
       "      <th>token</th>\n",
       "      <th>coefs</th>\n",
       "    </tr>\n",
       "  </thead>\n",
       "  <tbody>\n",
       "    <tr>\n",
       "      <th>0</th>\n",
       "      <td>aa</td>\n",
       "      <td>-0.943616</td>\n",
       "    </tr>\n",
       "    <tr>\n",
       "      <th>1</th>\n",
       "      <td>aadv</td>\n",
       "      <td>0.000000</td>\n",
       "    </tr>\n",
       "    <tr>\n",
       "      <th>2</th>\n",
       "      <td>aadvantage</td>\n",
       "      <td>0.000000</td>\n",
       "    </tr>\n",
       "    <tr>\n",
       "      <th>3</th>\n",
       "      <td>aal</td>\n",
       "      <td>0.000000</td>\n",
       "    </tr>\n",
       "    <tr>\n",
       "      <th>4</th>\n",
       "      <td>abandon</td>\n",
       "      <td>0.000000</td>\n",
       "    </tr>\n",
       "  </tbody>\n",
       "</table>\n",
       "</div>"
      ],
      "text/plain": [
       "        token     coefs\n",
       "0          aa -0.943616\n",
       "1        aadv  0.000000\n",
       "2  aadvantage  0.000000\n",
       "3         aal  0.000000\n",
       "4     abandon  0.000000"
      ]
     },
     "execution_count": 75,
     "metadata": {},
     "output_type": "execute_result"
    }
   ],
   "source": [
    "# Take a look the dataframe\n",
    "importance.head()"
   ]
  },
  {
   "cell_type": "code",
   "execution_count": 76,
   "id": "3e63814e-9c0d-4f7a-a5e0-72cca2758d71",
   "metadata": {},
   "outputs": [
    {
     "data": {
      "text/html": [
       "<div>\n",
       "<style scoped>\n",
       "    .dataframe tbody tr th:only-of-type {\n",
       "        vertical-align: middle;\n",
       "    }\n",
       "\n",
       "    .dataframe tbody tr th {\n",
       "        vertical-align: top;\n",
       "    }\n",
       "\n",
       "    .dataframe thead th {\n",
       "        text-align: right;\n",
       "    }\n",
       "</style>\n",
       "<table border=\"1\" class=\"dataframe\">\n",
       "  <thead>\n",
       "    <tr style=\"text-align: right;\">\n",
       "      <th></th>\n",
       "      <th>token</th>\n",
       "      <th>coefs</th>\n",
       "    </tr>\n",
       "  </thead>\n",
       "  <tbody>\n",
       "    <tr>\n",
       "      <th>2724</th>\n",
       "      <td>rude</td>\n",
       "      <td>-11.733203</td>\n",
       "    </tr>\n",
       "    <tr>\n",
       "      <th>2784</th>\n",
       "      <td>screw</td>\n",
       "      <td>-9.571480</td>\n",
       "    </tr>\n",
       "    <tr>\n",
       "      <th>2727</th>\n",
       "      <td>ruin</td>\n",
       "      <td>-9.279296</td>\n",
       "    </tr>\n",
       "    <tr>\n",
       "      <th>1505</th>\n",
       "      <td>hour</td>\n",
       "      <td>-8.068713</td>\n",
       "    </tr>\n",
       "    <tr>\n",
       "      <th>1513</th>\n",
       "      <td>hrs</td>\n",
       "      <td>-7.979550</td>\n",
       "    </tr>\n",
       "    <tr>\n",
       "      <th>2280</th>\n",
       "      <td>pay</td>\n",
       "      <td>-7.585713</td>\n",
       "    </tr>\n",
       "    <tr>\n",
       "      <th>264</th>\n",
       "      <td>bad</td>\n",
       "      <td>-7.484269</td>\n",
       "    </tr>\n",
       "    <tr>\n",
       "      <th>3034</th>\n",
       "      <td>strand</td>\n",
       "      <td>-7.469460</td>\n",
       "    </tr>\n",
       "    <tr>\n",
       "      <th>1411</th>\n",
       "      <td>hang</td>\n",
       "      <td>-7.316415</td>\n",
       "    </tr>\n",
       "    <tr>\n",
       "      <th>1135</th>\n",
       "      <td>fail</td>\n",
       "      <td>-6.976070</td>\n",
       "    </tr>\n",
       "  </tbody>\n",
       "</table>\n",
       "</div>"
      ],
      "text/plain": [
       "       token      coefs\n",
       "2724    rude -11.733203\n",
       "2784   screw  -9.571480\n",
       "2727    ruin  -9.279296\n",
       "1505    hour  -8.068713\n",
       "1513     hrs  -7.979550\n",
       "2280     pay  -7.585713\n",
       "264      bad  -7.484269\n",
       "3034  strand  -7.469460\n",
       "1411    hang  -7.316415\n",
       "1135    fail  -6.976070"
      ]
     },
     "execution_count": 76,
     "metadata": {},
     "output_type": "execute_result"
    }
   ],
   "source": [
    "# Get the top 10 tokens with lowest coefs\n",
    "neg_coef = importance.sort_values('coefs').head(10)\n",
    "neg_coef"
   ]
  },
  {
   "cell_type": "code",
   "execution_count": 77,
   "id": "0d596bf7-753c-40cd-ac52-4a37163650ae",
   "metadata": {},
   "outputs": [
    {
     "data": {
      "text/html": [
       "<div>\n",
       "<style scoped>\n",
       "    .dataframe tbody tr th:only-of-type {\n",
       "        vertical-align: middle;\n",
       "    }\n",
       "\n",
       "    .dataframe tbody tr th {\n",
       "        vertical-align: top;\n",
       "    }\n",
       "\n",
       "    .dataframe thead th {\n",
       "        text-align: right;\n",
       "    }\n",
       "</style>\n",
       "<table border=\"1\" class=\"dataframe\">\n",
       "  <thead>\n",
       "    <tr style=\"text-align: right;\">\n",
       "      <th></th>\n",
       "      <th>token</th>\n",
       "      <th>coefs</th>\n",
       "    </tr>\n",
       "  </thead>\n",
       "  <tbody>\n",
       "    <tr>\n",
       "      <th>115</th>\n",
       "      <td>amazing</td>\n",
       "      <td>8.065410</td>\n",
       "    </tr>\n",
       "    <tr>\n",
       "      <th>616</th>\n",
       "      <td>comfortable</td>\n",
       "      <td>8.201618</td>\n",
       "    </tr>\n",
       "    <tr>\n",
       "      <th>1091</th>\n",
       "      <td>exceptional</td>\n",
       "      <td>8.394675</td>\n",
       "    </tr>\n",
       "    <tr>\n",
       "      <th>1861</th>\n",
       "      <td>love</td>\n",
       "      <td>8.791244</td>\n",
       "    </tr>\n",
       "    <tr>\n",
       "      <th>3498</th>\n",
       "      <td>wonderful</td>\n",
       "      <td>8.838036</td>\n",
       "    </tr>\n",
       "    <tr>\n",
       "      <th>1373</th>\n",
       "      <td>great</td>\n",
       "      <td>9.632374</td>\n",
       "    </tr>\n",
       "    <tr>\n",
       "      <th>1089</th>\n",
       "      <td>excellent</td>\n",
       "      <td>9.741635</td>\n",
       "    </tr>\n",
       "    <tr>\n",
       "      <th>250</th>\n",
       "      <td>awesome</td>\n",
       "      <td>10.384123</td>\n",
       "    </tr>\n",
       "    <tr>\n",
       "      <th>1746</th>\n",
       "      <td>kudo</td>\n",
       "      <td>10.583331</td>\n",
       "    </tr>\n",
       "    <tr>\n",
       "      <th>3164</th>\n",
       "      <td>thank</td>\n",
       "      <td>16.853997</td>\n",
       "    </tr>\n",
       "  </tbody>\n",
       "</table>\n",
       "</div>"
      ],
      "text/plain": [
       "            token      coefs\n",
       "115       amazing   8.065410\n",
       "616   comfortable   8.201618\n",
       "1091  exceptional   8.394675\n",
       "1861         love   8.791244\n",
       "3498    wonderful   8.838036\n",
       "1373        great   9.632374\n",
       "1089    excellent   9.741635\n",
       "250       awesome  10.384123\n",
       "1746         kudo  10.583331\n",
       "3164        thank  16.853997"
      ]
     },
     "execution_count": 77,
     "metadata": {},
     "output_type": "execute_result"
    }
   ],
   "source": [
    "# Get the top 10 tokens with highest coefs\n",
    "pos_coef = importance.sort_values('coefs').tail(10)\n",
    "pos_coef"
   ]
  },
  {
   "cell_type": "code",
   "execution_count": 78,
   "id": "17b1223b-e5c1-4992-bb7e-0a99651c3729",
   "metadata": {},
   "outputs": [
    {
     "data": {
      "image/png": "[encoded data removed]",
      "text/plain": [
       "<Figure size 640x480 with 1 Axes>"
      ]
     },
     "metadata": {},
     "output_type": "display_data"
    }
   ],
   "source": [
    "pos_coef.plot(kind='barh', \n",
    "              xlim=(0, 18),\n",
    "              x='token',\n",
    "              color='cornflowerblue',\n",
    "              title='Top 10 tokens with highest coeffient values');"
   ]
  },
  {
   "cell_type": "code",
   "execution_count": 81,
   "id": "159e00c6-8a9f-484f-aea2-853fd5512083",
   "metadata": {},
   "outputs": [
    {
     "data": {
      "image/png": "[encoded data removed]",
      "text/plain": [
       "<Figure size 640x480 with 1 Axes>"
      ]
     },
     "metadata": {},
     "output_type": "display_data"
    }
   ],
   "source": [
    "neg_coef.plot(kind='barh', \n",
    "              xlim=(0, -18),\n",
    "              x='token',\n",
    "              color='darksalmon',\n",
    "              title='Top 10 tokens with lowest coeffient values');"
   ]
  },
  {
   "cell_type": "markdown",
   "id": "2eed48ea-fd35-4585-9b98-90456aaee447",
   "metadata": {},
   "source": [
    "This makes sense! Tokens like \"cancel\", \"rude\", and \"hrs\" imply negative sentiment, while tokens like \"thanks\", \"kudos\", \"awesome\" imply positive sentiment. \n",
    "\n",
    "🔔 **Question**: Compare these two plots with the previous two on tf-idf values. What have you noticed? What does this tell you about how people typically use this token in their tweets?"
   ]
  },
  {
   "cell_type": "markdown",
   "id": "a4430fbd-108f-4a02-ab64-ef36c5949e56",
   "metadata": {},
   "source": [
    "<div class=\"alert alert-success\">\n",
    "\n",
    "## ❗ Key Points\n",
    "\n",
    "* A Bag-of-Words representation is a simple method to transform our text data to numbers. It focuses on word frequency but not word order. \n",
    "* A TF-IDF representation makes a further step to consider if a certain word appears across all documents. \n",
    "* With a numerical representation, we can perform a range of text classification task, such as sentiment analysis. \n",
    "\n",
    "</div>"
   ]
  }
 ],
 "metadata": {
  "kernelspec": {
   "display_name": "Python 3 (ipykernel)",
   "language": "python",
   "name": "python3"
  },
  "language_info": {
   "codemirror_mode": {
    "name": "ipython",
    "version": 3
   },
   "file_extension": ".py",
   "mimetype": "text/x-python",
   "name": "python",
   "nbconvert_exporter": "python",
   "pygments_lexer": "ipython3",
   "version": "3.11.4"
  }
 },
 "nbformat": 4,
 "nbformat_minor": 5
}
