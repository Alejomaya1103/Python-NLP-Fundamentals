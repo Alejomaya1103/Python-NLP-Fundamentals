{
 "cells": [
  {
   "cell_type": "markdown",
   "id": "2ffcdc86-76ef-453f-a162-7741c9c23b8c",
   "metadata": {},
   "source": [
    "# Python Text Analysis: Bag of Words\n",
    "\n",
    "* * * \n",
    "\n",
    "<div class=\"alert alert-success\">  \n",
    "    \n",
    "### Learning Objectives \n",
    "    \n",
    "* Learn how to convert text data into numbers through a Bag-of-Words approach.\n",
    "* Understand the TF-IDF algorithm and how it complements the Bag-of-Words representation.\n",
    "* Implement Bag-of-Words and TF-IDF using the `sklearn` package and understand its parameter settings.\n",
    "* Use the numerical representations of text data to perform sentiment analysis.\n",
    "</div>\n",
    "\n",
    "### Icons Used in This Notebook\n",
    "🔔 **Question**: A quick question to help you understand what's going on.<br>\n",
    "🥊 **Challenge**: Interactive excersise. We'll work through these in the workshop!<br>\n",
    "\n",
    "### Sections\n",
    "1. [Exploratory Data Analysis](#section1)\n",
    "2. [Preprocessing](#section2)\n",
    "3. [The Bag-of-Words Representation](#section3)\n",
    "4. [Term Frequency-Inverse Document Frequency](#section4)\n",
    "5. [Sentiment Classification](#section5)"
   ]
  },
  {
   "cell_type": "code",
   "execution_count": 1,
   "id": "9e4a3a0d-66f4-44e5-8dd6-5f441146014d",
   "metadata": {
    "scrolled": true,
    "tags": []
   },
   "outputs": [],
   "source": [
    "# Uncomment to install the following packages\n",
    "# %pip install NLTK\n",
    "# %pip install spaCy\n",
    "# !python -m spacy download en_core_web_sm\n",
    "# %pip install scikit-learn"
   ]
  },
  {
   "cell_type": "code",
   "execution_count": 2,
   "id": "f3862ffd-918f-4184-8c90-8a39a8a2a069",
   "metadata": {},
   "outputs": [],
   "source": [
    "# Import other packages\n",
    "import re\n",
    "import numpy as np\n",
    "import pandas as pd\n",
    "import matplotlib.pyplot as plt\n",
    "import seaborn as sns\n",
    "from string import punctuation\n",
    "%matplotlib inline"
   ]
  },
  {
   "cell_type": "markdown",
   "id": "880e8a36-bd58-4c24-8593-03a0ea70deed",
   "metadata": {},
   "source": [
    "In the previous part, we learned how to perform preprocessing NLP packages. However, we didn't move beyond the text data itself. If we're interested in doing any computational analysis on the text data, we'll need to devise approaches to convert the text into a **numeric representation**.\n",
    "\n",
    "In Part 2 of our workshop series, we'll explore one of the most straightforward ways to generate a numeric representation from text: the **bag-of-words** (BoW). We will implement the BoW representation to transform our airline tweets data into numerical representation, and then biuld a classifier to explore what does it tell us about the sentiment of the tweets. At the heart of the bag-of-words approach lies the assumption that the frequency of specific tokens is informative about the semantics and sentiment underlying the text.\n",
    "\n",
    "We'll make heavy use of the `scikit-learn` package to do so, as it provides a nice framework for constructing the numeric representations."
   ]
  },
  {
   "cell_type": "markdown",
   "id": "852ea4a5-7c28-4557-acdd-afe8a97b7235",
   "metadata": {},
   "source": [
    "<a id='section1'></a>\n",
    "\n",
    "# Exploratory Data Analysis\n",
    "\n",
    "Before we ever do any preprocessing or modeling, we always should do some exploratory data analysis to get a feel for the dataset.\n",
    "\n",
    "First, let's take a look at the first few rows and all the columns:"
   ]
  },
  {
   "cell_type": "code",
   "execution_count": 3,
   "id": "4190e351-97b7-4c5b-866e-07aa6cbd42c2",
   "metadata": {},
   "outputs": [],
   "source": [
    "# Load dataset in\n",
    "tweets_path = '../data/airline_tweets.csv'\n",
    "tweets = pd.read_csv(tweets_path, sep=',')"
   ]
  },
  {
   "cell_type": "code",
   "execution_count": 4,
   "id": "79acbaf2-6625-4abb-b50f-97ea54ba0d11",
   "metadata": {},
   "outputs": [
    {
     "data": {
      "text/html": [
       "<div>\n",
       "<style scoped>\n",
       "    .dataframe tbody tr th:only-of-type {\n",
       "        vertical-align: middle;\n",
       "    }\n",
       "\n",
       "    .dataframe tbody tr th {\n",
       "        vertical-align: top;\n",
       "    }\n",
       "\n",
       "    .dataframe thead th {\n",
       "        text-align: right;\n",
       "    }\n",
       "</style>\n",
       "<table border=\"1\" class=\"dataframe\">\n",
       "  <thead>\n",
       "    <tr style=\"text-align: right;\">\n",
       "      <th></th>\n",
       "      <th>tweet_id</th>\n",
       "      <th>airline_sentiment</th>\n",
       "      <th>airline_sentiment_confidence</th>\n",
       "      <th>negativereason</th>\n",
       "      <th>negativereason_confidence</th>\n",
       "      <th>airline</th>\n",
       "      <th>airline_sentiment_gold</th>\n",
       "      <th>name</th>\n",
       "      <th>negativereason_gold</th>\n",
       "      <th>retweet_count</th>\n",
       "      <th>text</th>\n",
       "      <th>tweet_coord</th>\n",
       "      <th>tweet_created</th>\n",
       "      <th>tweet_location</th>\n",
       "      <th>user_timezone</th>\n",
       "    </tr>\n",
       "  </thead>\n",
       "  <tbody>\n",
       "    <tr>\n",
       "      <th>0</th>\n",
       "      <td>570306133677760513</td>\n",
       "      <td>neutral</td>\n",
       "      <td>1.0000</td>\n",
       "      <td>NaN</td>\n",
       "      <td>NaN</td>\n",
       "      <td>Virgin America</td>\n",
       "      <td>NaN</td>\n",
       "      <td>cairdin</td>\n",
       "      <td>NaN</td>\n",
       "      <td>0</td>\n",
       "      <td>@VirginAmerica What @dhepburn said.</td>\n",
       "      <td>NaN</td>\n",
       "      <td>2015-02-24 11:35:52 -0800</td>\n",
       "      <td>NaN</td>\n",
       "      <td>Eastern Time (US &amp; Canada)</td>\n",
       "    </tr>\n",
       "    <tr>\n",
       "      <th>1</th>\n",
       "      <td>570301130888122368</td>\n",
       "      <td>positive</td>\n",
       "      <td>0.3486</td>\n",
       "      <td>NaN</td>\n",
       "      <td>0.0000</td>\n",
       "      <td>Virgin America</td>\n",
       "      <td>NaN</td>\n",
       "      <td>jnardino</td>\n",
       "      <td>NaN</td>\n",
       "      <td>0</td>\n",
       "      <td>@VirginAmerica plus you've added commercials t...</td>\n",
       "      <td>NaN</td>\n",
       "      <td>2015-02-24 11:15:59 -0800</td>\n",
       "      <td>NaN</td>\n",
       "      <td>Pacific Time (US &amp; Canada)</td>\n",
       "    </tr>\n",
       "    <tr>\n",
       "      <th>2</th>\n",
       "      <td>570301083672813571</td>\n",
       "      <td>neutral</td>\n",
       "      <td>0.6837</td>\n",
       "      <td>NaN</td>\n",
       "      <td>NaN</td>\n",
       "      <td>Virgin America</td>\n",
       "      <td>NaN</td>\n",
       "      <td>yvonnalynn</td>\n",
       "      <td>NaN</td>\n",
       "      <td>0</td>\n",
       "      <td>@VirginAmerica I didn't today... Must mean I n...</td>\n",
       "      <td>NaN</td>\n",
       "      <td>2015-02-24 11:15:48 -0800</td>\n",
       "      <td>Lets Play</td>\n",
       "      <td>Central Time (US &amp; Canada)</td>\n",
       "    </tr>\n",
       "    <tr>\n",
       "      <th>3</th>\n",
       "      <td>570301031407624196</td>\n",
       "      <td>negative</td>\n",
       "      <td>1.0000</td>\n",
       "      <td>Bad Flight</td>\n",
       "      <td>0.7033</td>\n",
       "      <td>Virgin America</td>\n",
       "      <td>NaN</td>\n",
       "      <td>jnardino</td>\n",
       "      <td>NaN</td>\n",
       "      <td>0</td>\n",
       "      <td>@VirginAmerica it's really aggressive to blast...</td>\n",
       "      <td>NaN</td>\n",
       "      <td>2015-02-24 11:15:36 -0800</td>\n",
       "      <td>NaN</td>\n",
       "      <td>Pacific Time (US &amp; Canada)</td>\n",
       "    </tr>\n",
       "    <tr>\n",
       "      <th>4</th>\n",
       "      <td>570300817074462722</td>\n",
       "      <td>negative</td>\n",
       "      <td>1.0000</td>\n",
       "      <td>Can't Tell</td>\n",
       "      <td>1.0000</td>\n",
       "      <td>Virgin America</td>\n",
       "      <td>NaN</td>\n",
       "      <td>jnardino</td>\n",
       "      <td>NaN</td>\n",
       "      <td>0</td>\n",
       "      <td>@VirginAmerica and it's a really big bad thing...</td>\n",
       "      <td>NaN</td>\n",
       "      <td>2015-02-24 11:14:45 -0800</td>\n",
       "      <td>NaN</td>\n",
       "      <td>Pacific Time (US &amp; Canada)</td>\n",
       "    </tr>\n",
       "  </tbody>\n",
       "</table>\n",
       "</div>"
      ],
      "text/plain": [
       "             tweet_id airline_sentiment  airline_sentiment_confidence  \\\n",
       "0  570306133677760513           neutral                        1.0000   \n",
       "1  570301130888122368          positive                        0.3486   \n",
       "2  570301083672813571           neutral                        0.6837   \n",
       "3  570301031407624196          negative                        1.0000   \n",
       "4  570300817074462722          negative                        1.0000   \n",
       "\n",
       "  negativereason  negativereason_confidence         airline  \\\n",
       "0            NaN                        NaN  Virgin America   \n",
       "1            NaN                     0.0000  Virgin America   \n",
       "2            NaN                        NaN  Virgin America   \n",
       "3     Bad Flight                     0.7033  Virgin America   \n",
       "4     Can't Tell                     1.0000  Virgin America   \n",
       "\n",
       "  airline_sentiment_gold        name negativereason_gold  retweet_count  \\\n",
       "0                    NaN     cairdin                 NaN              0   \n",
       "1                    NaN    jnardino                 NaN              0   \n",
       "2                    NaN  yvonnalynn                 NaN              0   \n",
       "3                    NaN    jnardino                 NaN              0   \n",
       "4                    NaN    jnardino                 NaN              0   \n",
       "\n",
       "                                                text tweet_coord  \\\n",
       "0                @VirginAmerica What @dhepburn said.         NaN   \n",
       "1  @VirginAmerica plus you've added commercials t...         NaN   \n",
       "2  @VirginAmerica I didn't today... Must mean I n...         NaN   \n",
       "3  @VirginAmerica it's really aggressive to blast...         NaN   \n",
       "4  @VirginAmerica and it's a really big bad thing...         NaN   \n",
       "\n",
       "               tweet_created tweet_location               user_timezone  \n",
       "0  2015-02-24 11:35:52 -0800            NaN  Eastern Time (US & Canada)  \n",
       "1  2015-02-24 11:15:59 -0800            NaN  Pacific Time (US & Canada)  \n",
       "2  2015-02-24 11:15:48 -0800      Lets Play  Central Time (US & Canada)  \n",
       "3  2015-02-24 11:15:36 -0800            NaN  Pacific Time (US & Canada)  \n",
       "4  2015-02-24 11:14:45 -0800            NaN  Pacific Time (US & Canada)  "
      ]
     },
     "execution_count": 4,
     "metadata": {},
     "output_type": "execute_result"
    }
   ],
   "source": [
    "tweets.head()"
   ]
  },
  {
   "cell_type": "markdown",
   "id": "80232c78-ac41-4d74-a581-76c9dac3b8f6",
   "metadata": {},
   "source": [
    "As a refresher, each row in this dataframe correponds to a tweet. The following columns are of main interests to us:\n",
    "\n",
    "- `text` (`str`): the text of the tweet.\n",
    "- `airline_sentiment` (`str`): sentiment of the tweet, labeled as \"neutral\", \"positive\", or \"negative\". \n",
    "- `airline` (`str`): the airline that is tweeted about.\n",
    "- `retweet count` (`int`): how many times the tweet was retweeted.\n",
    "\n",
    "There are other columns indicating metadata of the tweet, such as the author of the tweet, when it was created, the timezone of the user, and others, which we will set aside for now. \n",
    "\n",
    "Let's take a look at a few tweets first!"
   ]
  },
  {
   "cell_type": "code",
   "execution_count": 5,
   "id": "438830e6-1064-47fe-b578-a1ca693a0ed0",
   "metadata": {},
   "outputs": [
    {
     "name": "stdout",
     "output_type": "stream",
     "text": [
      "@VirginAmerica What @dhepburn said.\n",
      "@VirginAmerica plus you've added commercials to the experience... tacky.\n",
      "@VirginAmerica I didn't today... Must mean I need to take another trip!\n",
      "@VirginAmerica it's really aggressive to blast obnoxious \"entertainment\" in your guests' faces &amp; they have little recourse\n",
      "@VirginAmerica and it's a really big bad thing about it\n"
     ]
    }
   ],
   "source": [
    "# Print first five tweets\n",
    "for idx in range(5):\n",
    "    print(tweets['text'].iloc[idx])"
   ]
  },
  {
   "cell_type": "markdown",
   "id": "0d6746f8-b29c-40d4-bef6-b4afd4cd6cc1",
   "metadata": {},
   "source": [
    "We can already see that some of these tweets contain negative sentiment---how can we tell this is the case? \n",
    "\n",
    "Next, let's take a look at which airlines are tweeted about and how many of each in this dataset:"
   ]
  },
  {
   "cell_type": "code",
   "execution_count": 6,
   "id": "01955158-6954-447a-acb6-2989d02a49c3",
   "metadata": {},
   "outputs": [
    {
     "data": {
      "image/png": "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",
      "text/plain": [
       "<Figure size 640x480 with 1 Axes>"
      ]
     },
     "metadata": {},
     "output_type": "display_data"
    }
   ],
   "source": [
    "# Make a bar plot showing the count of tweet sentiments\n",
    "sns.countplot(data=tweets,\n",
    "              x='airline_sentiment', \n",
    "              color='cornflowerblue',\n",
    "              order=['positive', 'neutral', 'negative']);"
   ]
  },
  {
   "cell_type": "markdown",
   "id": "eab45abf-adf4-4f5e-ae09-75f6c4fd50d1",
   "metadata": {},
   "source": [
    "It looks like the majority of the tweets we have in this dataset are expressing negative sentiment!\n",
    "\n",
    "Let's take a look at what gets more retweeted:"
   ]
  },
  {
   "cell_type": "code",
   "execution_count": 7,
   "id": "428ddde7-af73-4eb6-92c9-041a1791ca59",
   "metadata": {},
   "outputs": [
    {
     "data": {
      "text/plain": [
       "airline_sentiment\n",
       "negative    0.093375\n",
       "neutral     0.060987\n",
       "positive    0.069403\n",
       "Name: retweet_count, dtype: float64"
      ]
     },
     "execution_count": 7,
     "metadata": {},
     "output_type": "execute_result"
    }
   ],
   "source": [
    "# Get the mean retweet count for each sentiment\n",
    "tweets.groupby('airline_sentiment')['retweet_count'].mean()"
   ]
  },
  {
   "cell_type": "markdown",
   "id": "0d31f3bc-257c-48a8-86a0-fd0d7c3e8cb3",
   "metadata": {},
   "source": [
    "Negative tweets are clearly retweeted more often than tweets having neutral or positive sentiments.\n",
    "\n",
    "Let's see which airline receives most negative tweets:"
   ]
  },
  {
   "cell_type": "code",
   "execution_count": 8,
   "id": "12aa9f2d-d655-494a-bb72-08ad973518f3",
   "metadata": {},
   "outputs": [
    {
     "data": {
      "text/html": [
       "<div>\n",
       "<style scoped>\n",
       "    .dataframe tbody tr th:only-of-type {\n",
       "        vertical-align: middle;\n",
       "    }\n",
       "\n",
       "    .dataframe tbody tr th {\n",
       "        vertical-align: top;\n",
       "    }\n",
       "\n",
       "    .dataframe thead th {\n",
       "        text-align: right;\n",
       "    }\n",
       "</style>\n",
       "<table border=\"1\" class=\"dataframe\">\n",
       "  <thead>\n",
       "    <tr style=\"text-align: right;\">\n",
       "      <th>airline_sentiment</th>\n",
       "      <th>negative</th>\n",
       "      <th>neutral</th>\n",
       "      <th>positive</th>\n",
       "    </tr>\n",
       "    <tr>\n",
       "      <th>airline</th>\n",
       "      <th></th>\n",
       "      <th></th>\n",
       "      <th></th>\n",
       "    </tr>\n",
       "  </thead>\n",
       "  <tbody>\n",
       "    <tr>\n",
       "      <th>US Airways</th>\n",
       "      <td>0.776862</td>\n",
       "      <td>0.130793</td>\n",
       "      <td>0.092345</td>\n",
       "    </tr>\n",
       "    <tr>\n",
       "      <th>American</th>\n",
       "      <td>0.710402</td>\n",
       "      <td>0.167814</td>\n",
       "      <td>0.121783</td>\n",
       "    </tr>\n",
       "    <tr>\n",
       "      <th>United</th>\n",
       "      <td>0.688906</td>\n",
       "      <td>0.182365</td>\n",
       "      <td>0.128728</td>\n",
       "    </tr>\n",
       "    <tr>\n",
       "      <th>Southwest</th>\n",
       "      <td>0.490083</td>\n",
       "      <td>0.274380</td>\n",
       "      <td>0.235537</td>\n",
       "    </tr>\n",
       "    <tr>\n",
       "      <th>Delta</th>\n",
       "      <td>0.429793</td>\n",
       "      <td>0.325383</td>\n",
       "      <td>0.244824</td>\n",
       "    </tr>\n",
       "    <tr>\n",
       "      <th>Virgin America</th>\n",
       "      <td>0.359127</td>\n",
       "      <td>0.339286</td>\n",
       "      <td>0.301587</td>\n",
       "    </tr>\n",
       "  </tbody>\n",
       "</table>\n",
       "</div>"
      ],
      "text/plain": [
       "airline_sentiment  negative   neutral  positive\n",
       "airline                                        \n",
       "US Airways         0.776862  0.130793  0.092345\n",
       "American           0.710402  0.167814  0.121783\n",
       "United             0.688906  0.182365  0.128728\n",
       "Southwest          0.490083  0.274380  0.235537\n",
       "Delta              0.429793  0.325383  0.244824\n",
       "Virgin America     0.359127  0.339286  0.301587"
      ]
     },
     "execution_count": 8,
     "metadata": {},
     "output_type": "execute_result"
    }
   ],
   "source": [
    "# Get the proportion of negative tweets by airline\n",
    "proportions = tweets.groupby(['airline', 'airline_sentiment']).size() / tweets.groupby('airline').size()\n",
    "proportions.unstack().sort_values('negative', ascending=False)"
   ]
  },
  {
   "cell_type": "markdown",
   "id": "7042419e-9c41-40e7-8dbf-47bd1e2ad45a",
   "metadata": {},
   "source": [
    "It looks like people are most dissatified with US Airways, followed by American Airline, both having over 70\\% negative tweets!\n",
    "\n",
    "A lot of interesting discoveries could be made if you want to explore more about the data. Now let's return to our task of sentiment analysis. Before that, we need to preprocess the text data so that they are in a standard format."
   ]
  },
  {
   "cell_type": "markdown",
   "id": "9e513930-2dc7-489c-bc5a-22eb09add5bf",
   "metadata": {},
   "source": [
    "<a id='section2'></a>\n",
    "# Preprocessing\n",
    "\n",
    "We spent much of the last workshop learning how to preprocess data. Let's apply what we learned to this dataset. Looking at some of the tweets above, we can see that while they are in pretty good shape, we can do some additional processing on them.\n",
    "\n",
    "In our pipeline, we'll omit the tokenization process, since we will perform it in a later step. "
   ]
  },
  {
   "cell_type": "markdown",
   "id": "92a83ece-f3b2-4200-9d22-0788fbc07fa4",
   "metadata": {},
   "source": [
    "## 🥊 Challenge 1: Apply a Text Cleaning Pipeline\n",
    "\n",
    "Write a function called `preprocess()` that performs the following steps on a text input:\n",
    "* Step 1: Lowercase text.\n",
    "* Step 2: Replace the following patterns with placeholders:\n",
    "    * URLs &rarr; ` URL `\n",
    "    * Digits &rarr; ` DIGIT `\n",
    "    * Hashtags &rarr; ` HASHTAG `\n",
    "    * Tweet handles &rarr; ` USER `\n",
    "* Step 3: Remove extra blankspaces.\n",
    "\n",
    "Here are some hints to guide you through this challenge! \n",
    "\n",
    "* For Step 1, recall from Part 1 that a string method called [`.lower()`](https://docs.python.org/3.11/library/stdtypes.html#str.lower) will do the job of lowercasing text input.\n",
    "* We have integrated Step 2 in a function called `placeholder`. Run the next cell to import it into your notebook, and you can use it just like any other functions.\n",
    "* For Step 3, we have provided the regex pattern for identifying whitespace characters as well as the correct replacement for extraneous whitespaces. \n",
    "\n",
    "Run your `preprocess()` function on `example_tweet` (three cells below), and when you think you have it working, apply it to the entire `text` column in the tweets DataFrame."
   ]
  },
  {
   "cell_type": "code",
   "execution_count": 9,
   "id": "21738b02-9ab9-4a61-b41f-ff75888aa747",
   "metadata": {
    "tags": []
   },
   "outputs": [],
   "source": [
    "from utils import placeholder"
   ]
  },
  {
   "cell_type": "code",
   "execution_count": 10,
   "id": "03569f0d-34ba-492d-aa1d-1dce9d34f792",
   "metadata": {},
   "outputs": [],
   "source": [
    "# blankspace_pattern = r'\\s+'\n",
    "# blankspace_repl = ' '\n",
    "\n",
    "# def preprocess(text):\n",
    "#     '''Create a preprocess pipeline that cleans the tweet data.'''\n",
    "    \n",
    "#     # Step 1: Lowercase\n",
    "#     text = ...\n",
    "\n",
    "#     # Step 2: Replace patterns with placeholders\n",
    "#     text = ...\n",
    "\n",
    "#     # Step 3: Remove extra whitespace characters\n",
    "#     text = ...\n",
    "\n",
    "#     return text"
   ]
  },
  {
   "cell_type": "code",
   "execution_count": 11,
   "id": "2e50fd4d-d7a6-4cd5-ab45-476cf0b77878",
   "metadata": {},
   "outputs": [],
   "source": [
    "blankspace_pattern = r'\\s+'\n",
    "blankspace_repl = ' '\n",
    "\n",
    "def preprocess(text):\n",
    "    '''Create a preprocess pipeline that cleans the tweet data.'''\n",
    "\n",
    "    # Step 1: Lowercase\n",
    "    text = text.lower()\n",
    "\n",
    "    # Step 2: Replace patterns with placeholders\n",
    "    text = placeholder(text)\n",
    "\n",
    "    # Step 3: Remove extra whitespace characters\n",
    "    text = re.sub(blankspace_pattern, blankspace_repl, text)\n",
    "    text = text.strip()\n",
    "    \n",
    "    return text"
   ]
  },
  {
   "cell_type": "code",
   "execution_count": 12,
   "id": "8990cefd-5d04-46ba-ada2-29978c28cfe8",
   "metadata": {},
   "outputs": [
    {
     "name": "stdout",
     "output_type": "stream",
     "text": [
      "lol @justinbeiber and @BillGates are like soo 2000 #yesterday #amiright saw it on https://twitter.com #yolo\n",
      "==================================================\n",
      "lol USER and USER are like soo DIGIT HASHTAG HASHTAG saw it on URL HASHTAG\n"
     ]
    }
   ],
   "source": [
    "example_tweet = 'lol @justinbeiber and @BillGates are like soo 2000 #yesterday #amiright saw it on https://twitter.com #yolo'\n",
    "# Print the example tweet\n",
    "print(example_tweet)\n",
    "print(f\"{'='*50}\")\n",
    "# Print the preprocessed tweet\n",
    "print(preprocess(example_tweet))"
   ]
  },
  {
   "cell_type": "code",
   "execution_count": 13,
   "id": "a5f7bb6a-f064-48cc-b650-12c4ef2fbb88",
   "metadata": {},
   "outputs": [
    {
     "data": {
      "text/plain": [
       "0                                 USER what USER said.\n",
       "1    USER plus you've added commercials to the expe...\n",
       "2    USER i didn't today... must mean i need to tak...\n",
       "3    USER it's really aggressive to blast obnoxious...\n",
       "4        USER and it's a really big bad thing about it\n",
       "Name: text_processed, dtype: object"
      ]
     },
     "execution_count": 13,
     "metadata": {},
     "output_type": "execute_result"
    }
   ],
   "source": [
    "# Apply the function to text column and assign the preprocessed tweets to a new column\n",
    "tweets['text_processed'] = tweets['text'].apply(lambda x: preprocess(x))\n",
    "tweets['text_processed'].head()"
   ]
  },
  {
   "cell_type": "markdown",
   "id": "1576acc6-b305-492a-8fde-65b343cb779c",
   "metadata": {},
   "source": [
    "Ok now that preprocessing is complete. Let's dive into the bag-of-words!"
   ]
  },
  {
   "cell_type": "markdown",
   "id": "53282330-54da-4e1c-bfe5-e77cb8fa3add",
   "metadata": {},
   "source": [
    "<a id='section3'></a>\n",
    "# The Bag-of-Words Representation\n",
    "\n",
    "The idea of bag-of-words (BoW), as the name suggests, is quite intuitive: we take a document and toss it in a bag. The action of \"throwing\" the document in a bag disregards relative position between words, so what is \"in the bag\" is essentially an unsorted set of words [(Jurafsky & Martin, 2024, p.62)](https://web.stanford.edu/~jurafsky/slp3/ed3book.pdf). In return, we have a list of unique words and the frequency of each of them. \n",
    "\n",
    "For example, as shown in the following illustration, the word \"coffee\" appears twice. \n",
    "\n",
    "<img src='../images/bow-illustration-1.png' alt=\"BoW-Part2\" width=\"600\">\n",
    "\n",
    "As you may have realized now, with a bag-of-words representation, we make heavy use of word frequency but not too much of word order. \n",
    "\n",
    "In the context of sentiment analysis, the sentiment of a tweet is conveyed more strongly by specific words. For example, if a tweet contains the word \"happy\", it likely conveys positive sentiment, but not always (e.g., \"not happy\" denotes the opposite sentiment). When these words come up more often, they'll probably more strongly convey the sentiment."
   ]
  },
  {
   "cell_type": "markdown",
   "id": "b9d9bdbd-406d-469b-a8f6-41d1b3687c37",
   "metadata": {},
   "source": [
    "## Document Term Matrix\n",
    "\n",
    "Now let's implement the idea of bag-of-words. Before we go deep into that, let's step back for a moment. In practice, text analysis often involves handling many documents; from now on, we use the term **document** to indicate a piece of text that we perform analysis on. It could be a phrase, a sentence, a tweet, and etc, as long as it could be represented by a string of text, the length dosen't really matter. \n",
    "\n",
    "Imagine we have four documents (i.e., the four phrases shown above), we toss them all in the bag. Instead of a word-frequency list, we would expect a document-term matrix (DTM) in return. In a DTM, the word list is the **vocabulary** (V) that holds all unique words occur across the documents. For each **document** (D), we count the number of occurence of each word in the vocabulary, and then plug the number into the matrix. In other words, the DTM we will need to construct is a $D \\times V$ matrix, where each row corresponds to a document, and each column corresponds to a token (or \"term\").\n",
    "\n",
    "In the following example, the unique tokens in this set of documents, in alphabetical order, are in columns. For each document, we mark the occurence of each word showing up in the document. The numerical representation for each document is a row in the matrix. For example, \"the coffee roaster\" or the first document has numerical representation $[0, 1, 0, 0, 0, 1, 1, 0]$.\n",
    "\n",
    "Note that the left index column now displays these documents as texts, but typically we would just assign an index to each of them. \n",
    "\n",
    "$$\n",
    "\\begin{array}{c|cccccccccccc}\n",
    " & \\text{americano} & \\text{coffee} & \\text{iced} & \\text{light} & \\text{roast} & \\text{roaster} & \\text{the} & \\text{time} \\\\\\hline\n",
    "\\text{the coffee roaster} &0 &1\t&0\t&0\t&0\t&1\t&1\t&0 \\\\ \n",
    "\\text{light roast} &0 &0\t&0\t&1\t&1\t&0\t&0\t&0 \\\\\n",
    "\\text{iced americano} &1 &0\t&1\t&0\t&0\t&0\t&0\t&0 \\\\\n",
    "\\text{coffee time} &0 &1\t&0\t&0\t&0\t&0\t&0\t&1 \\\\\n",
    "\\end{array}\n",
    "$$\n",
    "\n",
    "To create a DTM, we will use `CountVectorizer` from the package `sklearn`."
   ]
  },
  {
   "cell_type": "code",
   "execution_count": 14,
   "id": "cd2adf56-ba93-459d-8cfa-16ce8dc9284b",
   "metadata": {},
   "outputs": [],
   "source": [
    "from sklearn.feature_extraction.text import CountVectorizer"
   ]
  },
  {
   "cell_type": "markdown",
   "id": "4989781d-6b40-417a-be70-eeba05cd8a50",
   "metadata": {},
   "source": [
    "If you're not familiar with `CountVectorizer`, here is the general workflow:\n",
    "\n",
    "<img src='../images/CountVectorizer1.png' alt=\"CountVectorizer\" width=\"500\">\n",
    "\n",
    "Let's walk through these steps with the toy example shown above."
   ]
  },
  {
   "cell_type": "markdown",
   "id": "34174034-46b9-43e2-a511-5972d378cb00",
   "metadata": {},
   "source": [
    "### A Toy Example"
   ]
  },
  {
   "cell_type": "code",
   "execution_count": 15,
   "id": "4da2bd3d-0460-4b5f-9b9e-02940db0d7ca",
   "metadata": {},
   "outputs": [],
   "source": [
    "# A toy example containing four documents (phrases)\n",
    "test = ['the coffee roaster',\n",
    "        'light roast',\n",
    "        'iced americano',\n",
    "        'coffee time']"
   ]
  },
  {
   "cell_type": "markdown",
   "id": "dff7c1d3-fcee-4e20-b9a7-17306ebd5fc2",
   "metadata": {},
   "source": [
    "The first step is to initialize a `CountVectorizer` object. Within the round paratheses is the parameter setting we may choose to specify. Let's take a look at the [documentation](https://scikit-learn.org/stable/modules/generated/sklearn.feature_extraction.text.CountVectorizer.html) and see what options are available.  \n",
    "\n",
    "For now we can just leave it blank for the default setting. "
   ]
  },
  {
   "cell_type": "code",
   "execution_count": 16,
   "id": "9de3fe6a-9abf-4e11-aad1-e54c891567bb",
   "metadata": {},
   "outputs": [],
   "source": [
    "# Create a CountVectorizer object\n",
    "vectorizer = CountVectorizer()"
   ]
  },
  {
   "cell_type": "markdown",
   "id": "1b5a7d0d-0bfc-4fb9-8e5f-e91e39797fb5",
   "metadata": {},
   "source": [
    "The second step is to `fit` this `CountVectorizer` object to the data, which means creating a vocabulary of tokens from the set of documents. Thirdly, we `transform` our data according to the \"fitted\" `CountVectorizer` object, which means taking each of the document and transforming it into a DTM according to the vocabulary established by the \"fitting\" step.\n",
    "\n",
    "It may sound a bit complex but steps 2 and 3 can actually be done in one swoop using a `fit_transform` function."
   ]
  },
  {
   "cell_type": "code",
   "execution_count": 17,
   "id": "da1bbad4-bb1a-4b92-9096-6e17558b4a42",
   "metadata": {},
   "outputs": [],
   "source": [
    "# Fit and transform to create DTM\n",
    "test_count = vectorizer.fit_transform(test)"
   ]
  },
  {
   "cell_type": "markdown",
   "id": "324d3b65-4e98-48bf-87d2-399457f4939c",
   "metadata": {},
   "source": [
    "The return of `fit_transform` is supposed to be the DTM. \n",
    "\n",
    "Let's take a look at it!"
   ]
  },
  {
   "cell_type": "code",
   "execution_count": 18,
   "id": "cb044001-8eb2-4489-b025-2d8e2d4bfee2",
   "metadata": {},
   "outputs": [
    {
     "data": {
      "text/plain": [
       "<4x8 sparse matrix of type '<class 'numpy.int64'>'\n",
       "\twith 9 stored elements in Compressed Sparse Row format>"
      ]
     },
     "execution_count": 18,
     "metadata": {},
     "output_type": "execute_result"
    }
   ],
   "source": [
    "test_count"
   ]
  },
  {
   "cell_type": "markdown",
   "id": "f9817b09-a806-42c4-9436-822cc27a38b9",
   "metadata": {},
   "source": [
    "Apparently the return is a \"sparse matrix\"---a matrix that contains a lot zeros. It actually makes sense as for each document we definitely have words that don't occur at all---which is counted zero in the DTM. This sparse matrix is stored in a \"Compressed Sparse Row\" format, which is a memory-saving format that is designed to deal with sparse matrix. \n",
    "\n",
    "Let's convert it to a dense matrix, where those zeros are probably organized, as in a numpy array."
   ]
  },
  {
   "cell_type": "code",
   "execution_count": 19,
   "id": "bb03a238-87d8-40c9-b20e-66e7c9b6576b",
   "metadata": {},
   "outputs": [
    {
     "data": {
      "text/plain": [
       "matrix([[0, 1, 0, 0, 0, 1, 1, 0],\n",
       "        [0, 0, 0, 1, 1, 0, 0, 0],\n",
       "        [1, 0, 1, 0, 0, 0, 0, 0],\n",
       "        [0, 1, 0, 0, 0, 0, 0, 1]])"
      ]
     },
     "execution_count": 19,
     "metadata": {},
     "output_type": "execute_result"
    }
   ],
   "source": [
    "# Convert DTM to a dense matrix \n",
    "test_count.todense()"
   ]
  },
  {
   "cell_type": "markdown",
   "id": "28b58a63-d7f6-4b9f-aadf-4d4fc7341336",
   "metadata": {},
   "source": [
    "So this is our DTM! It is the same as shown above, but to make it more reader-friendly, let's convert it to a dataframe. The column names should be tokens in the vocabulary, which we can access with `get_feature_names_out()`."
   ]
  },
  {
   "cell_type": "code",
   "execution_count": 20,
   "id": "714de5d3-e37d-4a19-9ade-3c6629e38d4e",
   "metadata": {},
   "outputs": [
    {
     "data": {
      "text/plain": [
       "array(['americano', 'coffee', 'iced', 'light', 'roast', 'roaster', 'the',\n",
       "       'time'], dtype=object)"
      ]
     },
     "execution_count": 20,
     "metadata": {},
     "output_type": "execute_result"
    }
   ],
   "source": [
    "# Retrieve the vocabulary\n",
    "vectorizer.get_feature_names_out()"
   ]
  },
  {
   "cell_type": "code",
   "execution_count": 21,
   "id": "6a7729a2-ca2e-4de7-8795-74dfedb7a4d5",
   "metadata": {},
   "outputs": [],
   "source": [
    "# Create a DTM dataframe\n",
    "test_dtm = pd.DataFrame(data=test_count.todense(),\n",
    "                        columns=vectorizer.get_feature_names_out())"
   ]
  },
  {
   "cell_type": "markdown",
   "id": "781da407-f394-40f2-9d45-1fac39f02047",
   "metadata": {},
   "source": [
    "Here it is! The DTM of our toy data is now a dataframe. The index of `test_dtm` corresponds to the position of each document in the `test` list. "
   ]
  },
  {
   "cell_type": "code",
   "execution_count": 22,
   "id": "e41dd243-cd2e-43c3-80f8-5eaab6e64210",
   "metadata": {},
   "outputs": [
    {
     "data": {
      "text/html": [
       "<div>\n",
       "<style scoped>\n",
       "    .dataframe tbody tr th:only-of-type {\n",
       "        vertical-align: middle;\n",
       "    }\n",
       "\n",
       "    .dataframe tbody tr th {\n",
       "        vertical-align: top;\n",
       "    }\n",
       "\n",
       "    .dataframe thead th {\n",
       "        text-align: right;\n",
       "    }\n",
       "</style>\n",
       "<table border=\"1\" class=\"dataframe\">\n",
       "  <thead>\n",
       "    <tr style=\"text-align: right;\">\n",
       "      <th></th>\n",
       "      <th>americano</th>\n",
       "      <th>coffee</th>\n",
       "      <th>iced</th>\n",
       "      <th>light</th>\n",
       "      <th>roast</th>\n",
       "      <th>roaster</th>\n",
       "      <th>the</th>\n",
       "      <th>time</th>\n",
       "    </tr>\n",
       "  </thead>\n",
       "  <tbody>\n",
       "    <tr>\n",
       "      <th>0</th>\n",
       "      <td>0</td>\n",
       "      <td>1</td>\n",
       "      <td>0</td>\n",
       "      <td>0</td>\n",
       "      <td>0</td>\n",
       "      <td>1</td>\n",
       "      <td>1</td>\n",
       "      <td>0</td>\n",
       "    </tr>\n",
       "    <tr>\n",
       "      <th>1</th>\n",
       "      <td>0</td>\n",
       "      <td>0</td>\n",
       "      <td>0</td>\n",
       "      <td>1</td>\n",
       "      <td>1</td>\n",
       "      <td>0</td>\n",
       "      <td>0</td>\n",
       "      <td>0</td>\n",
       "    </tr>\n",
       "    <tr>\n",
       "      <th>2</th>\n",
       "      <td>1</td>\n",
       "      <td>0</td>\n",
       "      <td>1</td>\n",
       "      <td>0</td>\n",
       "      <td>0</td>\n",
       "      <td>0</td>\n",
       "      <td>0</td>\n",
       "      <td>0</td>\n",
       "    </tr>\n",
       "    <tr>\n",
       "      <th>3</th>\n",
       "      <td>0</td>\n",
       "      <td>1</td>\n",
       "      <td>0</td>\n",
       "      <td>0</td>\n",
       "      <td>0</td>\n",
       "      <td>0</td>\n",
       "      <td>0</td>\n",
       "      <td>1</td>\n",
       "    </tr>\n",
       "  </tbody>\n",
       "</table>\n",
       "</div>"
      ],
      "text/plain": [
       "   americano  coffee  iced  light  roast  roaster  the  time\n",
       "0          0       1     0      0      0        1    1     0\n",
       "1          0       0     0      1      1        0    0     0\n",
       "2          1       0     1      0      0        0    0     0\n",
       "3          0       1     0      0      0        0    0     1"
      ]
     },
     "execution_count": 22,
     "metadata": {},
     "output_type": "execute_result"
    }
   ],
   "source": [
    "test_dtm"
   ]
  },
  {
   "cell_type": "markdown",
   "id": "d59a03b4-94fa-4fe7-8f5d-7280e31b9bc4",
   "metadata": {},
   "source": [
    "Hopefully we all have understood the steps involved in constructing a DTM. \n",
    "\n",
    "Let's turn to our tweet data!\n",
    "\n",
    "### DTM for Tweets\n",
    "\n",
    "We'll still begin with initializing a `CountVectorizer` object. In the following cell, we have included a few parameters that people often adjust. These parameters are currently set to their default values.\n",
    "\n",
    "As shown below, when we construct a DTM, the default is to lowercase the input text. If nothing is provided for `stop_words`, the default is to keep them. The next three parameters are used to control the number of tokens, which we'll return to in a minute!"
   ]
  },
  {
   "cell_type": "code",
   "execution_count": 23,
   "id": "783e44a4-4a22-4290-b222-282b02c080dc",
   "metadata": {},
   "outputs": [],
   "source": [
    "# Create a CountVectorizer object\n",
    "vectorizer = CountVectorizer(lowercase=True,\n",
    "                             stop_words=None,\n",
    "                             min_df=1,\n",
    "                             max_df=1.0, \n",
    "                             max_features=None)"
   ]
  },
  {
   "cell_type": "code",
   "execution_count": 24,
   "id": "f85e76ea-bc54-4775-bcda-432a03d2c96f",
   "metadata": {
    "scrolled": true
   },
   "outputs": [
    {
     "data": {
      "text/plain": [
       "<14640x9913 sparse matrix of type '<class 'numpy.int64'>'\n",
       "\twith 230849 stored elements in Compressed Sparse Row format>"
      ]
     },
     "execution_count": 24,
     "metadata": {},
     "output_type": "execute_result"
    }
   ],
   "source": [
    "# Fit and transform to create DTM\n",
    "counts = vectorizer.fit_transform(tweets['text_processed'])\n",
    "counts"
   ]
  },
  {
   "cell_type": "code",
   "execution_count": 25,
   "id": "87119057-c78c-4eb2-a9d6-3e9f44e4c22b",
   "metadata": {},
   "outputs": [
    {
     "data": {
      "text/plain": [
       "array([[0, 0, 0, ..., 0, 0, 0],\n",
       "       [0, 0, 0, ..., 0, 0, 0],\n",
       "       [0, 0, 0, ..., 0, 0, 0],\n",
       "       ...,\n",
       "       [0, 0, 0, ..., 0, 0, 0],\n",
       "       [0, 0, 0, ..., 0, 0, 0],\n",
       "       [0, 0, 0, ..., 0, 0, 0]])"
      ]
     },
     "execution_count": 25,
     "metadata": {},
     "output_type": "execute_result"
    }
   ],
   "source": [
    "# Do not run if you have limited memory - this includes DataHub and Binder\n",
    "np.array(counts.todense())"
   ]
  },
  {
   "cell_type": "code",
   "execution_count": 26,
   "id": "99322b85-1a15-46a5-bb80-bb5eaa6eeb7b",
   "metadata": {},
   "outputs": [],
   "source": [
    "# Extract tokens\n",
    "tokens = vectorizer.get_feature_names_out()"
   ]
  },
  {
   "cell_type": "code",
   "execution_count": 27,
   "id": "43620587-3795-4434-8f1f-145c81b93706",
   "metadata": {},
   "outputs": [
    {
     "name": "stdout",
     "output_type": "stream",
     "text": [
      "(14640, 9913)\n"
     ]
    }
   ],
   "source": [
    "# Create DTM\n",
    "first_dtm = pd.DataFrame(data=counts.todense(),\n",
    "                         index=tweets.index,\n",
    "                         columns=tokens)\n",
    "\n",
    "# Print the shape of DTM\n",
    "print(first_dtm.shape)"
   ]
  },
  {
   "cell_type": "markdown",
   "id": "2dd257d5-4244-436c-afe7-5688232caf8f",
   "metadata": {},
   "source": [
    "If we leave the `CountVectorizer` to the default setting, in total we have a vocabulary size of 9913. \n",
    "\n",
    "Let's take a closer look at the DTM."
   ]
  },
  {
   "cell_type": "code",
   "execution_count": 28,
   "id": "bb3604ec-d909-4238-9a3f-67e7d4ae2ac5",
   "metadata": {},
   "outputs": [
    {
     "data": {
      "text/html": [
       "<div>\n",
       "<style scoped>\n",
       "    .dataframe tbody tr th:only-of-type {\n",
       "        vertical-align: middle;\n",
       "    }\n",
       "\n",
       "    .dataframe tbody tr th {\n",
       "        vertical-align: top;\n",
       "    }\n",
       "\n",
       "    .dataframe thead th {\n",
       "        text-align: right;\n",
       "    }\n",
       "</style>\n",
       "<table border=\"1\" class=\"dataframe\">\n",
       "  <thead>\n",
       "    <tr style=\"text-align: right;\">\n",
       "      <th></th>\n",
       "      <th>_exact_</th>\n",
       "      <th>_wtvd</th>\n",
       "      <th>aa</th>\n",
       "      <th>aaaand</th>\n",
       "      <th>aadavantage</th>\n",
       "      <th>aadv</th>\n",
       "      <th>aadvantage</th>\n",
       "      <th>aal</th>\n",
       "      <th>aaron</th>\n",
       "      <th>ab</th>\n",
       "      <th>...</th>\n",
       "      <th>zero</th>\n",
       "      <th>zig</th>\n",
       "      <th>zip</th>\n",
       "      <th>zippers</th>\n",
       "      <th>zone</th>\n",
       "      <th>zones</th>\n",
       "      <th>zoom</th>\n",
       "      <th>zukes</th>\n",
       "      <th>zurich</th>\n",
       "      <th>zz</th>\n",
       "    </tr>\n",
       "  </thead>\n",
       "  <tbody>\n",
       "    <tr>\n",
       "      <th>0</th>\n",
       "      <td>0</td>\n",
       "      <td>0</td>\n",
       "      <td>0</td>\n",
       "      <td>0</td>\n",
       "      <td>0</td>\n",
       "      <td>0</td>\n",
       "      <td>0</td>\n",
       "      <td>0</td>\n",
       "      <td>0</td>\n",
       "      <td>0</td>\n",
       "      <td>...</td>\n",
       "      <td>0</td>\n",
       "      <td>0</td>\n",
       "      <td>0</td>\n",
       "      <td>0</td>\n",
       "      <td>0</td>\n",
       "      <td>0</td>\n",
       "      <td>0</td>\n",
       "      <td>0</td>\n",
       "      <td>0</td>\n",
       "      <td>0</td>\n",
       "    </tr>\n",
       "    <tr>\n",
       "      <th>1</th>\n",
       "      <td>0</td>\n",
       "      <td>0</td>\n",
       "      <td>0</td>\n",
       "      <td>0</td>\n",
       "      <td>0</td>\n",
       "      <td>0</td>\n",
       "      <td>0</td>\n",
       "      <td>0</td>\n",
       "      <td>0</td>\n",
       "      <td>0</td>\n",
       "      <td>...</td>\n",
       "      <td>0</td>\n",
       "      <td>0</td>\n",
       "      <td>0</td>\n",
       "      <td>0</td>\n",
       "      <td>0</td>\n",
       "      <td>0</td>\n",
       "      <td>0</td>\n",
       "      <td>0</td>\n",
       "      <td>0</td>\n",
       "      <td>0</td>\n",
       "    </tr>\n",
       "    <tr>\n",
       "      <th>2</th>\n",
       "      <td>0</td>\n",
       "      <td>0</td>\n",
       "      <td>0</td>\n",
       "      <td>0</td>\n",
       "      <td>0</td>\n",
       "      <td>0</td>\n",
       "      <td>0</td>\n",
       "      <td>0</td>\n",
       "      <td>0</td>\n",
       "      <td>0</td>\n",
       "      <td>...</td>\n",
       "      <td>0</td>\n",
       "      <td>0</td>\n",
       "      <td>0</td>\n",
       "      <td>0</td>\n",
       "      <td>0</td>\n",
       "      <td>0</td>\n",
       "      <td>0</td>\n",
       "      <td>0</td>\n",
       "      <td>0</td>\n",
       "      <td>0</td>\n",
       "    </tr>\n",
       "    <tr>\n",
       "      <th>3</th>\n",
       "      <td>0</td>\n",
       "      <td>0</td>\n",
       "      <td>0</td>\n",
       "      <td>0</td>\n",
       "      <td>0</td>\n",
       "      <td>0</td>\n",
       "      <td>0</td>\n",
       "      <td>0</td>\n",
       "      <td>0</td>\n",
       "      <td>0</td>\n",
       "      <td>...</td>\n",
       "      <td>0</td>\n",
       "      <td>0</td>\n",
       "      <td>0</td>\n",
       "      <td>0</td>\n",
       "      <td>0</td>\n",
       "      <td>0</td>\n",
       "      <td>0</td>\n",
       "      <td>0</td>\n",
       "      <td>0</td>\n",
       "      <td>0</td>\n",
       "    </tr>\n",
       "    <tr>\n",
       "      <th>4</th>\n",
       "      <td>0</td>\n",
       "      <td>0</td>\n",
       "      <td>0</td>\n",
       "      <td>0</td>\n",
       "      <td>0</td>\n",
       "      <td>0</td>\n",
       "      <td>0</td>\n",
       "      <td>0</td>\n",
       "      <td>0</td>\n",
       "      <td>0</td>\n",
       "      <td>...</td>\n",
       "      <td>0</td>\n",
       "      <td>0</td>\n",
       "      <td>0</td>\n",
       "      <td>0</td>\n",
       "      <td>0</td>\n",
       "      <td>0</td>\n",
       "      <td>0</td>\n",
       "      <td>0</td>\n",
       "      <td>0</td>\n",
       "      <td>0</td>\n",
       "    </tr>\n",
       "  </tbody>\n",
       "</table>\n",
       "<p>5 rows × 9913 columns</p>\n",
       "</div>"
      ],
      "text/plain": [
       "   _exact_  _wtvd  aa  aaaand  aadavantage  aadv  aadvantage  aal  aaron  ab  \\\n",
       "0        0      0   0       0            0     0           0    0      0   0   \n",
       "1        0      0   0       0            0     0           0    0      0   0   \n",
       "2        0      0   0       0            0     0           0    0      0   0   \n",
       "3        0      0   0       0            0     0           0    0      0   0   \n",
       "4        0      0   0       0            0     0           0    0      0   0   \n",
       "\n",
       "   ...  zero  zig  zip  zippers  zone  zones  zoom  zukes  zurich  zz  \n",
       "0  ...     0    0    0        0     0      0     0      0       0   0  \n",
       "1  ...     0    0    0        0     0      0     0      0       0   0  \n",
       "2  ...     0    0    0        0     0      0     0      0       0   0  \n",
       "3  ...     0    0    0        0     0      0     0      0       0   0  \n",
       "4  ...     0    0    0        0     0      0     0      0       0   0  \n",
       "\n",
       "[5 rows x 9913 columns]"
      ]
     },
     "execution_count": 28,
     "metadata": {},
     "output_type": "execute_result"
    }
   ],
   "source": [
    "first_dtm.head()"
   ]
  },
  {
   "cell_type": "markdown",
   "id": "095d34e2-52f8-4419-b4c7-ed20dbd5df89",
   "metadata": {},
   "source": [
    "Most of the tokens have zero occurences at least in the first five tweets. Let's take a closer look at the DTM!"
   ]
  },
  {
   "cell_type": "code",
   "execution_count": 29,
   "id": "f432154a-eae0-4723-a797-55f3cfdd71c4",
   "metadata": {},
   "outputs": [
    {
     "data": {
      "text/plain": [
       "user      16500\n",
       "to         8653\n",
       "digit      8427\n",
       "the        6063\n",
       "you        4401\n",
       "for        4001\n",
       "flight     3935\n",
       "on         3815\n",
       "and        3733\n",
       "my         3288\n",
       "dtype: int64"
      ]
     },
     "execution_count": 29,
     "metadata": {},
     "output_type": "execute_result"
    }
   ],
   "source": [
    "# Most frequent tokens\n",
    "first_dtm.sum().sort_values(ascending=False).head(10)"
   ]
  },
  {
   "cell_type": "code",
   "execution_count": 30,
   "id": "26c7f1c9-dd66-49f2-b337-01253da551d2",
   "metadata": {},
   "outputs": [
    {
     "data": {
      "text/plain": [
       "_exact_      1\n",
       "minus        1\n",
       "minssss      1\n",
       "minors       1\n",
       "minonhold    1\n",
       "minimal      1\n",
       "mini         1\n",
       "minflight    1\n",
       "mines        1\n",
       "mindset      1\n",
       "dtype: int64"
      ]
     },
     "execution_count": 30,
     "metadata": {},
     "output_type": "execute_result"
    }
   ],
   "source": [
    "# Least frequent tokens\n",
    "first_dtm.sum().sort_values(ascending=True).head(10)"
   ]
  },
  {
   "cell_type": "markdown",
   "id": "5d230f79-e752-4e32-93db-4f013287f8e2",
   "metadata": {},
   "source": [
    "It is not surprising to see \"user\" and \"digit\" to be among the most frequent tokens as we replaced each idiosyncratic one to these placeholders. The rest of the most frequent list are mostly stop words.\n",
    "\n",
    "Perhaps a more interesting pattern is to look for which token appears most in any given tweet:"
   ]
  },
  {
   "cell_type": "code",
   "execution_count": 31,
   "id": "efb8f4d8-4c88-4155-a6c5-c72a5b4e8bb8",
   "metadata": {},
   "outputs": [
    {
     "data": {
      "text/html": [
       "<div>\n",
       "<style scoped>\n",
       "    .dataframe tbody tr th:only-of-type {\n",
       "        vertical-align: middle;\n",
       "    }\n",
       "\n",
       "    .dataframe tbody tr th {\n",
       "        vertical-align: top;\n",
       "    }\n",
       "\n",
       "    .dataframe thead th {\n",
       "        text-align: right;\n",
       "    }\n",
       "</style>\n",
       "<table border=\"1\" class=\"dataframe\">\n",
       "  <thead>\n",
       "    <tr style=\"text-align: right;\">\n",
       "      <th></th>\n",
       "      <th>token</th>\n",
       "      <th>number</th>\n",
       "    </tr>\n",
       "  </thead>\n",
       "  <tbody>\n",
       "    <tr>\n",
       "      <th>3915</th>\n",
       "      <td>lt</td>\n",
       "      <td>6</td>\n",
       "    </tr>\n",
       "    <tr>\n",
       "      <th>1214</th>\n",
       "      <td>worst</td>\n",
       "      <td>6</td>\n",
       "    </tr>\n",
       "    <tr>\n",
       "      <th>10173</th>\n",
       "      <td>to</td>\n",
       "      <td>5</td>\n",
       "    </tr>\n",
       "    <tr>\n",
       "      <th>3412</th>\n",
       "      <td>to</td>\n",
       "      <td>5</td>\n",
       "    </tr>\n",
       "    <tr>\n",
       "      <th>792</th>\n",
       "      <td>to</td>\n",
       "      <td>5</td>\n",
       "    </tr>\n",
       "    <tr>\n",
       "      <th>6469</th>\n",
       "      <td>to</td>\n",
       "      <td>5</td>\n",
       "    </tr>\n",
       "    <tr>\n",
       "      <th>13715</th>\n",
       "      <td>to</td>\n",
       "      <td>5</td>\n",
       "    </tr>\n",
       "    <tr>\n",
       "      <th>10614</th>\n",
       "      <td>the</td>\n",
       "      <td>5</td>\n",
       "    </tr>\n",
       "    <tr>\n",
       "      <th>14030</th>\n",
       "      <td>to</td>\n",
       "      <td>5</td>\n",
       "    </tr>\n",
       "    <tr>\n",
       "      <th>10599</th>\n",
       "      <td>to</td>\n",
       "      <td>5</td>\n",
       "    </tr>\n",
       "  </tbody>\n",
       "</table>\n",
       "</div>"
      ],
      "text/plain": [
       "       token  number\n",
       "3915      lt       6\n",
       "1214   worst       6\n",
       "10173     to       5\n",
       "3412      to       5\n",
       "792       to       5\n",
       "6469      to       5\n",
       "13715     to       5\n",
       "10614    the       5\n",
       "14030     to       5\n",
       "10599     to       5"
      ]
     },
     "execution_count": 31,
     "metadata": {},
     "output_type": "execute_result"
    }
   ],
   "source": [
    "counts = pd.DataFrame()\n",
    "# Retrieve the index to the tweet where each token appears most frequently\n",
    "counts['token'] = first_dtm.idxmax(axis=1)\n",
    "# Retrieve the number of occurence \n",
    "counts['number'] = first_dtm.max(axis=1)\n",
    "# Filter out placeholders\n",
    "counts[(counts['token'] != 'digit')\n",
    "       & (counts['token'] != 'hashtag')\n",
    "       & (counts['token'] != 'user')].sort_values('number', ascending=False).head(10)"
   ]
  },
  {
   "cell_type": "markdown",
   "id": "7cdac4ef-6b9d-4aad-9b24-c70f6c2eb8f0",
   "metadata": {},
   "source": [
    "It looks like among all tweets, at most a token appears 6 times, and it is either the word \"It\" or the word \"worst\". \n",
    "\n",
    "Let's go back to our tweets dataframe and get the 1214th tweet."
   ]
  },
  {
   "cell_type": "code",
   "execution_count": 32,
   "id": "5e7cacd8-1fb3-4f0d-a744-4ee0994a089f",
   "metadata": {},
   "outputs": [
    {
     "data": {
      "text/plain": [
       "\"@united is the worst. Worst reservation policies. Worst costumer service. Worst worst worst. Congrats, @Delta you're not that bad!\""
      ]
     },
     "execution_count": 32,
     "metadata": {},
     "output_type": "execute_result"
    }
   ],
   "source": [
    "# Look at index 1214: \"worst\"\n",
    "tweets.iloc[1214]['text']"
   ]
  },
  {
   "cell_type": "markdown",
   "id": "3dba8e37-4880-4565-b6fc-7e7c96958f0f",
   "metadata": {},
   "source": [
    "## Customizing the `CountVectorizer`\n",
    "\n",
    "So far we've sticked to the default parameter setting to create our DTMs, but in many cases we may want to customize the `CountVectorizer` object. The purpose of doing so is to further filter out words that do not contribute to the meaning of the data. In the example below, we tweak the following parameters:\n",
    "\n",
    "- `stop_words = 'english'`: exclude English stop words \n",
    "- `min_df = 2`: exclude words don't occur at least twice\n",
    "- `max_df = 0.95`: exclude words if they occur in more than 95\\% of the documents\n",
    "\n",
    "🔔 **Question**: Let's pause for a minute to discuss if it is reasonable to set these parameters! What do you think?\n",
    "\n",
    "As you can see, typically we are not interested in words whose frequencies are either too low or too high, so we go to `min_df` and `max_df` to trim them out. Alternatively, we can also define our vocabulary size to be $N$, and let it be `max_feature`---we are telling `CountVectorizer` to only consider the top $N$ most frequent features when construct the DTM."
   ]
  },
  {
   "cell_type": "code",
   "execution_count": 33,
   "id": "37a0a93e-9dd8-43dc-a82c-06a24bf02bc9",
   "metadata": {},
   "outputs": [],
   "source": [
    "# Customize the parameter setting\n",
    "vectorizer = CountVectorizer(lowercase=True,\n",
    "                             stop_words='english',\n",
    "                             min_df=2,\n",
    "                             max_df=0.95,\n",
    "                             max_features=None)"
   ]
  },
  {
   "cell_type": "code",
   "execution_count": 34,
   "id": "b53e5ecf-7be3-4915-9d11-fd3edb913400",
   "metadata": {},
   "outputs": [],
   "source": [
    "# Fit, transform, and get tokens\n",
    "counts = vectorizer.fit_transform(tweets['text_processed'])\n",
    "tokens = vectorizer.get_feature_names_out()\n",
    "\n",
    "# Create the second DTM\n",
    "second_dtm = pd.DataFrame(data=counts.todense(),\n",
    "                   index=tweets.index,\n",
    "                   columns=tokens)"
   ]
  },
  {
   "cell_type": "markdown",
   "id": "6d2e66bc-2eaa-4642-8848-74459948084b",
   "metadata": {},
   "source": [
    "Our second DTM has a substantially smaller vocabulary, compared to the first one."
   ]
  },
  {
   "cell_type": "code",
   "execution_count": 35,
   "id": "570fb598-fa81-4111-9e36-7172d8034713",
   "metadata": {},
   "outputs": [
    {
     "name": "stdout",
     "output_type": "stream",
     "text": [
      "(14640, 9913)\n",
      "(14640, 5152)\n"
     ]
    }
   ],
   "source": [
    "print(first_dtm.shape)\n",
    "print(second_dtm.shape)"
   ]
  },
  {
   "cell_type": "code",
   "execution_count": 36,
   "id": "d8deabb2-20eb-4047-b592-48cb1564fd2a",
   "metadata": {},
   "outputs": [
    {
     "data": {
      "text/html": [
       "<div>\n",
       "<style scoped>\n",
       "    .dataframe tbody tr th:only-of-type {\n",
       "        vertical-align: middle;\n",
       "    }\n",
       "\n",
       "    .dataframe tbody tr th {\n",
       "        vertical-align: top;\n",
       "    }\n",
       "\n",
       "    .dataframe thead th {\n",
       "        text-align: right;\n",
       "    }\n",
       "</style>\n",
       "<table border=\"1\" class=\"dataframe\">\n",
       "  <thead>\n",
       "    <tr style=\"text-align: right;\">\n",
       "      <th></th>\n",
       "      <th>aa</th>\n",
       "      <th>aadv</th>\n",
       "      <th>aadvantage</th>\n",
       "      <th>aal</th>\n",
       "      <th>abandoned</th>\n",
       "      <th>abc</th>\n",
       "      <th>abi</th>\n",
       "      <th>abilities</th>\n",
       "      <th>ability</th>\n",
       "      <th>able</th>\n",
       "      <th>...</th>\n",
       "      <th>yup</th>\n",
       "      <th>yvonne</th>\n",
       "      <th>yvr</th>\n",
       "      <th>yyj</th>\n",
       "      <th>yyz</th>\n",
       "      <th>zero</th>\n",
       "      <th>zone</th>\n",
       "      <th>zoom</th>\n",
       "      <th>zurich</th>\n",
       "      <th>zz</th>\n",
       "    </tr>\n",
       "  </thead>\n",
       "  <tbody>\n",
       "    <tr>\n",
       "      <th>0</th>\n",
       "      <td>0</td>\n",
       "      <td>0</td>\n",
       "      <td>0</td>\n",
       "      <td>0</td>\n",
       "      <td>0</td>\n",
       "      <td>0</td>\n",
       "      <td>0</td>\n",
       "      <td>0</td>\n",
       "      <td>0</td>\n",
       "      <td>0</td>\n",
       "      <td>...</td>\n",
       "      <td>0</td>\n",
       "      <td>0</td>\n",
       "      <td>0</td>\n",
       "      <td>0</td>\n",
       "      <td>0</td>\n",
       "      <td>0</td>\n",
       "      <td>0</td>\n",
       "      <td>0</td>\n",
       "      <td>0</td>\n",
       "      <td>0</td>\n",
       "    </tr>\n",
       "    <tr>\n",
       "      <th>1</th>\n",
       "      <td>0</td>\n",
       "      <td>0</td>\n",
       "      <td>0</td>\n",
       "      <td>0</td>\n",
       "      <td>0</td>\n",
       "      <td>0</td>\n",
       "      <td>0</td>\n",
       "      <td>0</td>\n",
       "      <td>0</td>\n",
       "      <td>0</td>\n",
       "      <td>...</td>\n",
       "      <td>0</td>\n",
       "      <td>0</td>\n",
       "      <td>0</td>\n",
       "      <td>0</td>\n",
       "      <td>0</td>\n",
       "      <td>0</td>\n",
       "      <td>0</td>\n",
       "      <td>0</td>\n",
       "      <td>0</td>\n",
       "      <td>0</td>\n",
       "    </tr>\n",
       "    <tr>\n",
       "      <th>2</th>\n",
       "      <td>0</td>\n",
       "      <td>0</td>\n",
       "      <td>0</td>\n",
       "      <td>0</td>\n",
       "      <td>0</td>\n",
       "      <td>0</td>\n",
       "      <td>0</td>\n",
       "      <td>0</td>\n",
       "      <td>0</td>\n",
       "      <td>0</td>\n",
       "      <td>...</td>\n",
       "      <td>0</td>\n",
       "      <td>0</td>\n",
       "      <td>0</td>\n",
       "      <td>0</td>\n",
       "      <td>0</td>\n",
       "      <td>0</td>\n",
       "      <td>0</td>\n",
       "      <td>0</td>\n",
       "      <td>0</td>\n",
       "      <td>0</td>\n",
       "    </tr>\n",
       "    <tr>\n",
       "      <th>3</th>\n",
       "      <td>0</td>\n",
       "      <td>0</td>\n",
       "      <td>0</td>\n",
       "      <td>0</td>\n",
       "      <td>0</td>\n",
       "      <td>0</td>\n",
       "      <td>0</td>\n",
       "      <td>0</td>\n",
       "      <td>0</td>\n",
       "      <td>0</td>\n",
       "      <td>...</td>\n",
       "      <td>0</td>\n",
       "      <td>0</td>\n",
       "      <td>0</td>\n",
       "      <td>0</td>\n",
       "      <td>0</td>\n",
       "      <td>0</td>\n",
       "      <td>0</td>\n",
       "      <td>0</td>\n",
       "      <td>0</td>\n",
       "      <td>0</td>\n",
       "    </tr>\n",
       "    <tr>\n",
       "      <th>4</th>\n",
       "      <td>0</td>\n",
       "      <td>0</td>\n",
       "      <td>0</td>\n",
       "      <td>0</td>\n",
       "      <td>0</td>\n",
       "      <td>0</td>\n",
       "      <td>0</td>\n",
       "      <td>0</td>\n",
       "      <td>0</td>\n",
       "      <td>0</td>\n",
       "      <td>...</td>\n",
       "      <td>0</td>\n",
       "      <td>0</td>\n",
       "      <td>0</td>\n",
       "      <td>0</td>\n",
       "      <td>0</td>\n",
       "      <td>0</td>\n",
       "      <td>0</td>\n",
       "      <td>0</td>\n",
       "      <td>0</td>\n",
       "      <td>0</td>\n",
       "    </tr>\n",
       "  </tbody>\n",
       "</table>\n",
       "<p>5 rows × 5152 columns</p>\n",
       "</div>"
      ],
      "text/plain": [
       "   aa  aadv  aadvantage  aal  abandoned  abc  abi  abilities  ability  able  \\\n",
       "0   0     0           0    0          0    0    0          0        0     0   \n",
       "1   0     0           0    0          0    0    0          0        0     0   \n",
       "2   0     0           0    0          0    0    0          0        0     0   \n",
       "3   0     0           0    0          0    0    0          0        0     0   \n",
       "4   0     0           0    0          0    0    0          0        0     0   \n",
       "\n",
       "   ...  yup  yvonne  yvr  yyj  yyz  zero  zone  zoom  zurich  zz  \n",
       "0  ...    0       0    0    0    0     0     0     0       0   0  \n",
       "1  ...    0       0    0    0    0     0     0     0       0   0  \n",
       "2  ...    0       0    0    0    0     0     0     0       0   0  \n",
       "3  ...    0       0    0    0    0     0     0     0       0   0  \n",
       "4  ...    0       0    0    0    0     0     0     0       0   0  \n",
       "\n",
       "[5 rows x 5152 columns]"
      ]
     },
     "execution_count": 36,
     "metadata": {},
     "output_type": "execute_result"
    }
   ],
   "source": [
    "second_dtm.head()"
   ]
  },
  {
   "cell_type": "markdown",
   "id": "998fe2c3-ec90-4027-8c7f-417327a33a27",
   "metadata": {},
   "source": [
    "The most frequent token list now includes words that make more sense to us, for example, \"flight\", \"cancelled\", \"service\", and etc. "
   ]
  },
  {
   "cell_type": "code",
   "execution_count": 37,
   "id": "ffa7bf4e-640b-49bc-b64b-721140f67f76",
   "metadata": {},
   "outputs": [
    {
     "data": {
      "text/plain": [
       "digit        8427\n",
       "flight       3935\n",
       "hashtag      3243\n",
       "url          1211\n",
       "thanks       1078\n",
       "cancelled    1057\n",
       "just          974\n",
       "service       965\n",
       "help          855\n",
       "time          793\n",
       "dtype: int64"
      ]
     },
     "execution_count": 37,
     "metadata": {},
     "output_type": "execute_result"
    }
   ],
   "source": [
    "second_dtm.sum().sort_values(ascending=False).head(10)"
   ]
  },
  {
   "cell_type": "markdown",
   "id": "3e8b5145-d505-4e36-9a39-a40d25d8ec6f",
   "metadata": {},
   "source": [
    "## 🥊 Challenge 2: Lemmatize the Text Input\n",
    "\n",
    "Recall from Part 1 that we introduced using `spaCy` to perform lemmatization, i.e., removing morphological affixes on words. With lemmatization, we keep only word stems in texts, which presumbaly should capture the core meaning of the text. \n",
    "\n",
    "Now let's implement lemmatization on our tweet data, and pass the lemmatized text to create a third DTM. \n",
    "\n",
    "Complete the function `lemmatize_text`. It requires a text input, and the returned output is the same text except this time lemmas of all tokens. There are several steps we need to consider to complete this function:\n",
    "- Initialize a list to hold lemmas\n",
    "- Apply the `nlp()` pipeline to input text\n",
    "- Iterate over tokens in the processed text, and retrieve lemma of the token\n",
    "    - HINT: lemma is one of the linguistic annotations that the `nlp` pipeline returns. We can use `token.lemma_` to access the annotation."
   ]
  },
  {
   "cell_type": "code",
   "execution_count": 38,
   "id": "da610560-62c3-48ab-a1b2-25e0b589bc61",
   "metadata": {},
   "outputs": [],
   "source": [
    "# Import spaCy\n",
    "import spacy\n",
    "nlp = spacy.load('en_core_web_sm')"
   ]
  },
  {
   "cell_type": "code",
   "execution_count": 39,
   "id": "98ead266-30f3-48ad-bc51-c1685487f000",
   "metadata": {
    "scrolled": true
   },
   "outputs": [],
   "source": [
    "# # Create a function to lemmatize text\n",
    "# def lemmatize_text(text):\n",
    "#     '''Lemmatize the text input with spaCy annotations.'''\n",
    "\n",
    "#     # Step 1: Initialize an empty list to hold lemmas\n",
    "#     lemma = ...\n",
    "\n",
    "#     # Step 2: Apply the nlp pipeline to input text\n",
    "#     doc = ...\n",
    "\n",
    "#     # Step 3: Iterate over tokens in the text to get the token lemma\n",
    "#     for token in doc:\n",
    "#         lemma.append(...)\n",
    "\n",
    "#     # Step 4: Join lemmas together into a single string\n",
    "#     text_lemma = ' '.join(lemma)\n",
    "    \n",
    "#     return text_lemma"
   ]
  },
  {
   "cell_type": "code",
   "execution_count": 40,
<<<<<<< HEAD
   "id": "c8c22447-a6de-4db1-b370-010311a1239c",
=======
   "id": "ca1acf76-1424-4bdc-8546-ab14a448b5c6",
>>>>>>> f3eadd4 (minor edits learning goals)
   "metadata": {},
   "outputs": [],
   "source": [
    "# Create a function to lemmatize text\n",
    "def lemmatize_text(text):\n",
    "    '''Lemmatize the text input with spaCy annotations.'''\n",
    "\n",
    "    # Step 1: Initialize an empty list to hold lemmas\n",
    "    lemma = []\n",
    "\n",
    "    # Step 2: Apply the nlp pipeline to input text\n",
    "    doc = nlp(text)\n",
    "\n",
    "    # Step 3: Iterate over tokens in the text to get the token lemma\n",
    "    for token in doc:\n",
    "        lemma.append(token.lemma_)\n",
    "\n",
    "    # Step 4: Join lemmas together into a single string\n",
    "    text_lemma = ' '.join(lemma)\n",
    "    \n",
    "    return text_lemma"
   ]
  },
  {
   "cell_type": "code",
   "execution_count": 41,
   "id": "742e82bb-5c42-4fa8-9101-5a0ea908db25",
   "metadata": {},
   "outputs": [
    {
     "name": "stdout",
     "output_type": "stream",
     "text": [
      "USER why must a traveler miss a flight to late flight check a bag? i missed my morning appointments and you lost my business. HASHTAG DIGIT lax\n",
      "==================================================\n",
      "USER why must a traveler miss a flight to late flight check a bag ? I miss my morning appointment and you lose my business . HASHTAG DIGIT lax\n"
     ]
    }
   ],
   "source": [
    "# Apply the function to an example tweet\n",
    "print(tweets.iloc[101][\"text_processed\"])\n",
    "print(f\"{'='*50}\")\n",
    "print(lemmatize_text(tweets.iloc[101]['text_processed']))"
   ]
  },
  {
   "cell_type": "code",
   "execution_count": 42,
   "id": "1ac128d2-1be5-4ef5-bb50-5b8d44ef8ee9",
   "metadata": {},
   "outputs": [],
   "source": [
    "# This may take a while!\n",
    "tweets['text_lemmatized'] = tweets['text_processed'].apply(lambda x: lemmatize_text(x))"
   ]
  },
  {
   "cell_type": "code",
   "execution_count": 43,
   "id": "7e1eddb5-e8d0-4f1e-a88f-7e61efaf8f68",
   "metadata": {
    "scrolled": true
   },
   "outputs": [
    {
     "name": "stdout",
     "output_type": "stream",
     "text": [
      "USER why must a traveler miss a flight to late flight check a bag? i missed my morning appointments and you lost my business. HASHTAG DIGIT lax\n",
      "==================================================\n",
      "USER why must a traveler miss a flight to late flight check a bag ? I miss my morning appointment and you lose my business . HASHTAG DIGIT lax\n"
     ]
    }
   ],
   "source": [
    "# Print the preprocessed tweet\n",
    "print(tweets['text_processed'].iloc[101])\n",
    "print(f\"{'='*50}\")\n",
    "# Print the lemmatized tweet\n",
    "print(tweets['text_lemmatized'].iloc[101])"
   ]
  },
  {
   "cell_type": "code",
   "execution_count": 44,
   "id": "5f49d790-3c9d-4dc1-a5c9-72c306630412",
   "metadata": {},
   "outputs": [
    {
     "data": {
      "text/html": [
       "<div>\n",
       "<style scoped>\n",
       "    .dataframe tbody tr th:only-of-type {\n",
       "        vertical-align: middle;\n",
       "    }\n",
       "\n",
       "    .dataframe tbody tr th {\n",
       "        vertical-align: top;\n",
       "    }\n",
       "\n",
       "    .dataframe thead th {\n",
       "        text-align: right;\n",
       "    }\n",
       "</style>\n",
       "<table border=\"1\" class=\"dataframe\">\n",
       "  <thead>\n",
       "    <tr style=\"text-align: right;\">\n",
       "      <th></th>\n",
       "      <th>aa</th>\n",
       "      <th>aadv</th>\n",
       "      <th>aadvantage</th>\n",
       "      <th>aal</th>\n",
       "      <th>abandon</th>\n",
       "      <th>abc</th>\n",
       "      <th>abi</th>\n",
       "      <th>ability</th>\n",
       "      <th>able</th>\n",
       "      <th>aboard</th>\n",
       "      <th>...</th>\n",
       "      <th>yup</th>\n",
       "      <th>yvonne</th>\n",
       "      <th>yvr</th>\n",
       "      <th>yyj</th>\n",
       "      <th>yyz</th>\n",
       "      <th>zero</th>\n",
       "      <th>zone</th>\n",
       "      <th>zoom</th>\n",
       "      <th>zurich</th>\n",
       "      <th>zz</th>\n",
       "    </tr>\n",
       "  </thead>\n",
       "  <tbody>\n",
       "    <tr>\n",
       "      <th>0</th>\n",
       "      <td>0</td>\n",
       "      <td>0</td>\n",
       "      <td>0</td>\n",
       "      <td>0</td>\n",
       "      <td>0</td>\n",
       "      <td>0</td>\n",
       "      <td>0</td>\n",
       "      <td>0</td>\n",
       "      <td>0</td>\n",
       "      <td>0</td>\n",
       "      <td>...</td>\n",
       "      <td>0</td>\n",
       "      <td>0</td>\n",
       "      <td>0</td>\n",
       "      <td>0</td>\n",
       "      <td>0</td>\n",
       "      <td>0</td>\n",
       "      <td>0</td>\n",
       "      <td>0</td>\n",
       "      <td>0</td>\n",
       "      <td>0</td>\n",
       "    </tr>\n",
       "    <tr>\n",
       "      <th>1</th>\n",
       "      <td>0</td>\n",
       "      <td>0</td>\n",
       "      <td>0</td>\n",
       "      <td>0</td>\n",
       "      <td>0</td>\n",
       "      <td>0</td>\n",
       "      <td>0</td>\n",
       "      <td>0</td>\n",
       "      <td>0</td>\n",
       "      <td>0</td>\n",
       "      <td>...</td>\n",
       "      <td>0</td>\n",
       "      <td>0</td>\n",
       "      <td>0</td>\n",
       "      <td>0</td>\n",
       "      <td>0</td>\n",
       "      <td>0</td>\n",
       "      <td>0</td>\n",
       "      <td>0</td>\n",
       "      <td>0</td>\n",
       "      <td>0</td>\n",
       "    </tr>\n",
       "    <tr>\n",
       "      <th>2</th>\n",
       "      <td>0</td>\n",
       "      <td>0</td>\n",
       "      <td>0</td>\n",
       "      <td>0</td>\n",
       "      <td>0</td>\n",
       "      <td>0</td>\n",
       "      <td>0</td>\n",
       "      <td>0</td>\n",
       "      <td>0</td>\n",
       "      <td>0</td>\n",
       "      <td>...</td>\n",
       "      <td>0</td>\n",
       "      <td>0</td>\n",
       "      <td>0</td>\n",
       "      <td>0</td>\n",
       "      <td>0</td>\n",
       "      <td>0</td>\n",
       "      <td>0</td>\n",
       "      <td>0</td>\n",
       "      <td>0</td>\n",
       "      <td>0</td>\n",
       "    </tr>\n",
       "    <tr>\n",
       "      <th>3</th>\n",
       "      <td>0</td>\n",
       "      <td>0</td>\n",
       "      <td>0</td>\n",
       "      <td>0</td>\n",
       "      <td>0</td>\n",
       "      <td>0</td>\n",
       "      <td>0</td>\n",
       "      <td>0</td>\n",
       "      <td>0</td>\n",
       "      <td>0</td>\n",
       "      <td>...</td>\n",
       "      <td>0</td>\n",
       "      <td>0</td>\n",
       "      <td>0</td>\n",
       "      <td>0</td>\n",
       "      <td>0</td>\n",
       "      <td>0</td>\n",
       "      <td>0</td>\n",
       "      <td>0</td>\n",
       "      <td>0</td>\n",
       "      <td>0</td>\n",
       "    </tr>\n",
       "    <tr>\n",
       "      <th>4</th>\n",
       "      <td>0</td>\n",
       "      <td>0</td>\n",
       "      <td>0</td>\n",
       "      <td>0</td>\n",
       "      <td>0</td>\n",
       "      <td>0</td>\n",
       "      <td>0</td>\n",
       "      <td>0</td>\n",
       "      <td>0</td>\n",
       "      <td>0</td>\n",
       "      <td>...</td>\n",
       "      <td>0</td>\n",
       "      <td>0</td>\n",
       "      <td>0</td>\n",
       "      <td>0</td>\n",
       "      <td>0</td>\n",
       "      <td>0</td>\n",
       "      <td>0</td>\n",
       "      <td>0</td>\n",
       "      <td>0</td>\n",
       "      <td>0</td>\n",
       "    </tr>\n",
       "  </tbody>\n",
       "</table>\n",
       "<p>5 rows × 4096 columns</p>\n",
       "</div>"
      ],
      "text/plain": [
       "   aa  aadv  aadvantage  aal  abandon  abc  abi  ability  able  aboard  ...  \\\n",
       "0   0     0           0    0        0    0    0        0     0       0  ...   \n",
       "1   0     0           0    0        0    0    0        0     0       0  ...   \n",
       "2   0     0           0    0        0    0    0        0     0       0  ...   \n",
       "3   0     0           0    0        0    0    0        0     0       0  ...   \n",
       "4   0     0           0    0        0    0    0        0     0       0  ...   \n",
       "\n",
       "   yup  yvonne  yvr  yyj  yyz  zero  zone  zoom  zurich  zz  \n",
       "0    0       0    0    0    0     0     0     0       0   0  \n",
       "1    0       0    0    0    0     0     0     0       0   0  \n",
       "2    0       0    0    0    0     0     0     0       0   0  \n",
       "3    0       0    0    0    0     0     0     0       0   0  \n",
       "4    0       0    0    0    0     0     0     0       0   0  \n",
       "\n",
       "[5 rows x 4096 columns]"
      ]
     },
     "execution_count": 44,
     "metadata": {},
     "output_type": "execute_result"
    }
   ],
   "source": [
    "# Create the vectorizer (the same param setting as previous)\n",
    "vectorizer = CountVectorizer(lowercase=True,\n",
    "                             stop_words='english',\n",
    "                             min_df=2,\n",
    "                             max_df=0.95,\n",
    "                             max_features=None)\n",
    "\n",
    "# Fit, transform, and get tokens\n",
    "counts = vectorizer.fit_transform(tweets['text_lemmatized'])\n",
    "tokens = vectorizer.get_feature_names_out()\n",
    "\n",
    "# Create the third DTM\n",
    "third_dtm = pd.DataFrame(data=counts.todense(),\n",
    "                   index=tweets.index,\n",
    "                   columns=tokens)\n",
    "third_dtm.head()"
   ]
  },
  {
   "cell_type": "code",
   "execution_count": 45,
   "id": "9859eb04-dbd2-4fa0-9798-65ed7496c297",
   "metadata": {},
   "outputs": [
    {
     "name": "stdout",
     "output_type": "stream",
     "text": [
      "(14640, 9913)\n",
      "(14640, 5152)\n",
      "(14640, 4096)\n"
     ]
    }
   ],
   "source": [
    "# Print the shapes of three DTMs\n",
    "print(first_dtm.shape)\n",
    "print(second_dtm.shape)\n",
    "print(third_dtm.shape)"
   ]
  },
  {
   "cell_type": "code",
   "execution_count": 46,
   "id": "5745ca29-97ed-4fe1-81db-7e402c8da674",
   "metadata": {},
   "outputs": [
    {
     "data": {
      "text/plain": [
       "digit      8427\n",
       "flight     4844\n",
       "hashtag    3243\n",
       "thank      1679\n",
       "url        1211\n",
       "hour       1166\n",
       "cancel     1048\n",
       "service    1000\n",
       "delay       986\n",
       "just        974\n",
       "dtype: int64"
      ]
     },
     "execution_count": 46,
     "metadata": {},
     "output_type": "execute_result"
    }
   ],
   "source": [
    "# Get the most frequent tokens in the third DTM\n",
    "third_dtm.sum().sort_values(ascending=False).head(10)"
   ]
  },
  {
   "cell_type": "markdown",
   "id": "38363398-fdf5-456b-ae3d-cae9d5294140",
   "metadata": {},
   "source": [
    "<a id='section4'></a>\n",
    "\n",
    "# Term Frequency-Inverse Document Frequency \n",
    "\n",
    "So far, we're relying on word frequencies to give us information about a document. This assumes if a word appears more often in a document, it's more informative. However, this may not always be the case. For example, we've already removed stop words because they are not informative, despite the fact that they appear many times in a document. We also know the word \"flight\" is among the most frequent words, but it is also not that informative, because it appears in many documents. Since we're looking at airline tweets, we shouldn't be surprised to see the word \"flight\"!\n",
    "\n",
    "To remedy this, we use a weighting scheme called **tf-idf (term frequency-inverse document frequency)**. The big idea behind tf-idf is to weight a word not just by its frequency within a document, but by its frequency in one document relative to the remaining documents. For words that frequently appearing in almost all documents, we want to scale its frequency down. For words that distinctively appear in a set of but not all documents, we want to scale its frequency up because they are likely to be more informative to this set of document.\n",
    "\n",
    "So, when we construct the DTM, we will be assigning each term a **tf-idf score**. Specifically, term $t$ in document $d$ is assigned tf-idf score as follows:\n",
    "\n",
    "<img src='../images/tf-idf.png' alt=\"TF-IDF\" width=\"1200\">\n",
    "\n",
    "In essence, the tf-idf score of a word in a document is the product of two components: term frequency (tf) and inverse document frequency (idf). The idf acts as a scaling factor. If a word occurs in all documents, then idf equals to 1, no scaling will happen. But idf is typically greater than 1, which is the weight we assign to the word to make the tf-idf score higher, so as to highlight that the word is informative. In practice, we add 1 to both the denominator and nominator (\"add-1 smooth\"), to prevent any issues with zero occurrences.\n",
    "\n",
    "We can also create a tf-idf DTM using `sklearn`. We'll use a `TfidfVectorizer` this time:"
   ]
  },
  {
   "cell_type": "code",
   "execution_count": 47,
   "id": "f5e32d8a-c42d-475f-aab4-21eca8b1aee8",
   "metadata": {},
   "outputs": [],
   "source": [
    "from sklearn.feature_extraction.text import TfidfVectorizer"
   ]
  },
  {
   "cell_type": "code",
   "execution_count": 48,
   "id": "d23916c1-5693-456c-b71d-6d9d78d1e2e4",
   "metadata": {},
   "outputs": [],
   "source": [
    "# Create a tfidf vectorizer\n",
    "vectorizer = TfidfVectorizer(lowercase=True,\n",
    "                             stop_words='english',\n",
    "                             min_df=2,\n",
    "                             max_df=0.95,\n",
    "                             max_features=None)"
   ]
  },
  {
   "cell_type": "code",
   "execution_count": 49,
   "id": "7af5b342-ab18-4766-9561-e38e50cd1e9b",
   "metadata": {},
   "outputs": [
    {
     "data": {
      "text/plain": [
       "<14640x4096 sparse matrix of type '<class 'numpy.float64'>'\n",
       "\twith 106773 stored elements in Compressed Sparse Row format>"
      ]
     },
     "execution_count": 49,
     "metadata": {},
     "output_type": "execute_result"
    }
   ],
   "source": [
    "# Fit and transform \n",
    "tf_dtm = vectorizer.fit_transform(tweets['text_lemmatized'])\n",
    "tf_dtm"
   ]
  },
  {
   "cell_type": "code",
   "execution_count": 50,
   "id": "55e509c8-5402-4be0-9143-0e448fff7066",
   "metadata": {},
   "outputs": [
    {
     "data": {
      "text/html": [
       "<div>\n",
       "<style scoped>\n",
       "    .dataframe tbody tr th:only-of-type {\n",
       "        vertical-align: middle;\n",
       "    }\n",
       "\n",
       "    .dataframe tbody tr th {\n",
       "        vertical-align: top;\n",
       "    }\n",
       "\n",
       "    .dataframe thead th {\n",
       "        text-align: right;\n",
       "    }\n",
       "</style>\n",
       "<table border=\"1\" class=\"dataframe\">\n",
       "  <thead>\n",
       "    <tr style=\"text-align: right;\">\n",
       "      <th></th>\n",
       "      <th>aa</th>\n",
       "      <th>aadv</th>\n",
       "      <th>aadvantage</th>\n",
       "      <th>aal</th>\n",
       "      <th>abandon</th>\n",
       "      <th>abc</th>\n",
       "      <th>abi</th>\n",
       "      <th>ability</th>\n",
       "      <th>able</th>\n",
       "      <th>aboard</th>\n",
       "      <th>...</th>\n",
       "      <th>yup</th>\n",
       "      <th>yvonne</th>\n",
       "      <th>yvr</th>\n",
       "      <th>yyj</th>\n",
       "      <th>yyz</th>\n",
       "      <th>zero</th>\n",
       "      <th>zone</th>\n",
       "      <th>zoom</th>\n",
       "      <th>zurich</th>\n",
       "      <th>zz</th>\n",
       "    </tr>\n",
       "  </thead>\n",
       "  <tbody>\n",
       "    <tr>\n",
       "      <th>0</th>\n",
       "      <td>0.0</td>\n",
       "      <td>0.0</td>\n",
       "      <td>0.0</td>\n",
       "      <td>0.0</td>\n",
       "      <td>0.0</td>\n",
       "      <td>0.0</td>\n",
       "      <td>0.0</td>\n",
       "      <td>0.0</td>\n",
       "      <td>0.0</td>\n",
       "      <td>0.0</td>\n",
       "      <td>...</td>\n",
       "      <td>0.0</td>\n",
       "      <td>0.0</td>\n",
       "      <td>0.0</td>\n",
       "      <td>0.0</td>\n",
       "      <td>0.0</td>\n",
       "      <td>0.0</td>\n",
       "      <td>0.0</td>\n",
       "      <td>0.0</td>\n",
       "      <td>0.0</td>\n",
       "      <td>0.0</td>\n",
       "    </tr>\n",
       "    <tr>\n",
       "      <th>1</th>\n",
       "      <td>0.0</td>\n",
       "      <td>0.0</td>\n",
       "      <td>0.0</td>\n",
       "      <td>0.0</td>\n",
       "      <td>0.0</td>\n",
       "      <td>0.0</td>\n",
       "      <td>0.0</td>\n",
       "      <td>0.0</td>\n",
       "      <td>0.0</td>\n",
       "      <td>0.0</td>\n",
       "      <td>...</td>\n",
       "      <td>0.0</td>\n",
       "      <td>0.0</td>\n",
       "      <td>0.0</td>\n",
       "      <td>0.0</td>\n",
       "      <td>0.0</td>\n",
       "      <td>0.0</td>\n",
       "      <td>0.0</td>\n",
       "      <td>0.0</td>\n",
       "      <td>0.0</td>\n",
       "      <td>0.0</td>\n",
       "    </tr>\n",
       "    <tr>\n",
       "      <th>2</th>\n",
       "      <td>0.0</td>\n",
       "      <td>0.0</td>\n",
       "      <td>0.0</td>\n",
       "      <td>0.0</td>\n",
       "      <td>0.0</td>\n",
       "      <td>0.0</td>\n",
       "      <td>0.0</td>\n",
       "      <td>0.0</td>\n",
       "      <td>0.0</td>\n",
       "      <td>0.0</td>\n",
       "      <td>...</td>\n",
       "      <td>0.0</td>\n",
       "      <td>0.0</td>\n",
       "      <td>0.0</td>\n",
       "      <td>0.0</td>\n",
       "      <td>0.0</td>\n",
       "      <td>0.0</td>\n",
       "      <td>0.0</td>\n",
       "      <td>0.0</td>\n",
       "      <td>0.0</td>\n",
       "      <td>0.0</td>\n",
       "    </tr>\n",
       "    <tr>\n",
       "      <th>3</th>\n",
       "      <td>0.0</td>\n",
       "      <td>0.0</td>\n",
       "      <td>0.0</td>\n",
       "      <td>0.0</td>\n",
       "      <td>0.0</td>\n",
       "      <td>0.0</td>\n",
       "      <td>0.0</td>\n",
       "      <td>0.0</td>\n",
       "      <td>0.0</td>\n",
       "      <td>0.0</td>\n",
       "      <td>...</td>\n",
       "      <td>0.0</td>\n",
       "      <td>0.0</td>\n",
       "      <td>0.0</td>\n",
       "      <td>0.0</td>\n",
       "      <td>0.0</td>\n",
       "      <td>0.0</td>\n",
       "      <td>0.0</td>\n",
       "      <td>0.0</td>\n",
       "      <td>0.0</td>\n",
       "      <td>0.0</td>\n",
       "    </tr>\n",
       "    <tr>\n",
       "      <th>4</th>\n",
       "      <td>0.0</td>\n",
       "      <td>0.0</td>\n",
       "      <td>0.0</td>\n",
       "      <td>0.0</td>\n",
       "      <td>0.0</td>\n",
       "      <td>0.0</td>\n",
       "      <td>0.0</td>\n",
       "      <td>0.0</td>\n",
       "      <td>0.0</td>\n",
       "      <td>0.0</td>\n",
       "      <td>...</td>\n",
       "      <td>0.0</td>\n",
       "      <td>0.0</td>\n",
       "      <td>0.0</td>\n",
       "      <td>0.0</td>\n",
       "      <td>0.0</td>\n",
       "      <td>0.0</td>\n",
       "      <td>0.0</td>\n",
       "      <td>0.0</td>\n",
       "      <td>0.0</td>\n",
       "      <td>0.0</td>\n",
       "    </tr>\n",
       "  </tbody>\n",
       "</table>\n",
       "<p>5 rows × 4096 columns</p>\n",
       "</div>"
      ],
      "text/plain": [
       "    aa  aadv  aadvantage  aal  abandon  abc  abi  ability  able  aboard  ...  \\\n",
       "0  0.0   0.0         0.0  0.0      0.0  0.0  0.0      0.0   0.0     0.0  ...   \n",
       "1  0.0   0.0         0.0  0.0      0.0  0.0  0.0      0.0   0.0     0.0  ...   \n",
       "2  0.0   0.0         0.0  0.0      0.0  0.0  0.0      0.0   0.0     0.0  ...   \n",
       "3  0.0   0.0         0.0  0.0      0.0  0.0  0.0      0.0   0.0     0.0  ...   \n",
       "4  0.0   0.0         0.0  0.0      0.0  0.0  0.0      0.0   0.0     0.0  ...   \n",
       "\n",
       "   yup  yvonne  yvr  yyj  yyz  zero  zone  zoom  zurich   zz  \n",
       "0  0.0     0.0  0.0  0.0  0.0   0.0   0.0   0.0     0.0  0.0  \n",
       "1  0.0     0.0  0.0  0.0  0.0   0.0   0.0   0.0     0.0  0.0  \n",
       "2  0.0     0.0  0.0  0.0  0.0   0.0   0.0   0.0     0.0  0.0  \n",
       "3  0.0     0.0  0.0  0.0  0.0   0.0   0.0   0.0     0.0  0.0  \n",
       "4  0.0     0.0  0.0  0.0  0.0   0.0   0.0   0.0     0.0  0.0  \n",
       "\n",
       "[5 rows x 4096 columns]"
      ]
     },
     "execution_count": 50,
     "metadata": {},
     "output_type": "execute_result"
    }
   ],
   "source": [
    "# Create a tf-idf dataframe\n",
    "tfidf = pd.DataFrame(tf_dtm.todense(),\n",
    "                     columns=vectorizer.get_feature_names_out(),\n",
    "                     index=tweets.index)\n",
    "tfidf.head()"
   ]
  },
  {
   "cell_type": "markdown",
   "id": "45ba13ea-c429-4ff1-a9a2-abf27c4d0888",
   "metadata": {},
   "source": [
    "You may have noticed that we still have the same vocabulary size as we saw in Challenge 2, this is because we sticked to the same parameter setting when creating the vectorizer. But the values in the matrix are different now---they are tf-idf scores inseatd of raw counts. "
   ]
  },
  {
   "cell_type": "markdown",
   "id": "fa58c360-5c55-4fa0-8c55-1f00e68baa9a",
   "metadata": {},
   "source": [
    "## Interpret TF-IDF Values"
   ]
  },
  {
   "cell_type": "markdown",
   "id": "bdad233d-ebc1-420f-9b67-c227c48f3e60",
   "metadata": {},
   "source": [
    "Let's take a look the document where a term has the highest tf-idf values.\n",
    "\n",
    "We'll use `idxmax()` to find the index to the document."
   ]
  },
  {
   "cell_type": "code",
   "execution_count": 51,
   "id": "995b511a-d448-4cfb-a6a0-22a465efd8a8",
   "metadata": {},
   "outputs": [
    {
     "data": {
      "text/plain": [
       "aa             1061\n",
       "aadv          11933\n",
       "aadvantage    12813\n",
       "aal           13588\n",
       "abandon       10288\n",
       "              ...  \n",
       "zero           3367\n",
       "zone           3975\n",
       "zoom           4970\n",
       "zurich        13583\n",
       "zz             6679\n",
       "Length: 4096, dtype: int64"
      ]
     },
     "execution_count": 51,
     "metadata": {},
     "output_type": "execute_result"
    }
   ],
   "source": [
    "# Retrieve the index to the document\n",
    "tfidf.idxmax()"
   ]
  },
  {
   "cell_type": "markdown",
   "id": "fccc0249-7c68-42ee-8290-ff41715e346b",
   "metadata": {},
   "source": [
    "For example, the term \"worst\" occurs distinctively in the 1214th tweet, let's retrieve the tweet!"
   ]
  },
  {
   "cell_type": "code",
   "execution_count": 52,
   "id": "09b222fb-ad8c-4767-a974-dd261370a06e",
   "metadata": {},
   "outputs": [
    {
     "data": {
      "text/plain": [
       "1214"
      ]
     },
     "execution_count": 52,
     "metadata": {},
     "output_type": "execute_result"
    }
   ],
   "source": [
    "tfidf.idxmax()['worst']"
   ]
  },
  {
   "cell_type": "markdown",
   "id": "955a48bc-dc93-481b-ba49-29876fc577fb",
   "metadata": {},
   "source": [
    "It turns out to be the 1214th tweet---recall from previous part that it is the tweet where the word \"worst\" appears 6 times!"
   ]
  },
  {
   "cell_type": "code",
   "execution_count": 53,
   "id": "079ee0e0-476f-4236-ba8a-615ba7a0efe8",
   "metadata": {},
   "outputs": [
    {
     "data": {
      "text/plain": [
       "\"USER is the worst. worst reservation policies. worst costumer service. worst worst worst. congrats, USER you're not that bad!\""
      ]
     },
     "execution_count": 53,
     "metadata": {},
     "output_type": "execute_result"
    }
   ],
   "source": [
    "tweets['text_processed'].iloc[1214]"
   ]
  },
  {
   "cell_type": "markdown",
   "id": "9dd06bbc-e2fc-49e4-9354-efdaca5cfbd3",
   "metadata": {},
   "source": [
    "How about \"cancel\"? Let's take a look at another one!"
   ]
  },
  {
   "cell_type": "code",
   "execution_count": 54,
   "id": "f809df1a-1178-4272-a415-42edb20173b2",
   "metadata": {},
   "outputs": [
    {
     "data": {
      "text/plain": [
       "563"
      ]
     },
     "execution_count": 54,
     "metadata": {},
     "output_type": "execute_result"
    }
   ],
   "source": [
    "tfidf.idxmax()['rude']"
   ]
  },
  {
   "cell_type": "code",
   "execution_count": 55,
   "id": "8093b6a7-54ca-468a-9376-b3c0be0b6f9b",
   "metadata": {},
   "outputs": [
    {
     "data": {
      "text/plain": [
       "'USER cancelled flighted 😢'"
      ]
     },
     "execution_count": 55,
     "metadata": {},
     "output_type": "execute_result"
    }
   ],
   "source": [
    "tweets['text_processed'].iloc[7840]"
   ]
  },
  {
   "cell_type": "markdown",
   "id": "163dcecd-dc8c-43a9-952d-5bc84a307b07",
   "metadata": {},
   "source": [
    "## 🥊 Challenge 3: Words with Highest Mean TF-IDF scores\n",
    "\n",
    "So we have got tf-idf values for each term in each document, does that inform us anything about our data? Instead of focusing on tf-idf value of any particular word, let's take a step back. Is there any word to be particularly informative for positive/negative tweets? Let's gather the indices to all positive/negative tweets, and calculate the mean tf-idf scores of words appear in positive/negative tweets. \n",
    "\n",
    "We've provided the following starter codes to scaffold:\n",
    "- Use boolean masks to select tweets that have positive/negative sentiments, retrieve the indices, and assign them to `positive_index`/`negative_index`\n",
    "- Select positive/negative tweets in the tfidf dataframe, and take the mean tf-idf values across the documents, sort the mean values in descedning order, and get the top 10 terms. \n",
    "\n",
    "After you've completed the following two cells, plot the words having the highest mean tf-idf scores for each subset. "
   ]
  },
  {
   "cell_type": "code",
   "execution_count": 56,
   "id": "2bfbf838-9ff6-48b8-ad5d-5e75304fe060",
   "metadata": {},
   "outputs": [],
   "source": [
    "# # Complete the boolean masks \n",
    "# positive_index = tweets[...].index\n",
    "# negative_index = tweets[...].index"
   ]
  },
  {
   "cell_type": "code",
   "execution_count": 57,
   "id": "8c67ea1f-de9e-49a9-94f2-a3351446e364",
   "metadata": {},
   "outputs": [],
   "source": [
    "# # Complete the following two lines\n",
    "# pos = tfidf.loc[...].mean().sort_values(...).head(...)\n",
    "# neg = tfidf.loc[...].mean().sort_values(...).head(...)"
   ]
  },
  {
   "cell_type": "code",
   "execution_count": 58,
   "id": "8bdf3802-5c55-4cd3-a311-3c333329dc61",
   "metadata": {},
   "outputs": [],
   "source": [
    "positive_index = tweets[tweets['airline_sentiment'] == 'positive'].index\n",
    "negative_index = tweets[tweets['airline_sentiment'] == 'negative'].index\n",
    "\n",
    "pos = tfidf.loc[positive_index].mean().sort_values(ascending=False).head(10)\n",
    "neg = tfidf.loc[negative_index].mean().sort_values(ascending=False).head(10)"
   ]
  },
  {
   "cell_type": "code",
   "execution_count": 59,
   "id": "f1e29043-8c78-4e41-81d2-b4552030b457",
   "metadata": {},
   "outputs": [
    {
     "data": {
      "image/png": "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",
      "text/plain": [
       "<Figure size 640x480 with 1 Axes>"
      ]
     },
     "metadata": {},
     "output_type": "display_data"
    }
   ],
   "source": [
    "pos.plot(kind='barh', \n",
    "         xlim=(0, 0.18),\n",
    "         color='cornflowerblue',\n",
    "         title='Top 10 terms with the highest mean tf-idf values for positive tweets');"
   ]
  },
  {
   "cell_type": "code",
   "execution_count": 60,
   "id": "e8b25940-2372-4755-818e-f75e4d23daf9",
   "metadata": {},
   "outputs": [
    {
     "data": {
      "image/png": "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",
      "text/plain": [
       "<Figure size 640x480 with 1 Axes>"
      ]
     },
     "metadata": {},
     "output_type": "display_data"
    }
   ],
   "source": [
    "neg.plot(kind='barh', \n",
    "         xlim=(0, 0.18),\n",
    "         color='darksalmon',\n",
    "         title='Top 10 terms with the highest mean tf-idf values for negative tweets');"
   ]
  },
  {
   "cell_type": "markdown",
   "id": "77bca876-9649-46f3-bd4f-f9f68fea649a",
   "metadata": {},
   "source": [
    "🔔 **Question**: How do you interpret these two plots? Is there any word that dosn't really make sense to you?"
   ]
  },
  {
   "cell_type": "markdown",
   "id": "da410cb3-a452-441b-a94d-8f751d59d7a6",
   "metadata": {},
   "source": [
    "<a id='section5'></a>\n",
    "# Sentiment Classification\n",
    "\n",
    "Now that we have a numerical representation of the text, we'd like to do something with it. A common task is supervised learning: using the numerical representation to predict some kind of label about the text. Text classification can consist of many types of analysis, such as:\n",
    "\n",
    "* Sentiment analysis\n",
    "* Genre classification\n",
    "* Language identification\n",
    "* Authorship attribution\n",
    "* Spam detection\n",
    "* Document relevancy\n",
    "\n",
    "and many others. How exactly do we go about doing this?\n",
    "\n",
    "Let's consider a toy example: \"This was the best service! Would love to come again!\"\n",
    "\n",
    "This is very clearly expressing positive sentiment. But how did we make that judgement?\n",
    "\n",
    "* The review claims the service is the \"best\". This is pretty positive.\n",
    "* The reviewer says they would \"love\" to come again. This is also positive.\n",
    "\n",
    "Specific key words (tokens) were predictive of the sentiment. If someone says something was the \"best\", it's a good sign there's positive sentiment in the text. The semantic meaning of these words helps convey sentiment. \n",
    "\n",
    "This is how we can proceed with classification. We'll construct a DTM from the text data, and use that to predict the labels using a machine learning model."
   ]
  },
  {
   "cell_type": "markdown",
   "id": "e1121954-e13c-4bdc-9323-6834060d7197",
   "metadata": {},
   "source": [
    "## Predicting Sentiment with Logistic Regression\n",
    "\n",
    "We're going to use a logistic regression model to predict the labels. If you're not familiar with this model, or the basics of machine learning, we recommend taking the [Python Machine Learning Fundamentals](https://github.com/dlab-berkeley/Python-Machine-Learning) offered at the D-Lab. For now, we'll review some basics.\n",
    "\n",
    "The DTM is a $D\\times T$ matrix, where $D$ is the number of documents, and $T$ is the number of terms. We can think of the $T$ terms as the \"features\": these values are what we'll use to predict the sentiment. The $D$ documents represent samples: we'll use the patterns across these samples to learn a relationship between the feature and the outcome.\n",
    "\n",
    "In logistic regression, we are learning a **linear model** represented by specific parameters, which we'll call $\\beta_i$. For features $x_i$ (this is a row in the DTM), we construct a **logit**:\n",
    "\n",
    "$$\n",
    "L = \\beta_1 x_1 + \\beta_2 x_2 + \\cdots + \\beta_T x_T\n",
    "$$\n",
    "\n",
    "and obtain a probability $p$ by passing this logit through the **sigmoid function**, which maps any value onto the range $[0, 1]$:\n",
    "\n",
    "$$\n",
    "p = \\text{sigmoid}(L) = \\frac{1}{1 + \\exp(-L)}\n",
    "$$\n",
    "\n",
    "We can quite literally think of $p$ as a probability that the sample falls in one of the two classes. If, say, $p>0.5$, we call the sample positive sentiment; otherwise, it's negative sentiment.\n",
    "\n",
    "So, to summarize: we take each sample, which consists of features $x = (x_1, x_2, \\ldots, x_T)$, multiply them by $\\beta_i$ values, and add them up. Pass them through a sigmoid, and get a probability. The key question is: how do we know what $\\beta_i$ values to use? We won't discuss thus details here, but an optimization algorithm will learn the best values given the data. \n",
    "\n",
    "Let's train a model! We're going to use `sklearn` to do this:"
   ]
  },
  {
   "cell_type": "code",
   "execution_count": 61,
   "id": "33413d63-87eb-489f-b374-3cfeaa51cf3c",
   "metadata": {},
   "outputs": [],
   "source": [
    "from sklearn.linear_model import LogisticRegressionCV\n",
    "from sklearn.model_selection import train_test_split"
   ]
  },
  {
   "cell_type": "markdown",
   "id": "330d33c6-2640-44cd-8a3a-3dd62b98f3af",
   "metadata": {},
   "source": [
    "To understand the theoretical gist of our classification task, let's first focus on a binary \"positive vs negative\" classifier. We are going to do so by restricting the analysis to the non-neutral tweets. So, we'll first partition the dataframe:"
   ]
  },
  {
   "cell_type": "code",
   "execution_count": 62,
   "id": "508769ec-dd07-4492-8308-17e031a522da",
   "metadata": {},
   "outputs": [
    {
     "data": {
      "text/plain": [
       "(11541, 17)"
      ]
     },
     "execution_count": 62,
     "metadata": {},
     "output_type": "execute_result"
    }
   ],
   "source": [
    "# Filter out tweets with neutral sentiment\n",
    "tweets_binary = tweets[tweets['airline_sentiment'] != 'neutral']\n",
    "tweets_binary.shape"
   ]
  },
  {
   "cell_type": "markdown",
   "id": "87ca64c2-0cfe-4e12-ae44-74c75fae456d",
   "metadata": {},
   "source": [
    "Next, we're going to apply a tf-idf vectorizer to the data. We will apply the vectorizer to the lemmatized text. "
   ]
  },
  {
   "cell_type": "code",
   "execution_count": 63,
   "id": "9358ed4d-8108-4fef-9a97-0271544bd30f",
   "metadata": {},
   "outputs": [
    {
     "name": "stdout",
     "output_type": "stream",
     "text": [
      "(11541, 3552)\n"
     ]
    }
   ],
   "source": [
    "# Create a tfidf vectorizer object\n",
    "vectorizer = TfidfVectorizer(lowercase=True,\n",
    "                             stop_words='english',\n",
    "                             min_df=2,\n",
    "                             max_df=0.95,\n",
    "                             max_features=None)\n",
    "\n",
    "# Fit and transform\n",
    "dtm = vectorizer.fit_transform(tweets_binary['text_lemmatized'])\n",
    "\n",
    "# Get the tfidf values - features fed into the classifier\n",
    "X = np.asarray(dtm.todense())\n",
    "\n",
    "# Print the shape of the features\n",
    "print(X.shape)"
   ]
  },
  {
   "cell_type": "markdown",
   "id": "44a6a8e5-da30-4363-8f17-112a0fe94083",
   "metadata": {},
   "source": [
    "Now, we need to get the labels for each of the 11,541 tweets. We can do this by simply extracting the `airline_sentiment` column---`sklearn` is smart enough to handle the details later. Let's also check out the distribution of the labels, to get a sense for a good baseline:"
   ]
  },
  {
   "cell_type": "code",
   "execution_count": 64,
   "id": "0e7df4f3-0fb0-406f-9240-c9f9761eabea",
   "metadata": {},
   "outputs": [
    {
     "name": "stdout",
     "output_type": "stream",
     "text": [
      "airline_sentiment\n",
      "negative    9178\n",
      "positive    2363\n",
      "Name: count, dtype: int64\n"
     ]
    }
   ],
   "source": [
    "# Get the proporation of each class\n",
    "y = tweets_binary['airline_sentiment']\n",
    "print(y.value_counts())"
   ]
  },
  {
   "cell_type": "markdown",
   "id": "ee87ff74-3fbb-472a-b795-6f4d18fab215",
   "metadata": {},
   "source": [
    "Machine learning fundamentally requires that we learn the $\\beta_i$ values from a **training set**, and then evaluate the performance on a separately held **test set**. This ensures that we actually develop an algorithm that can **generalize**. We'll use the `train_test_split` function from `sklearn` to separate our data into two sets:"
   ]
  },
  {
   "cell_type": "code",
   "execution_count": 65,
   "id": "64cec8b9-14d9-4897-9c02-cc89fcf7b3c6",
   "metadata": {},
   "outputs": [],
   "source": [
    "# Train-test split\n",
    "X_train, X_test, y_train, y_test = train_test_split(X, y, test_size=0.15)"
   ]
  },
  {
   "cell_type": "markdown",
   "id": "066771d8-2f31-4646-9a1b-6d2b1b9b208c",
   "metadata": {},
   "source": [
    "In order to streamline the training process, we've written a `fit_logistic_regression` function you can use to easily train a model given the data inputs. \n",
    "\n",
    "Given the positive and positive classes are not balanced, we can tell the classifier to automatically assigning weights (i.e, the `class_weight` parameter) proportional to our data in order to have pay more attention to the minority class."
   ]
  },
  {
   "cell_type": "code",
   "execution_count": 66,
   "id": "d46de0b2-af00-4a1d-b4cd-31b96ce545d1",
   "metadata": {},
   "outputs": [],
   "source": [
    "def fit_logistic_regression(X, y):\n",
    "    '''Fits a logistic regression model to provided data.'''\n",
    "    model = LogisticRegressionCV(Cs=10,\n",
    "                                 penalty='l1',\n",
    "                                 cv=5,\n",
    "                                 solver='liblinear',\n",
    "                                 class_weight='balanced',\n",
    "                                 random_state=42,\n",
    "                                 refit=True).fit(X, y)\n",
    "    return model"
   ]
  },
  {
   "cell_type": "markdown",
   "id": "124aa7ea-1bc1-43e2-beeb-0ba2da9b2df9",
   "metadata": {},
   "source": [
    "We'll fit the model, and see how it performs on both the training and test sets:"
   ]
  },
  {
   "cell_type": "code",
   "execution_count": 67,
   "id": "773963bd-6603-4fad-884b-09ce60afab18",
   "metadata": {},
   "outputs": [],
   "source": [
    "# Fit the logistic regression model\n",
    "model = fit_logistic_regression(X_train, y_train)"
   ]
  },
  {
   "cell_type": "code",
   "execution_count": 68,
   "id": "e10d06c1-d884-45d4-a03d-dd5d40bf70aa",
   "metadata": {},
   "outputs": [
    {
     "name": "stdout",
     "output_type": "stream",
     "text": [
<<<<<<< HEAD
      "Training accuracy: 0.947293302069528\n",
      "Test accuracy: 0.890877598152425\n"
=======
      "Training accuracy: 0.9450504638597207\n",
      "Test accuracy: 0.894919168591224\n"
>>>>>>> f3eadd4 (minor edits learning goals)
     ]
    }
   ],
   "source": [
    "print(f\"Training accuracy: {model.score(X_train, y_train)}\")\n",
    "print(f\"Test accuracy: {model.score(X_test, y_test)}\")"
   ]
  },
  {
   "cell_type": "markdown",
   "id": "d4e186c5-1719-4deb-bdb4-614a9980f058",
   "metadata": {},
   "source": [
    "The model got ~94% accuracy on the training set, and ~89% on the test set - that's pretty good! The similarity between the two performances is also a good sign - it means we were able to generalize pretty well."
   ]
  },
  {
   "cell_type": "markdown",
   "id": "c11b5232-b9f5-471b-8269-ee529a6b1072",
   "metadata": {},
   "source": [
    "## Validating Model Performance on New Tweets\n",
    "\n",
    "Now that we have a trained model, there's nothing stopping us from using it on new data! The `model` object comes equipped with a `predict` function that we can use to evaluate on new text samples:"
   ]
  },
  {
   "cell_type": "code",
   "execution_count": 69,
   "id": "21c7ea47-4d82-4918-9875-d0520358de6e",
   "metadata": {},
   "outputs": [],
   "source": [
    "# Some new tweets\n",
    "new_tweets = [\"It's been 10hrs of delay @United please do your job.\",\n",
    "              'omg I am never flying on United again',\n",
    "              'I love @VirginAmerica so much #friendlystaff',\n",
    "              'food on Air France is great!']\n",
    "\n",
    "# First, we need to preprocess them\n",
    "new_tweets_processed = [lemmatize_text(preprocess(tweet)) for tweet in new_tweets]\n",
    "\n",
    "# Next, we need to vectorize them\n",
    "X_new = np.asarray(vectorizer.transform(new_tweets_processed).todense())"
   ]
  },
  {
   "cell_type": "code",
   "execution_count": 70,
   "id": "bf110a09-e99a-40fa-adef-51b1482da413",
   "metadata": {},
   "outputs": [
    {
     "data": {
      "text/plain": [
       "array(['negative', 'positive', 'positive', 'positive'], dtype=object)"
      ]
     },
     "execution_count": 70,
     "metadata": {},
     "output_type": "execute_result"
    }
   ],
   "source": [
    "# Run predictions\n",
    "model.predict(X_new)"
   ]
  },
  {
   "cell_type": "code",
   "execution_count": 71,
   "id": "d7f31f1f-1eeb-4811-819a-a6ccba08fe59",
   "metadata": {},
   "outputs": [
    {
     "data": {
      "text/plain": [
<<<<<<< HEAD
       "array([[9.96331788e-01, 3.66821186e-03],\n",
       "       [5.47273887e-01, 4.52726113e-01],\n",
       "       [7.91095902e-04, 9.99208904e-01],\n",
       "       [1.12107288e-01, 8.87892712e-01]])"
=======
       "array([[9.99574101e-01, 4.25898941e-04],\n",
       "       [4.11316697e-01, 5.88683303e-01],\n",
       "       [1.14362881e-03, 9.98856371e-01],\n",
       "       [1.30132288e-01, 8.69867712e-01]])"
>>>>>>> f3eadd4 (minor edits learning goals)
      ]
     },
     "execution_count": 71,
     "metadata": {},
     "output_type": "execute_result"
    }
   ],
   "source": [
    "# Get probabilities\n",
    "predicts = model.predict_proba(X_new)\n",
    "predicts"
   ]
  },
  {
   "cell_type": "code",
   "execution_count": 72,
   "id": "b987608b-4aa9-4c83-9453-97d939ed8e16",
   "metadata": {},
   "outputs": [
    {
     "name": "stdout",
     "output_type": "stream",
     "text": [
      "For the new tweet: It's been 10hrs of delay @United please do your job.\n",
<<<<<<< HEAD
      "The probability of being positive is 0.004\n",
      "\n",
      "For the new tweet: omg I am never flying on United again\n",
      "The probability of being positive is 0.453\n",
=======
      "The probability of being positive is 0.000\n",
      "\n",
      "For the new tweet: omg I am never flying on United again\n",
      "The probability of being positive is 0.589\n",
>>>>>>> f3eadd4 (minor edits learning goals)
      "\n",
      "For the new tweet: I love @VirginAmerica so much #friendlystaff\n",
      "The probability of being positive is 0.999\n",
      "\n",
      "For the new tweet: food on Air France is great!\n",
<<<<<<< HEAD
      "The probability of being positive is 0.888\n",
=======
      "The probability of being positive is 0.870\n",
>>>>>>> f3eadd4 (minor edits learning goals)
      "\n"
     ]
    }
   ],
   "source": [
    "# Retrieve the probability of being positive for each tweet\n",
    "for i, tweet in enumerate(new_tweets):\n",
    "    print(f\"For the new tweet: {tweet}\\n\"\n",
    "          f\"The probability of being positive is {predicts[i][1]:.3f}\\n\")"
   ]
  },
  {
   "cell_type": "markdown",
   "id": "88ec2ccf-e339-4f08-bc86-9d2aa42864d6",
   "metadata": {},
   "source": [
    "Those predictions look pretty good! Feel free to give the model a try on other tweets you write."
   ]
  },
  {
   "cell_type": "markdown",
   "id": "310dac39-4753-4ae8-8dfa-e65e5824cccb",
   "metadata": {},
   "source": [
    "## Interpreting the Model Coefficients\n",
    "\n",
    "The nice thing about logistic regression is that it is **interpretable**. Take a look at the logit again:\n",
    "\n",
    "$$\n",
    "L = \\beta_1 x_1 + \\beta_2 x_2 + \\cdots + \\beta_T x_T\n",
    "$$\n",
    "\n",
    "If $L$ is very positive, the sigmoid will make sure that the probability $p$ is close to 1 (positive sentiment). If $L$ is very negative, the sigmoid will make sure that the probability $p$ is close to 0 (negative sentiment). So, by looking at the coefficients $\\beta_i$, we can see how each feature (token) impacts the eventual prediction. If $\\beta_i >0$, then the presence of that feature implies positive sentiment, according to the model. If  $\\beta_i < 0$, then the presence of that feature implies negative sentiment, according to the model.\n",
    "\n",
    "So, let's take a look at the fitted coefficients to see if what we see makes sense! We can access them using the `coef_` member, and we can match each coefficient to the tokens from the vectorizer:"
   ]
  },
  {
   "cell_type": "code",
   "execution_count": 73,
   "id": "6dcb6ef1-13b3-437e-813c-7118911847a4",
   "metadata": {},
   "outputs": [],
   "source": [
    "# Get coefs of all features\n",
    "coefs = model.coef_.ravel()\n",
    "\n",
    "# Get all tokens\n",
    "tokens = vectorizer.get_feature_names_out()\n",
    "\n",
    "# Create a token-coef dataframe\n",
    "importance = pd.DataFrame()\n",
    "importance['token'] = tokens\n",
    "importance['coefs'] = coefs"
   ]
  },
  {
   "cell_type": "code",
   "execution_count": 74,
   "id": "e5598e78-924d-41a5-a442-dc9c32ce2df3",
   "metadata": {},
   "outputs": [
    {
     "data": {
      "text/html": [
       "<div>\n",
       "<style scoped>\n",
       "    .dataframe tbody tr th:only-of-type {\n",
       "        vertical-align: middle;\n",
       "    }\n",
       "\n",
       "    .dataframe tbody tr th {\n",
       "        vertical-align: top;\n",
       "    }\n",
       "\n",
       "    .dataframe thead th {\n",
       "        text-align: right;\n",
       "    }\n",
       "</style>\n",
       "<table border=\"1\" class=\"dataframe\">\n",
       "  <thead>\n",
       "    <tr style=\"text-align: right;\">\n",
       "      <th></th>\n",
       "      <th>token</th>\n",
       "      <th>coefs</th>\n",
       "    </tr>\n",
       "  </thead>\n",
       "  <tbody>\n",
       "    <tr>\n",
       "      <th>0</th>\n",
       "      <td>aa</td>\n",
<<<<<<< HEAD
       "      <td>-0.572953</td>\n",
=======
       "      <td>-2.155716</td>\n",
>>>>>>> f3eadd4 (minor edits learning goals)
       "    </tr>\n",
       "    <tr>\n",
       "      <th>1</th>\n",
       "      <td>aadv</td>\n",
       "      <td>0.000000</td>\n",
       "    </tr>\n",
       "    <tr>\n",
       "      <th>2</th>\n",
       "      <td>aadvantage</td>\n",
       "      <td>0.000000</td>\n",
       "    </tr>\n",
       "    <tr>\n",
       "      <th>3</th>\n",
       "      <td>aal</td>\n",
       "      <td>0.000000</td>\n",
       "    </tr>\n",
       "    <tr>\n",
       "      <th>4</th>\n",
       "      <td>abandon</td>\n",
       "      <td>0.000000</td>\n",
       "    </tr>\n",
       "  </tbody>\n",
       "</table>\n",
       "</div>"
      ],
      "text/plain": [
       "        token     coefs\n",
<<<<<<< HEAD
       "0          aa -0.572953\n",
=======
       "0          aa -2.155716\n",
>>>>>>> f3eadd4 (minor edits learning goals)
       "1        aadv  0.000000\n",
       "2  aadvantage  0.000000\n",
       "3         aal  0.000000\n",
       "4     abandon  0.000000"
      ]
     },
     "execution_count": 74,
     "metadata": {},
     "output_type": "execute_result"
    }
   ],
   "source": [
    "# Take a look the dataframe\n",
    "importance.head()"
   ]
  },
  {
   "cell_type": "code",
   "execution_count": 75,
   "id": "3e63814e-9c0d-4f7a-a5e0-72cca2758d71",
   "metadata": {},
   "outputs": [
    {
     "data": {
      "text/html": [
       "<div>\n",
       "<style scoped>\n",
       "    .dataframe tbody tr th:only-of-type {\n",
       "        vertical-align: middle;\n",
       "    }\n",
       "\n",
       "    .dataframe tbody tr th {\n",
       "        vertical-align: top;\n",
       "    }\n",
       "\n",
       "    .dataframe thead th {\n",
       "        text-align: right;\n",
       "    }\n",
       "</style>\n",
       "<table border=\"1\" class=\"dataframe\">\n",
       "  <thead>\n",
       "    <tr style=\"text-align: right;\">\n",
       "      <th></th>\n",
       "      <th>token</th>\n",
       "      <th>coefs</th>\n",
       "    </tr>\n",
       "  </thead>\n",
       "  <tbody>\n",
       "    <tr>\n",
<<<<<<< HEAD
       "      <th>2727</th>\n",
       "      <td>ruin</td>\n",
       "      <td>-10.777440</td>\n",
       "    </tr>\n",
       "    <tr>\n",
       "      <th>2724</th>\n",
       "      <td>rude</td>\n",
       "      <td>-10.172887</td>\n",
       "    </tr>\n",
       "    <tr>\n",
       "      <th>2784</th>\n",
       "      <td>screw</td>\n",
       "      <td>-9.112652</td>\n",
       "    </tr>\n",
       "    <tr>\n",
       "      <th>1505</th>\n",
       "      <td>hour</td>\n",
       "      <td>-8.341594</td>\n",
       "    </tr>\n",
       "    <tr>\n",
       "      <th>1513</th>\n",
       "      <td>hrs</td>\n",
       "      <td>-8.190845</td>\n",
       "    </tr>\n",
       "    <tr>\n",
       "      <th>2280</th>\n",
       "      <td>pay</td>\n",
       "      <td>-8.161820</td>\n",
=======
       "      <th>2723</th>\n",
       "      <td>rude</td>\n",
       "      <td>-10.117485</td>\n",
       "    </tr>\n",
       "    <tr>\n",
       "      <th>2783</th>\n",
       "      <td>screw</td>\n",
       "      <td>-8.932190</td>\n",
       "    </tr>\n",
       "    <tr>\n",
       "      <th>1504</th>\n",
       "      <td>hour</td>\n",
       "      <td>-8.701133</td>\n",
       "    </tr>\n",
       "    <tr>\n",
       "      <th>1512</th>\n",
       "      <td>hrs</td>\n",
       "      <td>-8.599821</td>\n",
       "    </tr>\n",
       "    <tr>\n",
       "      <th>2726</th>\n",
       "      <td>ruin</td>\n",
       "      <td>-8.456035</td>\n",
       "    </tr>\n",
       "    <tr>\n",
       "      <th>2279</th>\n",
       "      <td>pay</td>\n",
       "      <td>-7.950725</td>\n",
       "    </tr>\n",
       "    <tr>\n",
       "      <th>1871</th>\n",
       "      <td>luggage</td>\n",
       "      <td>-7.915192</td>\n",
>>>>>>> f3eadd4 (minor edits learning goals)
       "    </tr>\n",
       "    <tr>\n",
       "      <th>458</th>\n",
       "      <td>cancel</td>\n",
<<<<<<< HEAD
       "      <td>-7.533190</td>\n",
       "    </tr>\n",
       "    <tr>\n",
       "      <th>1748</th>\n",
       "      <td>lack</td>\n",
       "      <td>-7.405537</td>\n",
       "    </tr>\n",
       "    <tr>\n",
       "      <th>2166</th>\n",
       "      <td>online</td>\n",
       "      <td>-7.240267</td>\n",
       "    </tr>\n",
       "    <tr>\n",
       "      <th>3443</th>\n",
       "      <td>waste</td>\n",
       "      <td>-6.924128</td>\n",
=======
       "      <td>-7.235145</td>\n",
       "    </tr>\n",
       "    <tr>\n",
       "      <th>3033</th>\n",
       "      <td>strand</td>\n",
       "      <td>-7.207525</td>\n",
       "    </tr>\n",
       "    <tr>\n",
       "      <th>1747</th>\n",
       "      <td>lack</td>\n",
       "      <td>-7.051817</td>\n",
>>>>>>> f3eadd4 (minor edits learning goals)
       "    </tr>\n",
       "  </tbody>\n",
       "</table>\n",
       "</div>"
      ],
      "text/plain": [
<<<<<<< HEAD
       "       token      coefs\n",
       "2727    ruin -10.777440\n",
       "2724    rude -10.172887\n",
       "2784   screw  -9.112652\n",
       "1505    hour  -8.341594\n",
       "1513     hrs  -8.190845\n",
       "2280     pay  -8.161820\n",
       "458   cancel  -7.533190\n",
       "1748    lack  -7.405537\n",
       "2166  online  -7.240267\n",
       "3443   waste  -6.924128"
=======
       "        token      coefs\n",
       "2723     rude -10.117485\n",
       "2783    screw  -8.932190\n",
       "1504     hour  -8.701133\n",
       "1512      hrs  -8.599821\n",
       "2726     ruin  -8.456035\n",
       "2279      pay  -7.950725\n",
       "1871  luggage  -7.915192\n",
       "458    cancel  -7.235145\n",
       "3033   strand  -7.207525\n",
       "1747     lack  -7.051817"
>>>>>>> f3eadd4 (minor edits learning goals)
      ]
     },
     "execution_count": 75,
     "metadata": {},
     "output_type": "execute_result"
    }
   ],
   "source": [
    "# Get the top 10 tokens with lowest coefs\n",
    "neg_coef = importance.sort_values('coefs').head(10)\n",
    "neg_coef"
   ]
  },
  {
   "cell_type": "code",
   "execution_count": 76,
   "id": "0d596bf7-753c-40cd-ac52-4a37163650ae",
   "metadata": {},
   "outputs": [
    {
     "data": {
      "text/html": [
       "<div>\n",
       "<style scoped>\n",
       "    .dataframe tbody tr th:only-of-type {\n",
       "        vertical-align: middle;\n",
       "    }\n",
       "\n",
       "    .dataframe tbody tr th {\n",
       "        vertical-align: top;\n",
       "    }\n",
       "\n",
       "    .dataframe thead th {\n",
       "        text-align: right;\n",
       "    }\n",
       "</style>\n",
       "<table border=\"1\" class=\"dataframe\">\n",
       "  <thead>\n",
       "    <tr style=\"text-align: right;\">\n",
       "      <th></th>\n",
       "      <th>token</th>\n",
       "      <th>coefs</th>\n",
       "    </tr>\n",
       "  </thead>\n",
       "  <tbody>\n",
       "    <tr>\n",
<<<<<<< HEAD
       "      <th>238</th>\n",
       "      <td>avert</td>\n",
       "      <td>7.799289</td>\n",
=======
       "      <th>3213</th>\n",
       "      <td>toiletry</td>\n",
       "      <td>8.161856</td>\n",
       "    </tr>\n",
       "    <tr>\n",
       "      <th>3497</th>\n",
       "      <td>wonderful</td>\n",
       "      <td>8.208238</td>\n",
>>>>>>> f3eadd4 (minor edits learning goals)
       "    </tr>\n",
       "    <tr>\n",
       "      <th>115</th>\n",
       "      <td>amazing</td>\n",
<<<<<<< HEAD
       "      <td>7.861575</td>\n",
       "    </tr>\n",
       "    <tr>\n",
       "      <th>1861</th>\n",
       "      <td>love</td>\n",
       "      <td>8.450768</td>\n",
       "    </tr>\n",
       "    <tr>\n",
       "      <th>3498</th>\n",
       "      <td>wonderful</td>\n",
       "      <td>8.633393</td>\n",
       "    </tr>\n",
       "    <tr>\n",
       "      <th>1373</th>\n",
       "      <td>great</td>\n",
       "      <td>8.953736</td>\n",
       "    </tr>\n",
       "    <tr>\n",
       "      <th>3105</th>\n",
       "      <td>sweet</td>\n",
       "      <td>9.708929</td>\n",
=======
       "      <td>8.243425</td>\n",
>>>>>>> f3eadd4 (minor edits learning goals)
       "    </tr>\n",
       "    <tr>\n",
       "      <th>1089</th>\n",
       "      <td>excellent</td>\n",
<<<<<<< HEAD
       "      <td>9.805253</td>\n",
=======
       "      <td>8.339492</td>\n",
       "    </tr>\n",
       "    <tr>\n",
       "      <th>616</th>\n",
       "      <td>comfortable</td>\n",
       "      <td>8.656849</td>\n",
       "    </tr>\n",
       "    <tr>\n",
       "      <th>1372</th>\n",
       "      <td>great</td>\n",
       "      <td>8.854635</td>\n",
>>>>>>> f3eadd4 (minor edits learning goals)
       "    </tr>\n",
       "    <tr>\n",
       "      <th>250</th>\n",
       "      <td>awesome</td>\n",
<<<<<<< HEAD
       "      <td>10.067500</td>\n",
=======
       "      <td>9.847711</td>\n",
>>>>>>> f3eadd4 (minor edits learning goals)
       "    </tr>\n",
       "    <tr>\n",
       "      <th>3104</th>\n",
       "      <td>sweet</td>\n",
       "      <td>10.131521</td>\n",
       "    </tr>\n",
       "    <tr>\n",
       "      <th>1745</th>\n",
       "      <td>kudo</td>\n",
<<<<<<< HEAD
       "      <td>10.606268</td>\n",
=======
       "      <td>10.876552</td>\n",
>>>>>>> f3eadd4 (minor edits learning goals)
       "    </tr>\n",
       "    <tr>\n",
       "      <th>3163</th>\n",
       "      <td>thank</td>\n",
<<<<<<< HEAD
       "      <td>16.615860</td>\n",
=======
       "      <td>16.543802</td>\n",
>>>>>>> f3eadd4 (minor edits learning goals)
       "    </tr>\n",
       "  </tbody>\n",
       "</table>\n",
       "</div>"
      ],
      "text/plain": [
<<<<<<< HEAD
       "          token      coefs\n",
       "238       avert   7.799289\n",
       "115     amazing   7.861575\n",
       "1861       love   8.450768\n",
       "3498  wonderful   8.633393\n",
       "1373      great   8.953736\n",
       "3105      sweet   9.708929\n",
       "1089  excellent   9.805253\n",
       "250     awesome  10.067500\n",
       "1746       kudo  10.606268\n",
       "3164      thank  16.615860"
=======
       "            token      coefs\n",
       "3213     toiletry   8.161856\n",
       "3497    wonderful   8.208238\n",
       "115       amazing   8.243425\n",
       "1089    excellent   8.339492\n",
       "616   comfortable   8.656849\n",
       "1372        great   8.854635\n",
       "250       awesome   9.847711\n",
       "3104        sweet  10.131521\n",
       "1745         kudo  10.876552\n",
       "3163        thank  16.543802"
>>>>>>> f3eadd4 (minor edits learning goals)
      ]
     },
     "execution_count": 76,
     "metadata": {},
     "output_type": "execute_result"
    }
   ],
   "source": [
    "# Get the top 10 tokens with highest coefs\n",
    "pos_coef = importance.sort_values('coefs').tail(10)\n",
    "pos_coef "
   ]
  },
  {
   "cell_type": "markdown",
   "id": "7b3b7893-caa0-4281-98f0-92c9e7b31953",
   "metadata": {},
   "source": [
    "Similar to tf-idf values, we can also plot the top 10 tokens with the highest/lowest coefficients. "
   ]
  },
  {
   "cell_type": "code",
   "execution_count": 77,
   "id": "17b1223b-e5c1-4992-bb7e-0a99651c3729",
   "metadata": {},
   "outputs": [
    {
     "data": {
<<<<<<< HEAD
      "image/png": "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",
=======
      "image/png": "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",
>>>>>>> f3eadd4 (minor edits learning goals)
      "text/plain": [
       "<Figure size 640x480 with 1 Axes>"
      ]
     },
     "metadata": {},
     "output_type": "display_data"
    }
   ],
   "source": [
    "# Plot the top 10 tokens that have the highest coefs\n",
    "pos_coef.sort_values('coefs', ascending=False).plot(kind='barh', \n",
    "                                                    xlim=(0, 18),\n",
    "                                                    x='token',\n",
    "                                                    color='cornflowerblue',\n",
    "                                                    title='Top 10 tokens with highest coeffient values');"
   ]
  },
  {
   "cell_type": "code",
   "execution_count": 78,
   "id": "159e00c6-8a9f-484f-aea2-853fd5512083",
   "metadata": {},
   "outputs": [
    {
     "data": {
<<<<<<< HEAD
      "image/png": "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",
=======
      "image/png": "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",
>>>>>>> f3eadd4 (minor edits learning goals)
      "text/plain": [
       "<Figure size 640x480 with 1 Axes>"
      ]
     },
     "metadata": {},
     "output_type": "display_data"
    }
   ],
   "source": [
    "# Plot the top 10 tokens that have the lowest coefs\n",
    "neg_coef.plot(kind='barh', \n",
    "              xlim=(0, -18),\n",
    "              x='token',\n",
    "              color='darksalmon',\n",
    "              title='Top 10 tokens with lowest coeffient values');"
   ]
  },
  {
   "cell_type": "markdown",
   "id": "2eed48ea-fd35-4585-9b98-90456aaee447",
   "metadata": {},
   "source": [
    "This makes sense! Tokens like \"ruin\", \"rude\", and \"hrs\" imply negative sentiment, while tokens like \"thank\", \"awesome\", \"wonderful\" imply positive sentiment. \n",
    "\n",
    "🔔 **Question**: Compare these two plots with the previous two on tf-idf values. What you have noticed? What does this tell you about how people use this token in their tweets?"
   ]
  },
  {
   "cell_type": "markdown",
   "id": "a4430fbd-108f-4a02-ab64-ef36c5949e56",
   "metadata": {},
   "source": [
    "<div class=\"alert alert-success\">\n",
    "\n",
    "## ❗ Key Points\n",
    "\n",
    "* A Bag-of-Words representation is a simple method to transform our text data to numbers. It focuses on word frequency but not word order. \n",
    "* A TF-IDF representation is a step further; it also considers if a certain word distinctively appears in one document or occurs uniformally across all documents. \n",
    "* With a numerical representation, we can perform a range of text classification task, such as sentiment analysis. \n",
    "\n",
    "</div>"
   ]
  }
 ],
 "metadata": {
  "kernelspec": {
   "display_name": "Python 3 (ipykernel)",
   "language": "python",
   "name": "python3"
  },
  "language_info": {
   "codemirror_mode": {
    "name": "ipython",
    "version": 3
   },
   "file_extension": ".py",
   "mimetype": "text/x-python",
   "name": "python",
   "nbconvert_exporter": "python",
   "pygments_lexer": "ipython3",
   "version": "3.11.4"
  }
 },
 "nbformat": 4,
 "nbformat_minor": 5
}
